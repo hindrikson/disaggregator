{
 "cells": [
  {
   "cell_type": "code",
   "execution_count": 1,
   "metadata": {
    "jukit_cell_id": "C59gM3jbDd"
   },
   "outputs": [],
   "source": [
    "from disaggregator import config, data, spatial, temporal, plot\n",
    "import pandas as pd\n",
    "import matplotlib.pyplot as plt"
   ]
  },
  {
   "cell_type": "markdown",
   "metadata": {
    "jukit_cell_id": "ALzqhJD68K"
   },
   "source": [
    "# Power by 'Time Use Survey' (ZVE, only 2015)"
   ]
  },
  {
   "cell_type": "markdown",
   "metadata": {
    "jukit_cell_id": "5rXU1S6Stj"
   },
   "source": [
    "Get spatial data in [MWh] that shall be disaggregated temporally"
   ]
  },
  {
   "cell_type": "code",
   "execution_count": 2,
   "metadata": {
    "jukit_cell_id": "7bZ4IHSoB2"
   },
   "outputs": [
    {
     "name": "stderr",
     "output_type": "stream",
     "text": [
      "2025-09-25 14:26:18 disaggregator.config: WARNING  The mapping of the AGS to NUTS-3 regions is done using the file t_nuts3_lk.csv which is for a unknown year. This may not correspond entirely to the AGS number of the data fetched for another year from opendata.\n",
      "2025-09-25 14:26:18 disaggregator.config: WARNING  The mapping of the AGS to NUTS-3 regions is done using the file t_nuts3_lk.csv which is for a unknown year. This may not correspond entirely to the AGS number of the data fetched for another year from opendata.\n",
      "2025-09-25 14:26:18 disaggregator.config: WARNING  The mapping of the AGS to NUTS-3 regions is done using the file t_nuts3_lk.csv which is for a unknown year. This may not correspond entirely to the AGS number of the data fetched for another year from opendata.\n",
      "2025-09-25 14:26:18 disaggregator.config: WARNING  The mapping of the AGS to NUTS-3 regions is done using the file t_nuts3_lk.csv which is for a unknown year. This may not correspond entirely to the AGS number of the data fetched for another year from opendata.\n",
      "2025-09-25 14:26:18 disaggregator.config: WARNING  The mapping of the AGS to NUTS-3 regions is done using the file t_nuts3_lk.csv which is for a unknown year. This may not correspond entirely to the AGS number of the data fetched for another year from opendata.\n",
      "2025-09-25 14:26:18 disaggregator.config: WARNING  The mapping of the AGS to NUTS-3 regions is done using the file t_nuts3_lk.csv which is for a unknown year. This may not correspond entirely to the AGS number of the data fetched for another year from opendata.\n",
      "2025-09-25 14:26:18 disaggregator.config: WARNING  The mapping of the AGS to NUTS-3 regions is done using the file t_nuts3_lk.csv which is for a unknown year. This may not correspond entirely to the AGS number of the data fetched for another year from opendata.\n",
      "2025-09-25 14:26:18 disaggregator.config: WARNING  The mapping of the AGS to NUTS-3 regions is done using the file t_nuts3_lk.csv which is for a unknown year. This may not correspond entirely to the AGS number of the data fetched for another year from opendata.\n"
     ]
    },
    {
     "data": {
      "text/plain": [
       "nuts3\n",
       "DE111    1.162713e+06\n",
       "DE112    6.942694e+05\n",
       "DE113    9.678796e+05\n",
       "DE114    4.479099e+05\n",
       "DE115    9.955292e+05\n",
       "             ...     \n",
       "DEG0K    1.156523e+05\n",
       "DEG0L    1.437641e+05\n",
       "DEG0M    1.262784e+05\n",
       "DEG0N    5.985672e+04\n",
       "DEG0P    1.821599e+05\n",
       "Name: value, Length: 401, dtype: float64"
      ]
     },
     "execution_count": 2,
     "metadata": {},
     "output_type": "execute_result"
    }
   ],
   "source": [
    "df_spat = spatial.disagg_households_power(\"population\", weight_by_income=True) * 1e3\n",
    "df_spat"
   ]
  },
  {
   "cell_type": "markdown",
   "metadata": {
    "jukit_cell_id": "XImW2nOia0"
   },
   "source": [
    "Calculate temporal distribution keys based on the ZVE. They will be saved in your `data_out` folder. This step can take up to 60 Minutes but is only necessary once."
   ]
  },
  {
   "cell_type": "code",
   "execution_count": 3,
   "metadata": {
    "jukit_cell_id": "PUglO2jaVD"
   },
   "outputs": [
    {
     "name": "stderr",
     "output_type": "stream",
     "text": [
      "2025-09-25 14:26:18 disaggregator.config: WARNING  The mapping of the AGS to NUTS-3 regions is done using the file t_nuts3_lk.csv which is for a unknown year. This may not correspond entirely to the AGS number of the data fetched for another year from opendata.\n",
      "2025-09-25 14:26:18 disaggregator.config: WARNING  The mapping of the AGS to NUTS-3 regions is done using the file t_nuts3_lk.csv which is for a unknown year. This may not correspond entirely to the AGS number of the data fetched for another year from opendata.\n"
     ]
    },
    {
     "name": "stdout",
     "output_type": "stream",
     "text": [
      "2025-09-25 14:26:18 disaggregator.data: INFO     Merging old Göttingen+Osterode to new NUTS-v2016 region.\n",
      "2025-09-25 14:26:18 disaggregator.data: INFO     Downloading shape NUTS-3 data for year 2016.\n"
     ]
    },
    {
     "name": "stderr",
     "output_type": "stream",
     "text": [
      "/home/rhindrikson/miniforge3/envs/disag/lib/python3.11/site-packages/pyproj/crs/crs.py:143: FutureWarning: '+init=<authority>:<code>' syntax is deprecated. '<authority>:<code>' is the preferred initialization method. When making the change, be mindful of axis order changes: https://pyproj4.github.io/pyproj/stable/gotchas.html#axis-order-changes-in-proj-6\n",
      "  in_crs_string = _prepare_from_proj_string(in_crs_string)\n",
      "2025-09-25 14:26:39 disaggregator.config: WARNING  Indices not common to both dataframes: {'DEB1D', 'DEB16', 'DEB1C', 'DE80O', 'DE80M', 'DE80K', 'DEB19', 'DE80J', 'DE80N', 'DE80L'}\n",
      "2025-09-25 14:26:39 disaggregator.temporal: WARNING  The following regions are excluded from DE due to missing household data: ['DE80J', 'DE80K', 'DE80L', 'DE80M', 'DE80N', 'DE80O', 'DEB1C', 'DEB1D']\n",
      "Creating ZVE-profiles: 100%|███████████████████████| 393/393 [12:04<00:00,  1.84s/it]\n"
     ]
    },
    {
     "data": {
      "text/html": [
       "<div>\n",
       "<style scoped>\n",
       "    .dataframe tbody tr th:only-of-type {\n",
       "        vertical-align: middle;\n",
       "    }\n",
       "\n",
       "    .dataframe tbody tr th {\n",
       "        vertical-align: top;\n",
       "    }\n",
       "\n",
       "    .dataframe thead th {\n",
       "        text-align: right;\n",
       "    }\n",
       "</style>\n",
       "<table border=\"1\" class=\"dataframe\">\n",
       "  <thead>\n",
       "    <tr style=\"text-align: right;\">\n",
       "      <th>nuts3</th>\n",
       "      <th>DE600</th>\n",
       "      <th>DE711</th>\n",
       "      <th>DE712</th>\n",
       "      <th>DE713</th>\n",
       "      <th>DE714</th>\n",
       "      <th>DE715</th>\n",
       "      <th>DE737</th>\n",
       "      <th>DE803</th>\n",
       "      <th>DE804</th>\n",
       "      <th>DE80L</th>\n",
       "      <th>...</th>\n",
       "      <th>DEG07</th>\n",
       "      <th>DEG0P</th>\n",
       "      <th>DEF0B</th>\n",
       "      <th>DEF0C</th>\n",
       "      <th>DEF0D</th>\n",
       "      <th>DEF0E</th>\n",
       "      <th>DEF0F</th>\n",
       "      <th>DEG0L</th>\n",
       "      <th>DEG0M</th>\n",
       "      <th>DEG0N</th>\n",
       "    </tr>\n",
       "  </thead>\n",
       "  <tbody>\n",
       "    <tr>\n",
       "      <th>2015-01-01 00:00:00</th>\n",
       "      <td>0.000053</td>\n",
       "      <td>0.000053</td>\n",
       "      <td>0.000053</td>\n",
       "      <td>0.000053</td>\n",
       "      <td>0.000053</td>\n",
       "      <td>0.000053</td>\n",
       "      <td>0.000053</td>\n",
       "      <td>0.000053</td>\n",
       "      <td>0.000053</td>\n",
       "      <td>NaN</td>\n",
       "      <td>...</td>\n",
       "      <td>0.000053</td>\n",
       "      <td>0.000053</td>\n",
       "      <td>0.000053</td>\n",
       "      <td>0.000053</td>\n",
       "      <td>0.000053</td>\n",
       "      <td>0.000053</td>\n",
       "      <td>0.000053</td>\n",
       "      <td>0.000053</td>\n",
       "      <td>0.000053</td>\n",
       "      <td>0.000053</td>\n",
       "    </tr>\n",
       "    <tr>\n",
       "      <th>2015-01-01 01:00:00</th>\n",
       "      <td>0.000045</td>\n",
       "      <td>0.000045</td>\n",
       "      <td>0.000045</td>\n",
       "      <td>0.000045</td>\n",
       "      <td>0.000045</td>\n",
       "      <td>0.000045</td>\n",
       "      <td>0.000045</td>\n",
       "      <td>0.000045</td>\n",
       "      <td>0.000045</td>\n",
       "      <td>NaN</td>\n",
       "      <td>...</td>\n",
       "      <td>0.000045</td>\n",
       "      <td>0.000045</td>\n",
       "      <td>0.000045</td>\n",
       "      <td>0.000045</td>\n",
       "      <td>0.000045</td>\n",
       "      <td>0.000045</td>\n",
       "      <td>0.000045</td>\n",
       "      <td>0.000045</td>\n",
       "      <td>0.000045</td>\n",
       "      <td>0.000045</td>\n",
       "    </tr>\n",
       "    <tr>\n",
       "      <th>2015-01-01 02:00:00</th>\n",
       "      <td>0.000042</td>\n",
       "      <td>0.000042</td>\n",
       "      <td>0.000042</td>\n",
       "      <td>0.000042</td>\n",
       "      <td>0.000042</td>\n",
       "      <td>0.000042</td>\n",
       "      <td>0.000042</td>\n",
       "      <td>0.000042</td>\n",
       "      <td>0.000042</td>\n",
       "      <td>NaN</td>\n",
       "      <td>...</td>\n",
       "      <td>0.000042</td>\n",
       "      <td>0.000042</td>\n",
       "      <td>0.000042</td>\n",
       "      <td>0.000042</td>\n",
       "      <td>0.000042</td>\n",
       "      <td>0.000042</td>\n",
       "      <td>0.000042</td>\n",
       "      <td>0.000042</td>\n",
       "      <td>0.000042</td>\n",
       "      <td>0.000042</td>\n",
       "    </tr>\n",
       "    <tr>\n",
       "      <th>2015-01-01 03:00:00</th>\n",
       "      <td>0.000041</td>\n",
       "      <td>0.000041</td>\n",
       "      <td>0.000041</td>\n",
       "      <td>0.000041</td>\n",
       "      <td>0.000041</td>\n",
       "      <td>0.000041</td>\n",
       "      <td>0.000041</td>\n",
       "      <td>0.000041</td>\n",
       "      <td>0.000041</td>\n",
       "      <td>NaN</td>\n",
       "      <td>...</td>\n",
       "      <td>0.000041</td>\n",
       "      <td>0.000041</td>\n",
       "      <td>0.000041</td>\n",
       "      <td>0.000041</td>\n",
       "      <td>0.000041</td>\n",
       "      <td>0.000041</td>\n",
       "      <td>0.000041</td>\n",
       "      <td>0.000041</td>\n",
       "      <td>0.000041</td>\n",
       "      <td>0.000041</td>\n",
       "    </tr>\n",
       "    <tr>\n",
       "      <th>2015-01-01 04:00:00</th>\n",
       "      <td>0.000047</td>\n",
       "      <td>0.000047</td>\n",
       "      <td>0.000047</td>\n",
       "      <td>0.000047</td>\n",
       "      <td>0.000047</td>\n",
       "      <td>0.000047</td>\n",
       "      <td>0.000047</td>\n",
       "      <td>0.000047</td>\n",
       "      <td>0.000047</td>\n",
       "      <td>NaN</td>\n",
       "      <td>...</td>\n",
       "      <td>0.000047</td>\n",
       "      <td>0.000047</td>\n",
       "      <td>0.000047</td>\n",
       "      <td>0.000047</td>\n",
       "      <td>0.000047</td>\n",
       "      <td>0.000047</td>\n",
       "      <td>0.000047</td>\n",
       "      <td>0.000047</td>\n",
       "      <td>0.000047</td>\n",
       "      <td>0.000047</td>\n",
       "    </tr>\n",
       "    <tr>\n",
       "      <th>...</th>\n",
       "      <td>...</td>\n",
       "      <td>...</td>\n",
       "      <td>...</td>\n",
       "      <td>...</td>\n",
       "      <td>...</td>\n",
       "      <td>...</td>\n",
       "      <td>...</td>\n",
       "      <td>...</td>\n",
       "      <td>...</td>\n",
       "      <td>...</td>\n",
       "      <td>...</td>\n",
       "      <td>...</td>\n",
       "      <td>...</td>\n",
       "      <td>...</td>\n",
       "      <td>...</td>\n",
       "      <td>...</td>\n",
       "      <td>...</td>\n",
       "      <td>...</td>\n",
       "      <td>...</td>\n",
       "      <td>...</td>\n",
       "      <td>...</td>\n",
       "    </tr>\n",
       "    <tr>\n",
       "      <th>2015-12-31 19:00:00</th>\n",
       "      <td>0.000187</td>\n",
       "      <td>0.000189</td>\n",
       "      <td>0.000189</td>\n",
       "      <td>0.000189</td>\n",
       "      <td>0.000189</td>\n",
       "      <td>0.000189</td>\n",
       "      <td>0.000188</td>\n",
       "      <td>0.000187</td>\n",
       "      <td>0.000187</td>\n",
       "      <td>NaN</td>\n",
       "      <td>...</td>\n",
       "      <td>0.000188</td>\n",
       "      <td>0.000189</td>\n",
       "      <td>0.000187</td>\n",
       "      <td>0.000187</td>\n",
       "      <td>0.000187</td>\n",
       "      <td>0.000187</td>\n",
       "      <td>0.000187</td>\n",
       "      <td>0.000188</td>\n",
       "      <td>0.000188</td>\n",
       "      <td>0.000189</td>\n",
       "    </tr>\n",
       "    <tr>\n",
       "      <th>2015-12-31 20:00:00</th>\n",
       "      <td>0.00018</td>\n",
       "      <td>0.000182</td>\n",
       "      <td>0.000182</td>\n",
       "      <td>0.000182</td>\n",
       "      <td>0.000182</td>\n",
       "      <td>0.000182</td>\n",
       "      <td>0.000181</td>\n",
       "      <td>0.00018</td>\n",
       "      <td>0.00018</td>\n",
       "      <td>NaN</td>\n",
       "      <td>...</td>\n",
       "      <td>0.000181</td>\n",
       "      <td>0.000182</td>\n",
       "      <td>0.00018</td>\n",
       "      <td>0.00018</td>\n",
       "      <td>0.00018</td>\n",
       "      <td>0.00018</td>\n",
       "      <td>0.00018</td>\n",
       "      <td>0.000181</td>\n",
       "      <td>0.000181</td>\n",
       "      <td>0.000181</td>\n",
       "    </tr>\n",
       "    <tr>\n",
       "      <th>2015-12-31 21:00:00</th>\n",
       "      <td>0.00017</td>\n",
       "      <td>0.000172</td>\n",
       "      <td>0.000172</td>\n",
       "      <td>0.000172</td>\n",
       "      <td>0.000172</td>\n",
       "      <td>0.000172</td>\n",
       "      <td>0.000171</td>\n",
       "      <td>0.00017</td>\n",
       "      <td>0.00017</td>\n",
       "      <td>NaN</td>\n",
       "      <td>...</td>\n",
       "      <td>0.000171</td>\n",
       "      <td>0.000171</td>\n",
       "      <td>0.00017</td>\n",
       "      <td>0.000169</td>\n",
       "      <td>0.00017</td>\n",
       "      <td>0.00017</td>\n",
       "      <td>0.00017</td>\n",
       "      <td>0.000171</td>\n",
       "      <td>0.000171</td>\n",
       "      <td>0.000171</td>\n",
       "    </tr>\n",
       "    <tr>\n",
       "      <th>2015-12-31 22:00:00</th>\n",
       "      <td>0.000128</td>\n",
       "      <td>0.000129</td>\n",
       "      <td>0.000129</td>\n",
       "      <td>0.000129</td>\n",
       "      <td>0.000129</td>\n",
       "      <td>0.00013</td>\n",
       "      <td>0.000129</td>\n",
       "      <td>0.000128</td>\n",
       "      <td>0.000128</td>\n",
       "      <td>NaN</td>\n",
       "      <td>...</td>\n",
       "      <td>0.000129</td>\n",
       "      <td>0.000129</td>\n",
       "      <td>0.000128</td>\n",
       "      <td>0.000128</td>\n",
       "      <td>0.000128</td>\n",
       "      <td>0.000128</td>\n",
       "      <td>0.000128</td>\n",
       "      <td>0.000129</td>\n",
       "      <td>0.000129</td>\n",
       "      <td>0.000129</td>\n",
       "    </tr>\n",
       "    <tr>\n",
       "      <th>2015-12-31 23:00:00</th>\n",
       "      <td>0.000078</td>\n",
       "      <td>0.000079</td>\n",
       "      <td>0.000079</td>\n",
       "      <td>0.000079</td>\n",
       "      <td>0.000079</td>\n",
       "      <td>0.000079</td>\n",
       "      <td>0.000078</td>\n",
       "      <td>0.000078</td>\n",
       "      <td>0.000078</td>\n",
       "      <td>NaN</td>\n",
       "      <td>...</td>\n",
       "      <td>0.000078</td>\n",
       "      <td>0.000078</td>\n",
       "      <td>0.000078</td>\n",
       "      <td>0.000078</td>\n",
       "      <td>0.000078</td>\n",
       "      <td>0.000078</td>\n",
       "      <td>0.000078</td>\n",
       "      <td>0.000078</td>\n",
       "      <td>0.000078</td>\n",
       "      <td>0.000078</td>\n",
       "    </tr>\n",
       "  </tbody>\n",
       "</table>\n",
       "<p>8760 rows × 401 columns</p>\n",
       "</div>"
      ],
      "text/plain": [
       "nuts3                   DE600     DE711     DE712     DE713     DE714  \\\n",
       "2015-01-01 00:00:00  0.000053  0.000053  0.000053  0.000053  0.000053   \n",
       "2015-01-01 01:00:00  0.000045  0.000045  0.000045  0.000045  0.000045   \n",
       "2015-01-01 02:00:00  0.000042  0.000042  0.000042  0.000042  0.000042   \n",
       "2015-01-01 03:00:00  0.000041  0.000041  0.000041  0.000041  0.000041   \n",
       "2015-01-01 04:00:00  0.000047  0.000047  0.000047  0.000047  0.000047   \n",
       "...                       ...       ...       ...       ...       ...   \n",
       "2015-12-31 19:00:00  0.000187  0.000189  0.000189  0.000189  0.000189   \n",
       "2015-12-31 20:00:00   0.00018  0.000182  0.000182  0.000182  0.000182   \n",
       "2015-12-31 21:00:00   0.00017  0.000172  0.000172  0.000172  0.000172   \n",
       "2015-12-31 22:00:00  0.000128  0.000129  0.000129  0.000129  0.000129   \n",
       "2015-12-31 23:00:00  0.000078  0.000079  0.000079  0.000079  0.000079   \n",
       "\n",
       "nuts3                   DE715     DE737     DE803     DE804 DE80L  ...  \\\n",
       "2015-01-01 00:00:00  0.000053  0.000053  0.000053  0.000053   NaN  ...   \n",
       "2015-01-01 01:00:00  0.000045  0.000045  0.000045  0.000045   NaN  ...   \n",
       "2015-01-01 02:00:00  0.000042  0.000042  0.000042  0.000042   NaN  ...   \n",
       "2015-01-01 03:00:00  0.000041  0.000041  0.000041  0.000041   NaN  ...   \n",
       "2015-01-01 04:00:00  0.000047  0.000047  0.000047  0.000047   NaN  ...   \n",
       "...                       ...       ...       ...       ...   ...  ...   \n",
       "2015-12-31 19:00:00  0.000189  0.000188  0.000187  0.000187   NaN  ...   \n",
       "2015-12-31 20:00:00  0.000182  0.000181   0.00018   0.00018   NaN  ...   \n",
       "2015-12-31 21:00:00  0.000172  0.000171   0.00017   0.00017   NaN  ...   \n",
       "2015-12-31 22:00:00   0.00013  0.000129  0.000128  0.000128   NaN  ...   \n",
       "2015-12-31 23:00:00  0.000079  0.000078  0.000078  0.000078   NaN  ...   \n",
       "\n",
       "nuts3                   DEG07     DEG0P     DEF0B     DEF0C     DEF0D  \\\n",
       "2015-01-01 00:00:00  0.000053  0.000053  0.000053  0.000053  0.000053   \n",
       "2015-01-01 01:00:00  0.000045  0.000045  0.000045  0.000045  0.000045   \n",
       "2015-01-01 02:00:00  0.000042  0.000042  0.000042  0.000042  0.000042   \n",
       "2015-01-01 03:00:00  0.000041  0.000041  0.000041  0.000041  0.000041   \n",
       "2015-01-01 04:00:00  0.000047  0.000047  0.000047  0.000047  0.000047   \n",
       "...                       ...       ...       ...       ...       ...   \n",
       "2015-12-31 19:00:00  0.000188  0.000189  0.000187  0.000187  0.000187   \n",
       "2015-12-31 20:00:00  0.000181  0.000182   0.00018   0.00018   0.00018   \n",
       "2015-12-31 21:00:00  0.000171  0.000171   0.00017  0.000169   0.00017   \n",
       "2015-12-31 22:00:00  0.000129  0.000129  0.000128  0.000128  0.000128   \n",
       "2015-12-31 23:00:00  0.000078  0.000078  0.000078  0.000078  0.000078   \n",
       "\n",
       "nuts3                   DEF0E     DEF0F     DEG0L     DEG0M     DEG0N  \n",
       "2015-01-01 00:00:00  0.000053  0.000053  0.000053  0.000053  0.000053  \n",
       "2015-01-01 01:00:00  0.000045  0.000045  0.000045  0.000045  0.000045  \n",
       "2015-01-01 02:00:00  0.000042  0.000042  0.000042  0.000042  0.000042  \n",
       "2015-01-01 03:00:00  0.000041  0.000041  0.000041  0.000041  0.000041  \n",
       "2015-01-01 04:00:00  0.000047  0.000047  0.000047  0.000047  0.000047  \n",
       "...                       ...       ...       ...       ...       ...  \n",
       "2015-12-31 19:00:00  0.000187  0.000187  0.000188  0.000188  0.000189  \n",
       "2015-12-31 20:00:00   0.00018   0.00018  0.000181  0.000181  0.000181  \n",
       "2015-12-31 21:00:00   0.00017   0.00017  0.000171  0.000171  0.000171  \n",
       "2015-12-31 22:00:00  0.000128  0.000128  0.000129  0.000129  0.000129  \n",
       "2015-12-31 23:00:00  0.000078  0.000078  0.000078  0.000078  0.000078  \n",
       "\n",
       "[8760 rows x 401 columns]"
      ]
     },
     "execution_count": 3,
     "metadata": {},
     "output_type": "execute_result"
    }
   ],
   "source": [
    "temporal.make_zve_load_profiles()"
   ]
  },
  {
   "cell_type": "markdown",
   "metadata": {
    "jukit_cell_id": "v8EdUqYzGG"
   },
   "source": [
    "Then load the temporal distribution keys based on the ZVE:"
   ]
  },
  {
   "cell_type": "code",
   "execution_count": 4,
   "metadata": {
    "jukit_cell_id": "ouLzYPBbmQ"
   },
   "outputs": [
    {
     "name": "stderr",
     "output_type": "stream",
     "text": [
      "/tmp/ipykernel_27962/2488703108.py:1: FutureWarning: The argument 'infer_datetime_format' is deprecated and will be removed in a future version. A strict version of it is now the default, see https://pandas.pydata.org/pdeps/0004-consistent-to-datetime-parsing.html. You can safely remove this argument.\n",
      "  df_temp = pd.read_csv(\n"
     ]
    },
    {
     "data": {
      "text/html": [
       "<div>\n",
       "<style scoped>\n",
       "    .dataframe tbody tr th:only-of-type {\n",
       "        vertical-align: middle;\n",
       "    }\n",
       "\n",
       "    .dataframe tbody tr th {\n",
       "        vertical-align: top;\n",
       "    }\n",
       "\n",
       "    .dataframe thead th {\n",
       "        text-align: right;\n",
       "    }\n",
       "</style>\n",
       "<table border=\"1\" class=\"dataframe\">\n",
       "  <thead>\n",
       "    <tr style=\"text-align: right;\">\n",
       "      <th></th>\n",
       "      <th>0</th>\n",
       "      <th>1</th>\n",
       "      <th>2</th>\n",
       "      <th>3</th>\n",
       "      <th>4</th>\n",
       "      <th>5</th>\n",
       "      <th>6</th>\n",
       "      <th>7</th>\n",
       "      <th>8</th>\n",
       "      <th>9</th>\n",
       "      <th>...</th>\n",
       "      <th>8750</th>\n",
       "      <th>8751</th>\n",
       "      <th>8752</th>\n",
       "      <th>8753</th>\n",
       "      <th>8754</th>\n",
       "      <th>8755</th>\n",
       "      <th>8756</th>\n",
       "      <th>8757</th>\n",
       "      <th>8758</th>\n",
       "      <th>8759</th>\n",
       "    </tr>\n",
       "  </thead>\n",
       "  <tbody>\n",
       "    <tr>\n",
       "      <th>DE600</th>\n",
       "      <td>0.000053</td>\n",
       "      <td>0.000045</td>\n",
       "      <td>0.000042</td>\n",
       "      <td>0.000041</td>\n",
       "      <td>0.000047</td>\n",
       "      <td>0.000075</td>\n",
       "      <td>0.000132</td>\n",
       "      <td>0.000141</td>\n",
       "      <td>0.000131</td>\n",
       "      <td>0.000128</td>\n",
       "      <td>...</td>\n",
       "      <td>0.000120</td>\n",
       "      <td>0.000126</td>\n",
       "      <td>0.000141</td>\n",
       "      <td>0.000174</td>\n",
       "      <td>0.000186</td>\n",
       "      <td>0.000187</td>\n",
       "      <td>0.000180</td>\n",
       "      <td>0.000170</td>\n",
       "      <td>0.000128</td>\n",
       "      <td>0.000078</td>\n",
       "    </tr>\n",
       "    <tr>\n",
       "      <th>DE711</th>\n",
       "      <td>0.000053</td>\n",
       "      <td>0.000045</td>\n",
       "      <td>0.000042</td>\n",
       "      <td>0.000041</td>\n",
       "      <td>0.000047</td>\n",
       "      <td>0.000076</td>\n",
       "      <td>0.000133</td>\n",
       "      <td>0.000142</td>\n",
       "      <td>0.000131</td>\n",
       "      <td>0.000126</td>\n",
       "      <td>...</td>\n",
       "      <td>0.000113</td>\n",
       "      <td>0.000123</td>\n",
       "      <td>0.000140</td>\n",
       "      <td>0.000174</td>\n",
       "      <td>0.000187</td>\n",
       "      <td>0.000189</td>\n",
       "      <td>0.000182</td>\n",
       "      <td>0.000172</td>\n",
       "      <td>0.000129</td>\n",
       "      <td>0.000079</td>\n",
       "    </tr>\n",
       "    <tr>\n",
       "      <th>DE712</th>\n",
       "      <td>0.000053</td>\n",
       "      <td>0.000045</td>\n",
       "      <td>0.000042</td>\n",
       "      <td>0.000041</td>\n",
       "      <td>0.000047</td>\n",
       "      <td>0.000076</td>\n",
       "      <td>0.000133</td>\n",
       "      <td>0.000142</td>\n",
       "      <td>0.000131</td>\n",
       "      <td>0.000126</td>\n",
       "      <td>...</td>\n",
       "      <td>0.000113</td>\n",
       "      <td>0.000123</td>\n",
       "      <td>0.000140</td>\n",
       "      <td>0.000174</td>\n",
       "      <td>0.000187</td>\n",
       "      <td>0.000189</td>\n",
       "      <td>0.000182</td>\n",
       "      <td>0.000172</td>\n",
       "      <td>0.000129</td>\n",
       "      <td>0.000079</td>\n",
       "    </tr>\n",
       "    <tr>\n",
       "      <th>DE713</th>\n",
       "      <td>0.000053</td>\n",
       "      <td>0.000045</td>\n",
       "      <td>0.000042</td>\n",
       "      <td>0.000041</td>\n",
       "      <td>0.000047</td>\n",
       "      <td>0.000076</td>\n",
       "      <td>0.000133</td>\n",
       "      <td>0.000142</td>\n",
       "      <td>0.000131</td>\n",
       "      <td>0.000126</td>\n",
       "      <td>...</td>\n",
       "      <td>0.000113</td>\n",
       "      <td>0.000123</td>\n",
       "      <td>0.000140</td>\n",
       "      <td>0.000174</td>\n",
       "      <td>0.000187</td>\n",
       "      <td>0.000189</td>\n",
       "      <td>0.000182</td>\n",
       "      <td>0.000172</td>\n",
       "      <td>0.000129</td>\n",
       "      <td>0.000079</td>\n",
       "    </tr>\n",
       "    <tr>\n",
       "      <th>DE714</th>\n",
       "      <td>0.000053</td>\n",
       "      <td>0.000045</td>\n",
       "      <td>0.000042</td>\n",
       "      <td>0.000041</td>\n",
       "      <td>0.000047</td>\n",
       "      <td>0.000076</td>\n",
       "      <td>0.000133</td>\n",
       "      <td>0.000142</td>\n",
       "      <td>0.000131</td>\n",
       "      <td>0.000126</td>\n",
       "      <td>...</td>\n",
       "      <td>0.000113</td>\n",
       "      <td>0.000123</td>\n",
       "      <td>0.000140</td>\n",
       "      <td>0.000174</td>\n",
       "      <td>0.000187</td>\n",
       "      <td>0.000189</td>\n",
       "      <td>0.000182</td>\n",
       "      <td>0.000172</td>\n",
       "      <td>0.000129</td>\n",
       "      <td>0.000079</td>\n",
       "    </tr>\n",
       "    <tr>\n",
       "      <th>...</th>\n",
       "      <td>...</td>\n",
       "      <td>...</td>\n",
       "      <td>...</td>\n",
       "      <td>...</td>\n",
       "      <td>...</td>\n",
       "      <td>...</td>\n",
       "      <td>...</td>\n",
       "      <td>...</td>\n",
       "      <td>...</td>\n",
       "      <td>...</td>\n",
       "      <td>...</td>\n",
       "      <td>...</td>\n",
       "      <td>...</td>\n",
       "      <td>...</td>\n",
       "      <td>...</td>\n",
       "      <td>...</td>\n",
       "      <td>...</td>\n",
       "      <td>...</td>\n",
       "      <td>...</td>\n",
       "      <td>...</td>\n",
       "      <td>...</td>\n",
       "    </tr>\n",
       "    <tr>\n",
       "      <th>DEF0E</th>\n",
       "      <td>0.000053</td>\n",
       "      <td>0.000045</td>\n",
       "      <td>0.000042</td>\n",
       "      <td>0.000041</td>\n",
       "      <td>0.000047</td>\n",
       "      <td>0.000075</td>\n",
       "      <td>0.000132</td>\n",
       "      <td>0.000141</td>\n",
       "      <td>0.000131</td>\n",
       "      <td>0.000129</td>\n",
       "      <td>...</td>\n",
       "      <td>0.000121</td>\n",
       "      <td>0.000126</td>\n",
       "      <td>0.000141</td>\n",
       "      <td>0.000174</td>\n",
       "      <td>0.000186</td>\n",
       "      <td>0.000187</td>\n",
       "      <td>0.000180</td>\n",
       "      <td>0.000170</td>\n",
       "      <td>0.000128</td>\n",
       "      <td>0.000078</td>\n",
       "    </tr>\n",
       "    <tr>\n",
       "      <th>DEF0F</th>\n",
       "      <td>0.000053</td>\n",
       "      <td>0.000045</td>\n",
       "      <td>0.000042</td>\n",
       "      <td>0.000041</td>\n",
       "      <td>0.000047</td>\n",
       "      <td>0.000075</td>\n",
       "      <td>0.000132</td>\n",
       "      <td>0.000141</td>\n",
       "      <td>0.000131</td>\n",
       "      <td>0.000128</td>\n",
       "      <td>...</td>\n",
       "      <td>0.000121</td>\n",
       "      <td>0.000126</td>\n",
       "      <td>0.000141</td>\n",
       "      <td>0.000174</td>\n",
       "      <td>0.000186</td>\n",
       "      <td>0.000187</td>\n",
       "      <td>0.000180</td>\n",
       "      <td>0.000170</td>\n",
       "      <td>0.000128</td>\n",
       "      <td>0.000078</td>\n",
       "    </tr>\n",
       "    <tr>\n",
       "      <th>DEG0L</th>\n",
       "      <td>0.000053</td>\n",
       "      <td>0.000045</td>\n",
       "      <td>0.000042</td>\n",
       "      <td>0.000041</td>\n",
       "      <td>0.000047</td>\n",
       "      <td>0.000076</td>\n",
       "      <td>0.000133</td>\n",
       "      <td>0.000141</td>\n",
       "      <td>0.000130</td>\n",
       "      <td>0.000125</td>\n",
       "      <td>...</td>\n",
       "      <td>0.000117</td>\n",
       "      <td>0.000125</td>\n",
       "      <td>0.000141</td>\n",
       "      <td>0.000175</td>\n",
       "      <td>0.000187</td>\n",
       "      <td>0.000188</td>\n",
       "      <td>0.000181</td>\n",
       "      <td>0.000171</td>\n",
       "      <td>0.000129</td>\n",
       "      <td>0.000078</td>\n",
       "    </tr>\n",
       "    <tr>\n",
       "      <th>DEG0M</th>\n",
       "      <td>0.000053</td>\n",
       "      <td>0.000045</td>\n",
       "      <td>0.000042</td>\n",
       "      <td>0.000041</td>\n",
       "      <td>0.000047</td>\n",
       "      <td>0.000076</td>\n",
       "      <td>0.000132</td>\n",
       "      <td>0.000141</td>\n",
       "      <td>0.000130</td>\n",
       "      <td>0.000125</td>\n",
       "      <td>...</td>\n",
       "      <td>0.000118</td>\n",
       "      <td>0.000125</td>\n",
       "      <td>0.000142</td>\n",
       "      <td>0.000175</td>\n",
       "      <td>0.000187</td>\n",
       "      <td>0.000188</td>\n",
       "      <td>0.000181</td>\n",
       "      <td>0.000171</td>\n",
       "      <td>0.000129</td>\n",
       "      <td>0.000078</td>\n",
       "    </tr>\n",
       "    <tr>\n",
       "      <th>DEG0N</th>\n",
       "      <td>0.000053</td>\n",
       "      <td>0.000045</td>\n",
       "      <td>0.000042</td>\n",
       "      <td>0.000041</td>\n",
       "      <td>0.000047</td>\n",
       "      <td>0.000076</td>\n",
       "      <td>0.000133</td>\n",
       "      <td>0.000142</td>\n",
       "      <td>0.000131</td>\n",
       "      <td>0.000126</td>\n",
       "      <td>...</td>\n",
       "      <td>0.000116</td>\n",
       "      <td>0.000125</td>\n",
       "      <td>0.000141</td>\n",
       "      <td>0.000174</td>\n",
       "      <td>0.000187</td>\n",
       "      <td>0.000189</td>\n",
       "      <td>0.000181</td>\n",
       "      <td>0.000171</td>\n",
       "      <td>0.000129</td>\n",
       "      <td>0.000078</td>\n",
       "    </tr>\n",
       "  </tbody>\n",
       "</table>\n",
       "<p>401 rows × 8760 columns</p>\n",
       "</div>"
      ],
      "text/plain": [
       "           0         1         2         3         4         5         6     \\\n",
       "DE600  0.000053  0.000045  0.000042  0.000041  0.000047  0.000075  0.000132   \n",
       "DE711  0.000053  0.000045  0.000042  0.000041  0.000047  0.000076  0.000133   \n",
       "DE712  0.000053  0.000045  0.000042  0.000041  0.000047  0.000076  0.000133   \n",
       "DE713  0.000053  0.000045  0.000042  0.000041  0.000047  0.000076  0.000133   \n",
       "DE714  0.000053  0.000045  0.000042  0.000041  0.000047  0.000076  0.000133   \n",
       "...         ...       ...       ...       ...       ...       ...       ...   \n",
       "DEF0E  0.000053  0.000045  0.000042  0.000041  0.000047  0.000075  0.000132   \n",
       "DEF0F  0.000053  0.000045  0.000042  0.000041  0.000047  0.000075  0.000132   \n",
       "DEG0L  0.000053  0.000045  0.000042  0.000041  0.000047  0.000076  0.000133   \n",
       "DEG0M  0.000053  0.000045  0.000042  0.000041  0.000047  0.000076  0.000132   \n",
       "DEG0N  0.000053  0.000045  0.000042  0.000041  0.000047  0.000076  0.000133   \n",
       "\n",
       "           7         8         9     ...      8750      8751      8752  \\\n",
       "DE600  0.000141  0.000131  0.000128  ...  0.000120  0.000126  0.000141   \n",
       "DE711  0.000142  0.000131  0.000126  ...  0.000113  0.000123  0.000140   \n",
       "DE712  0.000142  0.000131  0.000126  ...  0.000113  0.000123  0.000140   \n",
       "DE713  0.000142  0.000131  0.000126  ...  0.000113  0.000123  0.000140   \n",
       "DE714  0.000142  0.000131  0.000126  ...  0.000113  0.000123  0.000140   \n",
       "...         ...       ...       ...  ...       ...       ...       ...   \n",
       "DEF0E  0.000141  0.000131  0.000129  ...  0.000121  0.000126  0.000141   \n",
       "DEF0F  0.000141  0.000131  0.000128  ...  0.000121  0.000126  0.000141   \n",
       "DEG0L  0.000141  0.000130  0.000125  ...  0.000117  0.000125  0.000141   \n",
       "DEG0M  0.000141  0.000130  0.000125  ...  0.000118  0.000125  0.000142   \n",
       "DEG0N  0.000142  0.000131  0.000126  ...  0.000116  0.000125  0.000141   \n",
       "\n",
       "           8753      8754      8755      8756      8757      8758      8759  \n",
       "DE600  0.000174  0.000186  0.000187  0.000180  0.000170  0.000128  0.000078  \n",
       "DE711  0.000174  0.000187  0.000189  0.000182  0.000172  0.000129  0.000079  \n",
       "DE712  0.000174  0.000187  0.000189  0.000182  0.000172  0.000129  0.000079  \n",
       "DE713  0.000174  0.000187  0.000189  0.000182  0.000172  0.000129  0.000079  \n",
       "DE714  0.000174  0.000187  0.000189  0.000182  0.000172  0.000129  0.000079  \n",
       "...         ...       ...       ...       ...       ...       ...       ...  \n",
       "DEF0E  0.000174  0.000186  0.000187  0.000180  0.000170  0.000128  0.000078  \n",
       "DEF0F  0.000174  0.000186  0.000187  0.000180  0.000170  0.000128  0.000078  \n",
       "DEG0L  0.000175  0.000187  0.000188  0.000181  0.000171  0.000129  0.000078  \n",
       "DEG0M  0.000175  0.000187  0.000188  0.000181  0.000171  0.000129  0.000078  \n",
       "DEG0N  0.000174  0.000187  0.000189  0.000181  0.000171  0.000129  0.000078  \n",
       "\n",
       "[401 rows x 8760 columns]"
      ]
     },
     "execution_count": 4,
     "metadata": {},
     "output_type": "execute_result"
    }
   ],
   "source": [
    "df_temp = pd.read_csv(\n",
    "    config.data_out(\"ZVE_timeseries_AllRegions_2015.csv\"),\n",
    "    engine=\"c\",\n",
    "    index_col=0,\n",
    "    parse_dates=True,\n",
    "    infer_datetime_format=True,\n",
    ").pipe(data.transpose_spatiotemporal)\n",
    "df_temp"
   ]
  },
  {
   "cell_type": "markdown",
   "metadata": {
    "jukit_cell_id": "4dmzNfvcUw"
   },
   "source": [
    "The function `temporal.disagg_temporal()` needs two inputs:\n",
    "1. **a spatial dataset**  \n",
    "    either as `pd.Series` or `pd.DataFrame`: in both cases _NUTS-3-index'ed_\n",
    "\n",
    "\n",
    "2. **a temporal dataset**  \n",
    "    if passed as `pd.DataFrame`: _NUTS-3-index'ed_  \n",
    "    if passed as `pd.Series`: _pd.DateTimeIndex'ed_\n",
    "\n",
    "Pre-check:\n",
    "* Both `df_spat` and `df_temp` are `pd.DataFrame`s\n",
    "* Both have NUTS-3-indices.\n",
    "\n",
    "So now we can directly perfom the disaggregation:"
   ]
  },
  {
   "cell_type": "code",
   "execution_count": 5,
   "metadata": {
    "jukit_cell_id": "VWM5xMlMvB"
   },
   "outputs": [
    {
     "data": {
      "text/html": [
       "<div>\n",
       "<style scoped>\n",
       "    .dataframe tbody tr th:only-of-type {\n",
       "        vertical-align: middle;\n",
       "    }\n",
       "\n",
       "    .dataframe tbody tr th {\n",
       "        vertical-align: top;\n",
       "    }\n",
       "\n",
       "    .dataframe thead th {\n",
       "        text-align: right;\n",
       "    }\n",
       "</style>\n",
       "<table border=\"1\" class=\"dataframe\">\n",
       "  <thead>\n",
       "    <tr style=\"text-align: right;\">\n",
       "      <th></th>\n",
       "      <th>0</th>\n",
       "      <th>1</th>\n",
       "      <th>2</th>\n",
       "      <th>3</th>\n",
       "      <th>4</th>\n",
       "      <th>5</th>\n",
       "      <th>6</th>\n",
       "      <th>7</th>\n",
       "      <th>8</th>\n",
       "      <th>9</th>\n",
       "      <th>...</th>\n",
       "      <th>8750</th>\n",
       "      <th>8751</th>\n",
       "      <th>8752</th>\n",
       "      <th>8753</th>\n",
       "      <th>8754</th>\n",
       "      <th>8755</th>\n",
       "      <th>8756</th>\n",
       "      <th>8757</th>\n",
       "      <th>8758</th>\n",
       "      <th>8759</th>\n",
       "    </tr>\n",
       "  </thead>\n",
       "  <tbody>\n",
       "    <tr>\n",
       "      <th>DE111</th>\n",
       "      <td>61.963656</td>\n",
       "      <td>52.000981</td>\n",
       "      <td>48.922454</td>\n",
       "      <td>47.416866</td>\n",
       "      <td>54.929391</td>\n",
       "      <td>88.254918</td>\n",
       "      <td>154.710011</td>\n",
       "      <td>165.227674</td>\n",
       "      <td>151.937998</td>\n",
       "      <td>144.159071</td>\n",
       "      <td>...</td>\n",
       "      <td>129.573649</td>\n",
       "      <td>142.367245</td>\n",
       "      <td>163.023004</td>\n",
       "      <td>202.983581</td>\n",
       "      <td>217.934010</td>\n",
       "      <td>220.136230</td>\n",
       "      <td>211.993734</td>\n",
       "      <td>200.220722</td>\n",
       "      <td>150.798173</td>\n",
       "      <td>91.584794</td>\n",
       "    </tr>\n",
       "    <tr>\n",
       "      <th>DE112</th>\n",
       "      <td>37.003866</td>\n",
       "      <td>31.052472</td>\n",
       "      <td>29.213618</td>\n",
       "      <td>28.314188</td>\n",
       "      <td>32.801413</td>\n",
       "      <td>52.706360</td>\n",
       "      <td>92.398241</td>\n",
       "      <td>98.708399</td>\n",
       "      <td>90.796249</td>\n",
       "      <td>86.142847</td>\n",
       "      <td>...</td>\n",
       "      <td>77.340697</td>\n",
       "      <td>84.866660</td>\n",
       "      <td>97.262635</td>\n",
       "      <td>121.229908</td>\n",
       "      <td>130.120787</td>\n",
       "      <td>131.479212</td>\n",
       "      <td>126.618833</td>\n",
       "      <td>119.587877</td>\n",
       "      <td>90.066974</td>\n",
       "      <td>54.698012</td>\n",
       "    </tr>\n",
       "    <tr>\n",
       "      <th>DE113</th>\n",
       "      <td>51.577346</td>\n",
       "      <td>43.285877</td>\n",
       "      <td>40.723649</td>\n",
       "      <td>39.470631</td>\n",
       "      <td>45.723327</td>\n",
       "      <td>73.460668</td>\n",
       "      <td>128.772827</td>\n",
       "      <td>137.525999</td>\n",
       "      <td>126.349707</td>\n",
       "      <td>119.688903</td>\n",
       "      <td>...</td>\n",
       "      <td>0.000000</td>\n",
       "      <td>0.000000</td>\n",
       "      <td>0.000000</td>\n",
       "      <td>0.000000</td>\n",
       "      <td>0.000000</td>\n",
       "      <td>0.000000</td>\n",
       "      <td>0.000000</td>\n",
       "      <td>0.000000</td>\n",
       "      <td>0.000000</td>\n",
       "      <td>0.000000</td>\n",
       "    </tr>\n",
       "    <tr>\n",
       "      <th>DE114</th>\n",
       "      <td>23.867618</td>\n",
       "      <td>20.031137</td>\n",
       "      <td>18.845547</td>\n",
       "      <td>18.265779</td>\n",
       "      <td>21.159039</td>\n",
       "      <td>33.993807</td>\n",
       "      <td>59.588358</td>\n",
       "      <td>63.583345</td>\n",
       "      <td>58.395865</td>\n",
       "      <td>55.262865</td>\n",
       "      <td>...</td>\n",
       "      <td>49.953969</td>\n",
       "      <td>54.937000</td>\n",
       "      <td>62.854378</td>\n",
       "      <td>78.270897</td>\n",
       "      <td>83.963738</td>\n",
       "      <td>84.784334</td>\n",
       "      <td>81.646676</td>\n",
       "      <td>77.112005</td>\n",
       "      <td>58.078681</td>\n",
       "      <td>35.274662</td>\n",
       "    </tr>\n",
       "    <tr>\n",
       "      <th>DE115</th>\n",
       "      <td>53.049612</td>\n",
       "      <td>44.521879</td>\n",
       "      <td>41.886602</td>\n",
       "      <td>40.597920</td>\n",
       "      <td>47.028893</td>\n",
       "      <td>75.556861</td>\n",
       "      <td>132.446043</td>\n",
       "      <td>141.488305</td>\n",
       "      <td>130.155581</td>\n",
       "      <td>123.660491</td>\n",
       "      <td>...</td>\n",
       "      <td>0.000000</td>\n",
       "      <td>0.000000</td>\n",
       "      <td>0.000000</td>\n",
       "      <td>0.000000</td>\n",
       "      <td>0.000000</td>\n",
       "      <td>0.000000</td>\n",
       "      <td>0.000000</td>\n",
       "      <td>0.000000</td>\n",
       "      <td>0.000000</td>\n",
       "      <td>0.000000</td>\n",
       "    </tr>\n",
       "    <tr>\n",
       "      <th>...</th>\n",
       "      <td>...</td>\n",
       "      <td>...</td>\n",
       "      <td>...</td>\n",
       "      <td>...</td>\n",
       "      <td>...</td>\n",
       "      <td>...</td>\n",
       "      <td>...</td>\n",
       "      <td>...</td>\n",
       "      <td>...</td>\n",
       "      <td>...</td>\n",
       "      <td>...</td>\n",
       "      <td>...</td>\n",
       "      <td>...</td>\n",
       "      <td>...</td>\n",
       "      <td>...</td>\n",
       "      <td>...</td>\n",
       "      <td>...</td>\n",
       "      <td>...</td>\n",
       "      <td>...</td>\n",
       "      <td>...</td>\n",
       "      <td>...</td>\n",
       "    </tr>\n",
       "    <tr>\n",
       "      <th>DEG0K</th>\n",
       "      <td>6.150287</td>\n",
       "      <td>5.166556</td>\n",
       "      <td>4.862114</td>\n",
       "      <td>4.713572</td>\n",
       "      <td>5.456851</td>\n",
       "      <td>8.754906</td>\n",
       "      <td>15.334453</td>\n",
       "      <td>16.331344</td>\n",
       "      <td>15.030175</td>\n",
       "      <td>14.405632</td>\n",
       "      <td>...</td>\n",
       "      <td>13.425973</td>\n",
       "      <td>14.454372</td>\n",
       "      <td>16.344654</td>\n",
       "      <td>20.213688</td>\n",
       "      <td>21.610053</td>\n",
       "      <td>21.802599</td>\n",
       "      <td>20.988268</td>\n",
       "      <td>19.820491</td>\n",
       "      <td>14.932958</td>\n",
       "      <td>9.076802</td>\n",
       "    </tr>\n",
       "    <tr>\n",
       "      <th>DEG0L</th>\n",
       "      <td>7.643702</td>\n",
       "      <td>6.421704</td>\n",
       "      <td>6.043469</td>\n",
       "      <td>5.858966</td>\n",
       "      <td>6.782445</td>\n",
       "      <td>10.880166</td>\n",
       "      <td>19.055370</td>\n",
       "      <td>20.288377</td>\n",
       "      <td>18.666928</td>\n",
       "      <td>17.909756</td>\n",
       "      <td>...</td>\n",
       "      <td>0.000000</td>\n",
       "      <td>0.000000</td>\n",
       "      <td>0.000000</td>\n",
       "      <td>0.000000</td>\n",
       "      <td>0.000000</td>\n",
       "      <td>0.000000</td>\n",
       "      <td>0.000000</td>\n",
       "      <td>0.000000</td>\n",
       "      <td>0.000000</td>\n",
       "      <td>0.000000</td>\n",
       "    </tr>\n",
       "    <tr>\n",
       "      <th>DEG0M</th>\n",
       "      <td>6.711867</td>\n",
       "      <td>5.639677</td>\n",
       "      <td>5.307734</td>\n",
       "      <td>5.145873</td>\n",
       "      <td>5.956380</td>\n",
       "      <td>9.552947</td>\n",
       "      <td>16.728788</td>\n",
       "      <td>17.805765</td>\n",
       "      <td>16.389120</td>\n",
       "      <td>15.732091</td>\n",
       "      <td>...</td>\n",
       "      <td>14.882035</td>\n",
       "      <td>15.826184</td>\n",
       "      <td>17.871905</td>\n",
       "      <td>22.063075</td>\n",
       "      <td>23.579213</td>\n",
       "      <td>23.780761</td>\n",
       "      <td>22.890461</td>\n",
       "      <td>21.616261</td>\n",
       "      <td>16.287221</td>\n",
       "      <td>9.901973</td>\n",
       "    </tr>\n",
       "    <tr>\n",
       "      <th>DEG0N</th>\n",
       "      <td>3.183014</td>\n",
       "      <td>2.673931</td>\n",
       "      <td>2.516379</td>\n",
       "      <td>2.439514</td>\n",
       "      <td>2.824171</td>\n",
       "      <td>4.530936</td>\n",
       "      <td>7.935933</td>\n",
       "      <td>8.473538</td>\n",
       "      <td>7.825725</td>\n",
       "      <td>7.539578</td>\n",
       "      <td>...</td>\n",
       "      <td>0.000000</td>\n",
       "      <td>0.000000</td>\n",
       "      <td>0.000000</td>\n",
       "      <td>0.000000</td>\n",
       "      <td>0.000000</td>\n",
       "      <td>0.000000</td>\n",
       "      <td>0.000000</td>\n",
       "      <td>0.000000</td>\n",
       "      <td>0.000000</td>\n",
       "      <td>0.000000</td>\n",
       "    </tr>\n",
       "    <tr>\n",
       "      <th>DEG0P</th>\n",
       "      <td>9.687897</td>\n",
       "      <td>8.137995</td>\n",
       "      <td>7.658369</td>\n",
       "      <td>7.424340</td>\n",
       "      <td>8.595301</td>\n",
       "      <td>13.790913</td>\n",
       "      <td>24.155911</td>\n",
       "      <td>25.792572</td>\n",
       "      <td>23.819878</td>\n",
       "      <td>22.911781</td>\n",
       "      <td>...</td>\n",
       "      <td>21.077369</td>\n",
       "      <td>22.681902</td>\n",
       "      <td>25.663062</td>\n",
       "      <td>31.779749</td>\n",
       "      <td>34.042746</td>\n",
       "      <td>34.346396</td>\n",
       "      <td>33.064109</td>\n",
       "      <td>31.224590</td>\n",
       "      <td>23.524564</td>\n",
       "      <td>14.298574</td>\n",
       "    </tr>\n",
       "  </tbody>\n",
       "</table>\n",
       "<p>403 rows × 8760 columns</p>\n",
       "</div>"
      ],
      "text/plain": [
       "            0          1          2          3          4          5     \\\n",
       "DE111  61.963656  52.000981  48.922454  47.416866  54.929391  88.254918   \n",
       "DE112  37.003866  31.052472  29.213618  28.314188  32.801413  52.706360   \n",
       "DE113  51.577346  43.285877  40.723649  39.470631  45.723327  73.460668   \n",
       "DE114  23.867618  20.031137  18.845547  18.265779  21.159039  33.993807   \n",
       "DE115  53.049612  44.521879  41.886602  40.597920  47.028893  75.556861   \n",
       "...          ...        ...        ...        ...        ...        ...   \n",
       "DEG0K   6.150287   5.166556   4.862114   4.713572   5.456851   8.754906   \n",
       "DEG0L   7.643702   6.421704   6.043469   5.858966   6.782445  10.880166   \n",
       "DEG0M   6.711867   5.639677   5.307734   5.145873   5.956380   9.552947   \n",
       "DEG0N   3.183014   2.673931   2.516379   2.439514   2.824171   4.530936   \n",
       "DEG0P   9.687897   8.137995   7.658369   7.424340   8.595301  13.790913   \n",
       "\n",
       "             6           7           8           9     ...        8750  \\\n",
       "DE111  154.710011  165.227674  151.937998  144.159071  ...  129.573649   \n",
       "DE112   92.398241   98.708399   90.796249   86.142847  ...   77.340697   \n",
       "DE113  128.772827  137.525999  126.349707  119.688903  ...    0.000000   \n",
       "DE114   59.588358   63.583345   58.395865   55.262865  ...   49.953969   \n",
       "DE115  132.446043  141.488305  130.155581  123.660491  ...    0.000000   \n",
       "...           ...         ...         ...         ...  ...         ...   \n",
       "DEG0K   15.334453   16.331344   15.030175   14.405632  ...   13.425973   \n",
       "DEG0L   19.055370   20.288377   18.666928   17.909756  ...    0.000000   \n",
       "DEG0M   16.728788   17.805765   16.389120   15.732091  ...   14.882035   \n",
       "DEG0N    7.935933    8.473538    7.825725    7.539578  ...    0.000000   \n",
       "DEG0P   24.155911   25.792572   23.819878   22.911781  ...   21.077369   \n",
       "\n",
       "             8751        8752        8753        8754        8755        8756  \\\n",
       "DE111  142.367245  163.023004  202.983581  217.934010  220.136230  211.993734   \n",
       "DE112   84.866660   97.262635  121.229908  130.120787  131.479212  126.618833   \n",
       "DE113    0.000000    0.000000    0.000000    0.000000    0.000000    0.000000   \n",
       "DE114   54.937000   62.854378   78.270897   83.963738   84.784334   81.646676   \n",
       "DE115    0.000000    0.000000    0.000000    0.000000    0.000000    0.000000   \n",
       "...           ...         ...         ...         ...         ...         ...   \n",
       "DEG0K   14.454372   16.344654   20.213688   21.610053   21.802599   20.988268   \n",
       "DEG0L    0.000000    0.000000    0.000000    0.000000    0.000000    0.000000   \n",
       "DEG0M   15.826184   17.871905   22.063075   23.579213   23.780761   22.890461   \n",
       "DEG0N    0.000000    0.000000    0.000000    0.000000    0.000000    0.000000   \n",
       "DEG0P   22.681902   25.663062   31.779749   34.042746   34.346396   33.064109   \n",
       "\n",
       "             8757        8758       8759  \n",
       "DE111  200.220722  150.798173  91.584794  \n",
       "DE112  119.587877   90.066974  54.698012  \n",
       "DE113    0.000000    0.000000   0.000000  \n",
       "DE114   77.112005   58.078681  35.274662  \n",
       "DE115    0.000000    0.000000   0.000000  \n",
       "...           ...         ...        ...  \n",
       "DEG0K   19.820491   14.932958   9.076802  \n",
       "DEG0L    0.000000    0.000000   0.000000  \n",
       "DEG0M   21.616261   16.287221   9.901973  \n",
       "DEG0N    0.000000    0.000000   0.000000  \n",
       "DEG0P   31.224590   23.524564  14.298574  \n",
       "\n",
       "[403 rows x 8760 columns]"
      ]
     },
     "execution_count": 5,
     "metadata": {},
     "output_type": "execute_result"
    }
   ],
   "source": [
    "df_elc_tempo_ZVE = temporal.disagg_temporal(df_spat, df_temp)\n",
    "df_elc_tempo_ZVE"
   ]
  },
  {
   "cell_type": "markdown",
   "metadata": {
    "jukit_cell_id": "elGCshwmvY"
   },
   "source": [
    "We see that the data has successfully been disaggregated.  \n",
    "However, regions are in rows and time-steps are in columns -- this is not really intuitive. Better would be the other way round, right? We can achieve this by passing `time_indexed=True` to give us a transponed version:"
   ]
  },
  {
   "cell_type": "code",
   "execution_count": 6,
   "metadata": {
    "jukit_cell_id": "flKu8std4L"
   },
   "outputs": [
    {
     "data": {
      "text/html": [
       "<div>\n",
       "<style scoped>\n",
       "    .dataframe tbody tr th:only-of-type {\n",
       "        vertical-align: middle;\n",
       "    }\n",
       "\n",
       "    .dataframe tbody tr th {\n",
       "        vertical-align: top;\n",
       "    }\n",
       "\n",
       "    .dataframe thead th {\n",
       "        text-align: right;\n",
       "    }\n",
       "</style>\n",
       "<table border=\"1\" class=\"dataframe\">\n",
       "  <thead>\n",
       "    <tr style=\"text-align: right;\">\n",
       "      <th></th>\n",
       "      <th>DE111</th>\n",
       "      <th>DE112</th>\n",
       "      <th>DE113</th>\n",
       "      <th>DE114</th>\n",
       "      <th>DE115</th>\n",
       "      <th>DE116</th>\n",
       "      <th>DE117</th>\n",
       "      <th>DE118</th>\n",
       "      <th>DE119</th>\n",
       "      <th>DE11A</th>\n",
       "      <th>...</th>\n",
       "      <th>DEG0F</th>\n",
       "      <th>DEG0G</th>\n",
       "      <th>DEG0H</th>\n",
       "      <th>DEG0I</th>\n",
       "      <th>DEG0J</th>\n",
       "      <th>DEG0K</th>\n",
       "      <th>DEG0L</th>\n",
       "      <th>DEG0M</th>\n",
       "      <th>DEG0N</th>\n",
       "      <th>DEG0P</th>\n",
       "    </tr>\n",
       "  </thead>\n",
       "  <tbody>\n",
       "    <tr>\n",
       "      <th>0</th>\n",
       "      <td>61.963656</td>\n",
       "      <td>37.003866</td>\n",
       "      <td>51.577346</td>\n",
       "      <td>23.867618</td>\n",
       "      <td>53.049612</td>\n",
       "      <td>40.717331</td>\n",
       "      <td>15.803291</td>\n",
       "      <td>31.796530</td>\n",
       "      <td>10.019867</td>\n",
       "      <td>17.370128</td>\n",
       "      <td>...</td>\n",
       "      <td>8.010078</td>\n",
       "      <td>6.131861</td>\n",
       "      <td>4.426170</td>\n",
       "      <td>8.207341</td>\n",
       "      <td>6.405845</td>\n",
       "      <td>6.150287</td>\n",
       "      <td>7.643702</td>\n",
       "      <td>6.711867</td>\n",
       "      <td>3.183014</td>\n",
       "      <td>9.687897</td>\n",
       "    </tr>\n",
       "    <tr>\n",
       "      <th>1</th>\n",
       "      <td>52.000981</td>\n",
       "      <td>31.052472</td>\n",
       "      <td>43.285877</td>\n",
       "      <td>20.031137</td>\n",
       "      <td>44.521879</td>\n",
       "      <td>34.174616</td>\n",
       "      <td>13.264573</td>\n",
       "      <td>26.689653</td>\n",
       "      <td>8.411566</td>\n",
       "      <td>14.581630</td>\n",
       "      <td>...</td>\n",
       "      <td>6.728844</td>\n",
       "      <td>5.151676</td>\n",
       "      <td>3.717838</td>\n",
       "      <td>6.894357</td>\n",
       "      <td>5.382209</td>\n",
       "      <td>5.166556</td>\n",
       "      <td>6.421704</td>\n",
       "      <td>5.639677</td>\n",
       "      <td>2.673931</td>\n",
       "      <td>8.137995</td>\n",
       "    </tr>\n",
       "    <tr>\n",
       "      <th>2</th>\n",
       "      <td>48.922454</td>\n",
       "      <td>29.213618</td>\n",
       "      <td>40.723649</td>\n",
       "      <td>18.845547</td>\n",
       "      <td>41.886602</td>\n",
       "      <td>32.152524</td>\n",
       "      <td>12.479898</td>\n",
       "      <td>25.111105</td>\n",
       "      <td>7.914346</td>\n",
       "      <td>13.719577</td>\n",
       "      <td>...</td>\n",
       "      <td>6.332336</td>\n",
       "      <td>4.848278</td>\n",
       "      <td>3.498660</td>\n",
       "      <td>6.488041</td>\n",
       "      <td>5.065329</td>\n",
       "      <td>4.862114</td>\n",
       "      <td>6.043469</td>\n",
       "      <td>5.307734</td>\n",
       "      <td>2.516379</td>\n",
       "      <td>7.658369</td>\n",
       "    </tr>\n",
       "    <tr>\n",
       "      <th>3</th>\n",
       "      <td>47.416866</td>\n",
       "      <td>28.314188</td>\n",
       "      <td>39.470631</td>\n",
       "      <td>18.265779</td>\n",
       "      <td>40.597920</td>\n",
       "      <td>31.163856</td>\n",
       "      <td>12.096301</td>\n",
       "      <td>24.339490</td>\n",
       "      <td>7.671366</td>\n",
       "      <td>13.298281</td>\n",
       "      <td>...</td>\n",
       "      <td>6.138876</td>\n",
       "      <td>4.700290</td>\n",
       "      <td>3.391695</td>\n",
       "      <td>6.289779</td>\n",
       "      <td>4.910789</td>\n",
       "      <td>4.713572</td>\n",
       "      <td>5.858966</td>\n",
       "      <td>5.145873</td>\n",
       "      <td>2.439514</td>\n",
       "      <td>7.424340</td>\n",
       "    </tr>\n",
       "    <tr>\n",
       "      <th>4</th>\n",
       "      <td>54.929391</td>\n",
       "      <td>32.801413</td>\n",
       "      <td>45.723327</td>\n",
       "      <td>21.159039</td>\n",
       "      <td>47.028893</td>\n",
       "      <td>36.098634</td>\n",
       "      <td>14.011287</td>\n",
       "      <td>28.191978</td>\n",
       "      <td>8.884912</td>\n",
       "      <td>15.402230</td>\n",
       "      <td>...</td>\n",
       "      <td>7.106929</td>\n",
       "      <td>5.441062</td>\n",
       "      <td>3.926782</td>\n",
       "      <td>7.281765</td>\n",
       "      <td>5.684498</td>\n",
       "      <td>5.456851</td>\n",
       "      <td>6.782445</td>\n",
       "      <td>5.956380</td>\n",
       "      <td>2.824171</td>\n",
       "      <td>8.595301</td>\n",
       "    </tr>\n",
       "    <tr>\n",
       "      <th>...</th>\n",
       "      <td>...</td>\n",
       "      <td>...</td>\n",
       "      <td>...</td>\n",
       "      <td>...</td>\n",
       "      <td>...</td>\n",
       "      <td>...</td>\n",
       "      <td>...</td>\n",
       "      <td>...</td>\n",
       "      <td>...</td>\n",
       "      <td>...</td>\n",
       "      <td>...</td>\n",
       "      <td>...</td>\n",
       "      <td>...</td>\n",
       "      <td>...</td>\n",
       "      <td>...</td>\n",
       "      <td>...</td>\n",
       "      <td>...</td>\n",
       "      <td>...</td>\n",
       "      <td>...</td>\n",
       "      <td>...</td>\n",
       "      <td>...</td>\n",
       "    </tr>\n",
       "    <tr>\n",
       "      <th>8755</th>\n",
       "      <td>220.136230</td>\n",
       "      <td>131.479212</td>\n",
       "      <td>0.000000</td>\n",
       "      <td>84.784334</td>\n",
       "      <td>0.000000</td>\n",
       "      <td>144.618869</td>\n",
       "      <td>0.000000</td>\n",
       "      <td>112.912108</td>\n",
       "      <td>0.000000</td>\n",
       "      <td>61.670358</td>\n",
       "      <td>...</td>\n",
       "      <td>28.395788</td>\n",
       "      <td>21.731743</td>\n",
       "      <td>0.000000</td>\n",
       "      <td>29.096915</td>\n",
       "      <td>0.000000</td>\n",
       "      <td>21.802599</td>\n",
       "      <td>0.000000</td>\n",
       "      <td>23.780761</td>\n",
       "      <td>0.000000</td>\n",
       "      <td>34.346396</td>\n",
       "    </tr>\n",
       "    <tr>\n",
       "      <th>8756</th>\n",
       "      <td>211.993734</td>\n",
       "      <td>126.618833</td>\n",
       "      <td>0.000000</td>\n",
       "      <td>81.646676</td>\n",
       "      <td>0.000000</td>\n",
       "      <td>139.263524</td>\n",
       "      <td>0.000000</td>\n",
       "      <td>108.727370</td>\n",
       "      <td>0.000000</td>\n",
       "      <td>59.382643</td>\n",
       "      <td>...</td>\n",
       "      <td>27.335257</td>\n",
       "      <td>20.919145</td>\n",
       "      <td>0.000000</td>\n",
       "      <td>28.010498</td>\n",
       "      <td>0.000000</td>\n",
       "      <td>20.988268</td>\n",
       "      <td>0.000000</td>\n",
       "      <td>22.890461</td>\n",
       "      <td>0.000000</td>\n",
       "      <td>33.064109</td>\n",
       "    </tr>\n",
       "    <tr>\n",
       "      <th>8757</th>\n",
       "      <td>200.220722</td>\n",
       "      <td>119.587877</td>\n",
       "      <td>0.000000</td>\n",
       "      <td>77.112005</td>\n",
       "      <td>0.000000</td>\n",
       "      <td>131.527871</td>\n",
       "      <td>0.000000</td>\n",
       "      <td>102.686898</td>\n",
       "      <td>0.000000</td>\n",
       "      <td>56.082992</td>\n",
       "      <td>...</td>\n",
       "      <td>25.814353</td>\n",
       "      <td>19.754959</td>\n",
       "      <td>0.000000</td>\n",
       "      <td>26.452108</td>\n",
       "      <td>0.000000</td>\n",
       "      <td>19.820491</td>\n",
       "      <td>0.000000</td>\n",
       "      <td>21.616261</td>\n",
       "      <td>0.000000</td>\n",
       "      <td>31.224590</td>\n",
       "    </tr>\n",
       "    <tr>\n",
       "      <th>8758</th>\n",
       "      <td>150.798173</td>\n",
       "      <td>90.066974</td>\n",
       "      <td>0.000000</td>\n",
       "      <td>58.078681</td>\n",
       "      <td>0.000000</td>\n",
       "      <td>99.065363</td>\n",
       "      <td>0.000000</td>\n",
       "      <td>77.344847</td>\n",
       "      <td>0.000000</td>\n",
       "      <td>42.243630</td>\n",
       "      <td>...</td>\n",
       "      <td>19.448758</td>\n",
       "      <td>14.884160</td>\n",
       "      <td>0.000000</td>\n",
       "      <td>19.929058</td>\n",
       "      <td>0.000000</td>\n",
       "      <td>14.932958</td>\n",
       "      <td>0.000000</td>\n",
       "      <td>16.287221</td>\n",
       "      <td>0.000000</td>\n",
       "      <td>23.524564</td>\n",
       "    </tr>\n",
       "    <tr>\n",
       "      <th>8759</th>\n",
       "      <td>91.584794</td>\n",
       "      <td>54.698012</td>\n",
       "      <td>0.000000</td>\n",
       "      <td>35.274662</td>\n",
       "      <td>0.000000</td>\n",
       "      <td>60.171517</td>\n",
       "      <td>0.000000</td>\n",
       "      <td>46.982071</td>\n",
       "      <td>0.000000</td>\n",
       "      <td>25.662309</td>\n",
       "      <td>...</td>\n",
       "      <td>11.821616</td>\n",
       "      <td>9.048012</td>\n",
       "      <td>0.000000</td>\n",
       "      <td>12.113273</td>\n",
       "      <td>0.000000</td>\n",
       "      <td>9.076802</td>\n",
       "      <td>0.000000</td>\n",
       "      <td>9.901973</td>\n",
       "      <td>0.000000</td>\n",
       "      <td>14.298574</td>\n",
       "    </tr>\n",
       "  </tbody>\n",
       "</table>\n",
       "<p>8760 rows × 403 columns</p>\n",
       "</div>"
      ],
      "text/plain": [
       "           DE111       DE112      DE113      DE114      DE115       DE116  \\\n",
       "0      61.963656   37.003866  51.577346  23.867618  53.049612   40.717331   \n",
       "1      52.000981   31.052472  43.285877  20.031137  44.521879   34.174616   \n",
       "2      48.922454   29.213618  40.723649  18.845547  41.886602   32.152524   \n",
       "3      47.416866   28.314188  39.470631  18.265779  40.597920   31.163856   \n",
       "4      54.929391   32.801413  45.723327  21.159039  47.028893   36.098634   \n",
       "...          ...         ...        ...        ...        ...         ...   \n",
       "8755  220.136230  131.479212   0.000000  84.784334   0.000000  144.618869   \n",
       "8756  211.993734  126.618833   0.000000  81.646676   0.000000  139.263524   \n",
       "8757  200.220722  119.587877   0.000000  77.112005   0.000000  131.527871   \n",
       "8758  150.798173   90.066974   0.000000  58.078681   0.000000   99.065363   \n",
       "8759   91.584794   54.698012   0.000000  35.274662   0.000000   60.171517   \n",
       "\n",
       "          DE117       DE118      DE119      DE11A  ...      DEG0F      DEG0G  \\\n",
       "0     15.803291   31.796530  10.019867  17.370128  ...   8.010078   6.131861   \n",
       "1     13.264573   26.689653   8.411566  14.581630  ...   6.728844   5.151676   \n",
       "2     12.479898   25.111105   7.914346  13.719577  ...   6.332336   4.848278   \n",
       "3     12.096301   24.339490   7.671366  13.298281  ...   6.138876   4.700290   \n",
       "4     14.011287   28.191978   8.884912  15.402230  ...   7.106929   5.441062   \n",
       "...         ...         ...        ...        ...  ...        ...        ...   \n",
       "8755   0.000000  112.912108   0.000000  61.670358  ...  28.395788  21.731743   \n",
       "8756   0.000000  108.727370   0.000000  59.382643  ...  27.335257  20.919145   \n",
       "8757   0.000000  102.686898   0.000000  56.082992  ...  25.814353  19.754959   \n",
       "8758   0.000000   77.344847   0.000000  42.243630  ...  19.448758  14.884160   \n",
       "8759   0.000000   46.982071   0.000000  25.662309  ...  11.821616   9.048012   \n",
       "\n",
       "         DEG0H      DEG0I     DEG0J      DEG0K     DEG0L      DEG0M     DEG0N  \\\n",
       "0     4.426170   8.207341  6.405845   6.150287  7.643702   6.711867  3.183014   \n",
       "1     3.717838   6.894357  5.382209   5.166556  6.421704   5.639677  2.673931   \n",
       "2     3.498660   6.488041  5.065329   4.862114  6.043469   5.307734  2.516379   \n",
       "3     3.391695   6.289779  4.910789   4.713572  5.858966   5.145873  2.439514   \n",
       "4     3.926782   7.281765  5.684498   5.456851  6.782445   5.956380  2.824171   \n",
       "...        ...        ...       ...        ...       ...        ...       ...   \n",
       "8755  0.000000  29.096915  0.000000  21.802599  0.000000  23.780761  0.000000   \n",
       "8756  0.000000  28.010498  0.000000  20.988268  0.000000  22.890461  0.000000   \n",
       "8757  0.000000  26.452108  0.000000  19.820491  0.000000  21.616261  0.000000   \n",
       "8758  0.000000  19.929058  0.000000  14.932958  0.000000  16.287221  0.000000   \n",
       "8759  0.000000  12.113273  0.000000   9.076802  0.000000   9.901973  0.000000   \n",
       "\n",
       "          DEG0P  \n",
       "0      9.687897  \n",
       "1      8.137995  \n",
       "2      7.658369  \n",
       "3      7.424340  \n",
       "4      8.595301  \n",
       "...         ...  \n",
       "8755  34.346396  \n",
       "8756  33.064109  \n",
       "8757  31.224590  \n",
       "8758  23.524564  \n",
       "8759  14.298574  \n",
       "\n",
       "[8760 rows x 403 columns]"
      ]
     },
     "execution_count": 6,
     "metadata": {},
     "output_type": "execute_result"
    }
   ],
   "source": [
    "df_elc_tempo_ZVE = temporal.disagg_temporal(df_spat, df_temp, time_indexed=True)\n",
    "df_elc_tempo_ZVE"
   ]
  },
  {
   "cell_type": "markdown",
   "metadata": {
    "jukit_cell_id": "CtRKJhINcc"
   },
   "source": [
    "So let's take out one region, e.g. Berlin (DE300), and plot it as a line graph:"
   ]
  },
  {
   "cell_type": "code",
   "execution_count": 7,
   "metadata": {
    "jukit_cell_id": "XNb2lqFgIq"
   },
   "outputs": [
    {
     "data": {
      "image/png": "[encoded data removed]",
      "text/plain": [
       "<Figure size 2000x400 with 1 Axes>"
      ]
     },
     "metadata": {},
     "output_type": "display_data"
    }
   ],
   "source": [
    "fig, ax = plt.subplots(figsize=(20, 4))\n",
    "df_elc_tempo_ZVE[\"DE300\"].plot(ax=ax)\n",
    "plot.set_ax_format(\n",
    "    ax=ax,\n",
    "    xlim=(0, 8760),\n",
    "    ylim=(0, None),\n",
    "    ylabel=\"[MWh]\",\n",
    "    xlabel=\"Hour of Year\",\n",
    "    axtitle=\"Power Consumption of Private Households in Berlin\",\n",
    ")"
   ]
  },
  {
   "cell_type": "markdown",
   "metadata": {
    "jukit_cell_id": "qBODJTUPIV"
   },
   "source": [
    "This depictation however does not provide a good visualization of what is happening on shorter timescales, i.e. within one day.\n",
    "\n",
    "Therefore, we choose to plot it as a heatmap:"
   ]
  },
  {
   "cell_type": "code",
   "execution_count": 8,
   "metadata": {
    "jukit_cell_id": "raiMRE7Tii"
   },
   "outputs": [
    {
     "name": "stderr",
     "output_type": "stream",
     "text": [
      "2025-09-25 14:38:46 disaggregator.plot: WARNING  This is currently buggy and may distort your figure!\n"
     ]
    },
    {
     "data": {
      "image/png": "[encoded data removed]",
      "text/plain": [
       "<Figure size 1200x300 with 2 Axes>"
      ]
     },
     "metadata": {},
     "output_type": "display_data"
    }
   ],
   "source": [
    "fig, ax = plot.heatmap_timeseries(df_elc_tempo_ZVE[\"DE300\"], clabel=\"[MWh]\")"
   ]
  },
  {
   "cell_type": "markdown",
   "metadata": {
    "jukit_cell_id": "ijJDtDirnu"
   },
   "source": [
    "# Power by 'Standard Load Profiles' (SLP, all years)\n",
    "update Dec 2020"
   ]
  },
  {
   "cell_type": "code",
   "execution_count": 9,
   "metadata": {
    "jukit_cell_id": "batJHcZ5ct"
   },
   "outputs": [
    {
     "name": "stdout",
     "output_type": "stream",
     "text": [
      "2025-09-25 14:38:46 disaggregator.data: INFO     Requesting data from https://api.opendata.ffe.de/demandregio/demandregio_spatial?id_spatial=2&year=2011 (attempt 1/6)\n",
      "2025-09-25 14:39:02 disaggregator.data: INFO     Requesting data from https://api.opendata.ffe.de/demandregio/demandregio_spatial?id_spatial=48&year=2011 (attempt 1/6)\n"
     ]
    },
    {
     "name": "stderr",
     "output_type": "stream",
     "text": [
      "2025-09-25 14:39:02 disaggregator.config: WARNING  The mapping of the AGS to NUTS-3 regions is done using the file t_nuts3_lk.csv which is for a unknown year. This may not correspond entirely to the AGS number of the data fetched for another year from opendata.\n",
      "2025-09-25 14:39:02 disaggregator.config: WARNING  The mapping of the AGS to NUTS-3 regions is done using the file t_nuts3_lk.csv which is for a unknown year. This may not correspond entirely to the AGS number of the data fetched for another year from opendata.\n",
      "2025-09-25 14:39:02 disaggregator.config: WARNING  The mapping of the AGS to NUTS-3 regions is done using the file t_nuts3_lk.csv which is for a unknown year. This may not correspond entirely to the AGS number of the data fetched for another year from opendata.\n",
      "2025-09-25 14:39:02 disaggregator.config: WARNING  The mapping of the AGS to NUTS-3 regions is done using the file t_nuts3_lk.csv which is for a unknown year. This may not correspond entirely to the AGS number of the data fetched for another year from opendata.\n",
      "2025-09-25 14:39:02 disaggregator.config: WARNING  The mapping of the AGS to NUTS-3 regions is done using the file t_nuts3_lk.csv which is for a unknown year. This may not correspond entirely to the AGS number of the data fetched for another year from opendata.\n"
     ]
    },
    {
     "name": "stdout",
     "output_type": "stream",
     "text": [
      "2025-09-25 14:39:02 disaggregator.temporal: INFO     Working on state: SH.\n",
      "2025-09-25 14:39:02 disaggregator.temporal: INFO     ... creating state-specific load-profiles\n",
      "2025-09-25 14:39:04 disaggregator.temporal: INFO     ... assigning load-profiles\n",
      "2025-09-25 14:39:04 disaggregator.temporal: INFO     Working on state: HH.\n",
      "2025-09-25 14:39:04 disaggregator.temporal: INFO     ... creating state-specific load-profiles\n",
      "2025-09-25 14:39:05 disaggregator.temporal: INFO     ... assigning load-profiles\n",
      "2025-09-25 14:39:05 disaggregator.temporal: INFO     Working on state: NI.\n",
      "2025-09-25 14:39:05 disaggregator.temporal: INFO     ... creating state-specific load-profiles\n",
      "2025-09-25 14:39:06 disaggregator.temporal: INFO     ... assigning load-profiles\n",
      "2025-09-25 14:39:06 disaggregator.temporal: INFO     Working on state: HB.\n",
      "2025-09-25 14:39:06 disaggregator.temporal: INFO     ... creating state-specific load-profiles\n",
      "2025-09-25 14:39:08 disaggregator.temporal: INFO     ... assigning load-profiles\n",
      "2025-09-25 14:39:08 disaggregator.temporal: INFO     Working on state: NW.\n",
      "2025-09-25 14:39:08 disaggregator.temporal: INFO     ... creating state-specific load-profiles\n",
      "2025-09-25 14:39:09 disaggregator.temporal: INFO     ... assigning load-profiles\n",
      "2025-09-25 14:39:09 disaggregator.temporal: INFO     Working on state: HE.\n",
      "2025-09-25 14:39:09 disaggregator.temporal: INFO     ... creating state-specific load-profiles\n",
      "2025-09-25 14:39:10 disaggregator.temporal: INFO     ... assigning load-profiles\n",
      "2025-09-25 14:39:10 disaggregator.temporal: INFO     Working on state: RP.\n",
      "2025-09-25 14:39:10 disaggregator.temporal: INFO     ... creating state-specific load-profiles\n",
      "2025-09-25 14:39:12 disaggregator.temporal: INFO     ... assigning load-profiles\n",
      "2025-09-25 14:39:12 disaggregator.temporal: INFO     Working on state: BW.\n",
      "2025-09-25 14:39:12 disaggregator.temporal: INFO     ... creating state-specific load-profiles\n",
      "2025-09-25 14:39:13 disaggregator.temporal: INFO     ... assigning load-profiles\n",
      "2025-09-25 14:39:13 disaggregator.temporal: INFO     Working on state: BY.\n",
      "2025-09-25 14:39:13 disaggregator.temporal: INFO     ... creating state-specific load-profiles\n",
      "2025-09-25 14:39:14 disaggregator.temporal: INFO     ... assigning load-profiles\n",
      "2025-09-25 14:39:14 disaggregator.temporal: INFO     Working on state: SL.\n",
      "2025-09-25 14:39:14 disaggregator.temporal: INFO     ... creating state-specific load-profiles\n",
      "2025-09-25 14:39:16 disaggregator.temporal: INFO     ... assigning load-profiles\n",
      "2025-09-25 14:39:16 disaggregator.temporal: INFO     Working on state: BE.\n",
      "2025-09-25 14:39:16 disaggregator.temporal: INFO     ... creating state-specific load-profiles\n",
      "2025-09-25 14:39:17 disaggregator.temporal: INFO     ... assigning load-profiles\n",
      "2025-09-25 14:39:17 disaggregator.temporal: INFO     Working on state: BB.\n",
      "2025-09-25 14:39:17 disaggregator.temporal: INFO     ... creating state-specific load-profiles\n",
      "2025-09-25 14:39:18 disaggregator.temporal: INFO     ... assigning load-profiles\n",
      "2025-09-25 14:39:19 disaggregator.temporal: INFO     Working on state: MV.\n",
      "2025-09-25 14:39:19 disaggregator.temporal: INFO     ... creating state-specific load-profiles\n",
      "2025-09-25 14:39:20 disaggregator.temporal: INFO     ... assigning load-profiles\n",
      "2025-09-25 14:39:20 disaggregator.temporal: INFO     Working on state: SN.\n",
      "2025-09-25 14:39:20 disaggregator.temporal: INFO     ... creating state-specific load-profiles\n",
      "2025-09-25 14:39:21 disaggregator.temporal: INFO     ... assigning load-profiles\n",
      "2025-09-25 14:39:21 disaggregator.temporal: INFO     Working on state: ST.\n",
      "2025-09-25 14:39:21 disaggregator.temporal: INFO     ... creating state-specific load-profiles\n",
      "2025-09-25 14:39:23 disaggregator.temporal: INFO     ... assigning load-profiles\n",
      "2025-09-25 14:39:23 disaggregator.temporal: INFO     Working on state: TH.\n",
      "2025-09-25 14:39:23 disaggregator.temporal: INFO     ... creating state-specific load-profiles\n",
      "2025-09-25 14:39:24 disaggregator.temporal: INFO     ... assigning load-profiles\n"
     ]
    },
    {
     "name": "stderr",
     "output_type": "stream",
     "text": [
      "2025-09-25 14:39:24 disaggregator.config: WARNING  The mapping of the AGS to NUTS-3 regions is done using the file t_nuts3_lk.csv which is for a unknown year. This may not correspond entirely to the AGS number of the data fetched for another year from opendata.\n"
     ]
    }
   ],
   "source": [
    "df_elec_temp_slp = temporal.disagg_temporal_power_housholds_slp(\n",
    "    use_nuts3code=True, by=\"population\", weight_by_income=False, year=2011\n",
    ")"
   ]
  },
  {
   "cell_type": "code",
   "execution_count": 10,
   "metadata": {
    "jukit_cell_id": "Mayh3IwWXg"
   },
   "outputs": [
    {
     "data": {
      "text/html": [
       "<div>\n",
       "<style scoped>\n",
       "    .dataframe tbody tr th:only-of-type {\n",
       "        vertical-align: middle;\n",
       "    }\n",
       "\n",
       "    .dataframe tbody tr th {\n",
       "        vertical-align: top;\n",
       "    }\n",
       "\n",
       "    .dataframe thead th {\n",
       "        text-align: right;\n",
       "    }\n",
       "</style>\n",
       "<table border=\"1\" class=\"dataframe\">\n",
       "  <thead>\n",
       "    <tr style=\"text-align: right;\">\n",
       "      <th></th>\n",
       "      <th>DEF01</th>\n",
       "      <th>DEF02</th>\n",
       "      <th>DEF03</th>\n",
       "      <th>DEF04</th>\n",
       "      <th>DEF05</th>\n",
       "      <th>DEF06</th>\n",
       "      <th>DEF07</th>\n",
       "      <th>DEF08</th>\n",
       "      <th>DEF09</th>\n",
       "      <th>DEF0A</th>\n",
       "      <th>...</th>\n",
       "      <th>DEG0F</th>\n",
       "      <th>DEG0G</th>\n",
       "      <th>DEG0H</th>\n",
       "      <th>DEG0I</th>\n",
       "      <th>DEG0J</th>\n",
       "      <th>DEG0K</th>\n",
       "      <th>DEG0L</th>\n",
       "      <th>DEG0M</th>\n",
       "      <th>DEG0N</th>\n",
       "      <th>DEG0P</th>\n",
       "    </tr>\n",
       "  </thead>\n",
       "  <tbody>\n",
       "    <tr>\n",
       "      <th>2011-01-01 00:00:00</th>\n",
       "      <td>2.585153</td>\n",
       "      <td>7.420267</td>\n",
       "      <td>6.577667</td>\n",
       "      <td>2.410314</td>\n",
       "      <td>4.167634</td>\n",
       "      <td>5.847620</td>\n",
       "      <td>5.089973</td>\n",
       "      <td>6.180564</td>\n",
       "      <td>9.282304</td>\n",
       "      <td>3.971721</td>\n",
       "      <td>...</td>\n",
       "      <td>3.438300</td>\n",
       "      <td>2.574253</td>\n",
       "      <td>1.825217</td>\n",
       "      <td>3.513850</td>\n",
       "      <td>2.643528</td>\n",
       "      <td>2.661698</td>\n",
       "      <td>3.261258</td>\n",
       "      <td>2.991682</td>\n",
       "      <td>1.302080</td>\n",
       "      <td>3.999305</td>\n",
       "    </tr>\n",
       "    <tr>\n",
       "      <th>2011-01-01 00:15:00</th>\n",
       "      <td>3.090176</td>\n",
       "      <td>8.869855</td>\n",
       "      <td>7.862649</td>\n",
       "      <td>2.881181</td>\n",
       "      <td>4.981803</td>\n",
       "      <td>6.989983</td>\n",
       "      <td>6.084326</td>\n",
       "      <td>7.387969</td>\n",
       "      <td>11.095650</td>\n",
       "      <td>4.747617</td>\n",
       "      <td>...</td>\n",
       "      <td>4.109990</td>\n",
       "      <td>3.077147</td>\n",
       "      <td>2.181782</td>\n",
       "      <td>4.200299</td>\n",
       "      <td>3.159955</td>\n",
       "      <td>3.181674</td>\n",
       "      <td>3.898361</td>\n",
       "      <td>3.576123</td>\n",
       "      <td>1.556449</td>\n",
       "      <td>4.780590</td>\n",
       "    </tr>\n",
       "    <tr>\n",
       "      <th>2011-01-01 00:30:00</th>\n",
       "      <td>2.864152</td>\n",
       "      <td>8.221088</td>\n",
       "      <td>7.287552</td>\n",
       "      <td>2.670443</td>\n",
       "      <td>4.617420</td>\n",
       "      <td>6.478716</td>\n",
       "      <td>5.639301</td>\n",
       "      <td>6.847592</td>\n",
       "      <td>10.284083</td>\n",
       "      <td>4.400363</td>\n",
       "      <td>...</td>\n",
       "      <td>3.809374</td>\n",
       "      <td>2.852076</td>\n",
       "      <td>2.022200</td>\n",
       "      <td>3.893077</td>\n",
       "      <td>2.928827</td>\n",
       "      <td>2.948957</td>\n",
       "      <td>3.613224</td>\n",
       "      <td>3.314555</td>\n",
       "      <td>1.442606</td>\n",
       "      <td>4.430924</td>\n",
       "    </tr>\n",
       "    <tr>\n",
       "      <th>2011-01-01 00:45:00</th>\n",
       "      <td>2.648722</td>\n",
       "      <td>7.602733</td>\n",
       "      <td>6.739413</td>\n",
       "      <td>2.469584</td>\n",
       "      <td>4.270117</td>\n",
       "      <td>5.991414</td>\n",
       "      <td>5.215137</td>\n",
       "      <td>6.332545</td>\n",
       "      <td>9.510557</td>\n",
       "      <td>4.069386</td>\n",
       "      <td>...</td>\n",
       "      <td>3.522849</td>\n",
       "      <td>2.637554</td>\n",
       "      <td>1.870099</td>\n",
       "      <td>3.600256</td>\n",
       "      <td>2.708533</td>\n",
       "      <td>2.727149</td>\n",
       "      <td>3.341453</td>\n",
       "      <td>3.065248</td>\n",
       "      <td>1.334099</td>\n",
       "      <td>4.097649</td>\n",
       "    </tr>\n",
       "    <tr>\n",
       "      <th>2011-01-01 01:00:00</th>\n",
       "      <td>2.440356</td>\n",
       "      <td>7.004651</td>\n",
       "      <td>6.209246</td>\n",
       "      <td>2.275310</td>\n",
       "      <td>3.934201</td>\n",
       "      <td>5.520089</td>\n",
       "      <td>4.804879</td>\n",
       "      <td>5.834385</td>\n",
       "      <td>8.762393</td>\n",
       "      <td>3.749261</td>\n",
       "      <td>...</td>\n",
       "      <td>3.245718</td>\n",
       "      <td>2.430067</td>\n",
       "      <td>1.722985</td>\n",
       "      <td>3.317036</td>\n",
       "      <td>2.495462</td>\n",
       "      <td>2.512613</td>\n",
       "      <td>3.078592</td>\n",
       "      <td>2.824115</td>\n",
       "      <td>1.229150</td>\n",
       "      <td>3.775300</td>\n",
       "    </tr>\n",
       "  </tbody>\n",
       "</table>\n",
       "<p>5 rows × 401 columns</p>\n",
       "</div>"
      ],
      "text/plain": [
       "                        DEF01     DEF02     DEF03     DEF04     DEF05  \\\n",
       "2011-01-01 00:00:00  2.585153  7.420267  6.577667  2.410314  4.167634   \n",
       "2011-01-01 00:15:00  3.090176  8.869855  7.862649  2.881181  4.981803   \n",
       "2011-01-01 00:30:00  2.864152  8.221088  7.287552  2.670443  4.617420   \n",
       "2011-01-01 00:45:00  2.648722  7.602733  6.739413  2.469584  4.270117   \n",
       "2011-01-01 01:00:00  2.440356  7.004651  6.209246  2.275310  3.934201   \n",
       "\n",
       "                        DEF06     DEF07     DEF08      DEF09     DEF0A  ...  \\\n",
       "2011-01-01 00:00:00  5.847620  5.089973  6.180564   9.282304  3.971721  ...   \n",
       "2011-01-01 00:15:00  6.989983  6.084326  7.387969  11.095650  4.747617  ...   \n",
       "2011-01-01 00:30:00  6.478716  5.639301  6.847592  10.284083  4.400363  ...   \n",
       "2011-01-01 00:45:00  5.991414  5.215137  6.332545   9.510557  4.069386  ...   \n",
       "2011-01-01 01:00:00  5.520089  4.804879  5.834385   8.762393  3.749261  ...   \n",
       "\n",
       "                        DEG0F     DEG0G     DEG0H     DEG0I     DEG0J  \\\n",
       "2011-01-01 00:00:00  3.438300  2.574253  1.825217  3.513850  2.643528   \n",
       "2011-01-01 00:15:00  4.109990  3.077147  2.181782  4.200299  3.159955   \n",
       "2011-01-01 00:30:00  3.809374  2.852076  2.022200  3.893077  2.928827   \n",
       "2011-01-01 00:45:00  3.522849  2.637554  1.870099  3.600256  2.708533   \n",
       "2011-01-01 01:00:00  3.245718  2.430067  1.722985  3.317036  2.495462   \n",
       "\n",
       "                        DEG0K     DEG0L     DEG0M     DEG0N     DEG0P  \n",
       "2011-01-01 00:00:00  2.661698  3.261258  2.991682  1.302080  3.999305  \n",
       "2011-01-01 00:15:00  3.181674  3.898361  3.576123  1.556449  4.780590  \n",
       "2011-01-01 00:30:00  2.948957  3.613224  3.314555  1.442606  4.430924  \n",
       "2011-01-01 00:45:00  2.727149  3.341453  3.065248  1.334099  4.097649  \n",
       "2011-01-01 01:00:00  2.512613  3.078592  2.824115  1.229150  3.775300  \n",
       "\n",
       "[5 rows x 401 columns]"
      ]
     },
     "execution_count": 10,
     "metadata": {},
     "output_type": "execute_result"
    }
   ],
   "source": [
    "df_elec_temp_slp.head()"
   ]
  },
  {
   "cell_type": "markdown",
   "metadata": {
    "jukit_cell_id": "P9qdNiDlXA"
   },
   "source": [
    "... and can then be plotted directly:"
   ]
  },
  {
   "cell_type": "code",
   "execution_count": 11,
   "metadata": {
    "jukit_cell_id": "lOO8MVpGnt"
   },
   "outputs": [
    {
     "name": "stderr",
     "output_type": "stream",
     "text": [
      "/tmp/ipykernel_27962/1442032728.py:2: FutureWarning: 'H' is deprecated and will be removed in a future version, please use 'h' instead.\n",
      "  df_elec_temp_slp.resample(\"H\").sum()[\"DE300\"], clabel=\"[MWh]\"\n",
      "2025-09-25 14:39:24 disaggregator.plot: WARNING  This is currently buggy and may distort your figure!\n"
     ]
    },
    {
     "data": {
      "image/png": "[encoded data removed]",
      "text/plain": [
       "<Figure size 1200x300 with 2 Axes>"
      ]
     },
     "metadata": {},
     "output_type": "display_data"
    }
   ],
   "source": [
    "fig, ax = plot.heatmap_timeseries(\n",
    "    df_elec_temp_slp.resample(\"H\").sum()[\"DE300\"], clabel=\"[MWh]\"\n",
    ")"
   ]
  },
  {
   "cell_type": "markdown",
   "metadata": {
    "jukit_cell_id": "6nHBGwDBRn"
   },
   "source": [
    "# Gas by 'Standard Load Profiles' (SLP, all years)\n",
    "update Dec 2020"
   ]
  },
  {
   "cell_type": "markdown",
   "metadata": {
    "jukit_cell_id": "eKZQ7Ooy03"
   },
   "source": [
    "Use ``disagg_temporal_gas_households()`` to get hourly gas demand of household per region in **MWh**. Function uses spatial function ``disagg_households_gas()``, which distinguishes between gas demand for heating, cooking and warm water. However, demands are summed up for SLP.\n",
    "Demands are then split between demand for _single family houses (EFH)_ and _multi family houses (MFH)_ with the help of ``data.percentage_EFH_MFH()``, which calculates the percentages of EFH and MFH per NUTS-3 based on the available living spaces."
   ]
  },
  {
   "cell_type": "code",
   "execution_count": 12,
   "metadata": {
    "jukit_cell_id": "hLe4QFz3sY",
    "scrolled": true
   },
   "outputs": [
    {
     "name": "stderr",
     "output_type": "stream",
     "text": [
      "2025-09-25 14:39:24 disaggregator.config: WARNING  The mapping of the AGS to NUTS-3 regions is done using the file t_nuts3_lk.csv which is for a unknown year. This may not correspond entirely to the AGS number of the data fetched for another year from opendata.\n"
     ]
    },
    {
     "name": "stdout",
     "output_type": "stream",
     "text": [
      "2025-09-25 14:39:24 disaggregator.data: INFO     Requesting data from https://api.opendata.ffe.de/demandregio/demandregio_temporal?year_base=2016&year_weather=2016&id_temporal=12&year=2016&internal_id_1=1 (attempt 1/6)\n"
     ]
    },
    {
     "name": "stderr",
     "output_type": "stream",
     "text": [
      "2025-09-25 14:39:51 disaggregator.config: WARNING  The mapping of the AGS to NUTS-3 regions is done using the file t_nuts3_lk.csv which is for a unknown year. This may not correspond entirely to the AGS number of the data fetched for another year from opendata.\n",
      "2025-09-25 14:39:52 disaggregator.config: WARNING  The mapping of the AGS to NUTS-3 regions is done using the file t_nuts3_lk.csv which is for a unknown year. This may not correspond entirely to the AGS number of the data fetched for another year from opendata.\n"
     ]
    },
    {
     "name": "stdout",
     "output_type": "stream",
     "text": [
      "2025-09-25 14:39:52 disaggregator.data: INFO     Dropping old NUTS-v2013 regions.\n",
      "2025-09-25 14:39:52 disaggregator.temporal: INFO     Working on state: SH.\n",
      "2025-09-25 14:39:52 disaggregator.data: INFO     Requesting data from https://api.opendata.ffe.de/demandregio/demandregio_spatial?id_spatial=35&year=2016 (attempt 1/6)\n"
     ]
    },
    {
     "name": "stderr",
     "output_type": "stream",
     "text": [
      "/home/rhindrikson/all/repos/demandregio/disaggregator/data.py:1648: FutureWarning: Non-integer 'periods' in pd.date_range, pd.timedelta_range, pd.period_range, and pd.interval_range are deprecated and will raise in a future version.\n",
      "  date=pd.date_range(\n"
     ]
    },
    {
     "name": "stdout",
     "output_type": "stream",
     "text": [
      "2025-09-25 14:39:52 disaggregator.data: INFO     Using living space data for year 2018.\n"
     ]
    },
    {
     "name": "stderr",
     "output_type": "stream",
     "text": [
      "2025-09-25 14:39:56 disaggregator.config: WARNING  The mapping of the AGS to NUTS-3 regions is done using the file t_nuts3_lk.csv which is for a unknown year. This may not correspond entirely to the AGS number of the data fetched for another year from opendata.\n",
      "2025-09-25 14:39:57 disaggregator.config: WARNING  The mapping of the AGS to NUTS-3 regions is done using the file t_nuts3_lk.csv which is for a unknown year. This may not correspond entirely to the AGS number of the data fetched for another year from opendata.\n"
     ]
    },
    {
     "name": "stdout",
     "output_type": "stream",
     "text": [
      "2025-09-25 14:39:57 disaggregator.data: INFO     Merging old Göttingen+Osterode to new NUTS-v2016 region.\n",
      "2025-09-25 14:39:57 disaggregator.data: INFO     Requesting data from https://api.opendata.ffe.de/demandregio/demandregio_spatial?id_spatial=48&year=2016 (attempt 1/6)\n"
     ]
    },
    {
     "name": "stderr",
     "output_type": "stream",
     "text": [
      "2025-09-25 14:39:57 disaggregator.config: WARNING  The mapping of the AGS to NUTS-3 regions is done using the file t_nuts3_lk.csv which is for a unknown year. This may not correspond entirely to the AGS number of the data fetched for another year from opendata.\n",
      "2025-09-25 14:39:57 disaggregator.config: WARNING  The mapping of the AGS to NUTS-3 regions is done using the file t_nuts3_lk.csv which is for a unknown year. This may not correspond entirely to the AGS number of the data fetched for another year from opendata.\n"
     ]
    },
    {
     "name": "stdout",
     "output_type": "stream",
     "text": [
      "2025-09-25 14:39:57 disaggregator.data: INFO     Requesting data from https://api.opendata.ffe.de/demandregio/demandregio_spatial?id_spatial=41&year=2016 (attempt 1/6)\n"
     ]
    },
    {
     "name": "stderr",
     "output_type": "stream",
     "text": [
      "2025-09-25 14:39:58 disaggregator.config: WARNING  The mapping of the AGS to NUTS-3 regions is done using the file t_nuts3_lk.csv which is for a unknown year. This may not correspond entirely to the AGS number of the data fetched for another year from opendata.\n",
      "2025-09-25 14:39:58 disaggregator.config: WARNING  The mapping of the AGS to NUTS-3 regions is done using the file t_nuts3_lk.csv which is for a unknown year. This may not correspond entirely to the AGS number of the data fetched for another year from opendata.\n"
     ]
    },
    {
     "name": "stdout",
     "output_type": "stream",
     "text": [
      "2025-09-25 14:39:58 disaggregator.data: INFO     Merging old Göttingen+Osterode to new NUTS-v2016 region.\n",
      "2025-09-25 14:39:58 disaggregator.spatial: INFO     Calculating regional gas demands top-down.\n",
      "2025-09-25 14:39:58 disaggregator.data: INFO     Requesting data from https://api.opendata.ffe.de/demandregio/demandregio_spatial?id_spatial=61&year=2011 (attempt 1/6)\n"
     ]
    },
    {
     "name": "stderr",
     "output_type": "stream",
     "text": [
      "2025-09-25 14:39:58 disaggregator.config: WARNING  The mapping of the AGS to NUTS-3 regions is done using the file t_nuts3_lk.csv which is for a unknown year. This may not correspond entirely to the AGS number of the data fetched for another year from opendata.\n",
      "2025-09-25 14:39:58 disaggregator.config: WARNING  The mapping of the AGS to NUTS-3 regions is done using the file t_nuts3_lk.csv which is for a unknown year. This may not correspond entirely to the AGS number of the data fetched for another year from opendata.\n"
     ]
    },
    {
     "name": "stdout",
     "output_type": "stream",
     "text": [
      "2025-09-25 14:39:58 disaggregator.data: INFO     Merging old Göttingen+Osterode to new NUTS-v2016 region.\n"
     ]
    },
    {
     "name": "stderr",
     "output_type": "stream",
     "text": [
      "2025-09-25 14:39:58 disaggregator.config: WARNING  The mapping of the AGS to NUTS-3 regions is done using the file t_nuts3_lk.csv which is for a unknown year. This may not correspond entirely to the AGS number of the data fetched for another year from opendata.\n",
      "2025-09-25 14:39:58 disaggregator.config: WARNING  The mapping of the AGS to NUTS-3 regions is done using the file t_nuts3_lk.csv which is for a unknown year. This may not correspond entirely to the AGS number of the data fetched for another year from opendata.\n"
     ]
    },
    {
     "name": "stdout",
     "output_type": "stream",
     "text": [
      "2025-09-25 14:39:58 disaggregator.data: INFO     Merging old Göttingen+Osterode to new NUTS-v2016 region.\n"
     ]
    },
    {
     "name": "stderr",
     "output_type": "stream",
     "text": [
      "2025-09-25 14:39:58 disaggregator.config: WARNING  The mapping of the AGS to NUTS-3 regions is done using the file t_nuts3_lk.csv which is for a unknown year. This may not correspond entirely to the AGS number of the data fetched for another year from opendata.\n"
     ]
    },
    {
     "name": "stdout",
     "output_type": "stream",
     "text": [
      "2025-09-25 14:39:58 disaggregator.temporal: INFO     ... creating state-specific load-profiles\n"
     ]
    },
    {
     "name": "stderr",
     "output_type": "stream",
     "text": [
      "2025-09-25 14:39:58 disaggregator.config: WARNING  The mapping of the AGS to NUTS-3 regions is done using the file t_nuts3_lk.csv which is for a unknown year. This may not correspond entirely to the AGS number of the data fetched for another year from opendata.\n"
     ]
    },
    {
     "name": "stdout",
     "output_type": "stream",
     "text": [
      "2025-09-25 14:40:00 disaggregator.temporal: INFO     Working on state: HH.\n",
      "2025-09-25 14:40:00 disaggregator.data: INFO     Using living space data for year 2018.\n"
     ]
    },
    {
     "name": "stderr",
     "output_type": "stream",
     "text": [
      "2025-09-25 14:40:03 disaggregator.config: WARNING  The mapping of the AGS to NUTS-3 regions is done using the file t_nuts3_lk.csv which is for a unknown year. This may not correspond entirely to the AGS number of the data fetched for another year from opendata.\n",
      "2025-09-25 14:40:04 disaggregator.config: WARNING  The mapping of the AGS to NUTS-3 regions is done using the file t_nuts3_lk.csv which is for a unknown year. This may not correspond entirely to the AGS number of the data fetched for another year from opendata.\n"
     ]
    },
    {
     "name": "stdout",
     "output_type": "stream",
     "text": [
      "2025-09-25 14:40:04 disaggregator.data: INFO     Merging old Göttingen+Osterode to new NUTS-v2016 region.\n"
     ]
    },
    {
     "name": "stderr",
     "output_type": "stream",
     "text": [
      "2025-09-25 14:40:04 disaggregator.config: WARNING  The mapping of the AGS to NUTS-3 regions is done using the file t_nuts3_lk.csv which is for a unknown year. This may not correspond entirely to the AGS number of the data fetched for another year from opendata.\n",
      "2025-09-25 14:40:04 disaggregator.config: WARNING  The mapping of the AGS to NUTS-3 regions is done using the file t_nuts3_lk.csv which is for a unknown year. This may not correspond entirely to the AGS number of the data fetched for another year from opendata.\n",
      "2025-09-25 14:40:04 disaggregator.config: WARNING  The mapping of the AGS to NUTS-3 regions is done using the file t_nuts3_lk.csv which is for a unknown year. This may not correspond entirely to the AGS number of the data fetched for another year from opendata.\n",
      "2025-09-25 14:40:04 disaggregator.config: WARNING  The mapping of the AGS to NUTS-3 regions is done using the file t_nuts3_lk.csv which is for a unknown year. This may not correspond entirely to the AGS number of the data fetched for another year from opendata.\n"
     ]
    },
    {
     "name": "stdout",
     "output_type": "stream",
     "text": [
      "2025-09-25 14:40:04 disaggregator.data: INFO     Merging old Göttingen+Osterode to new NUTS-v2016 region.\n",
      "2025-09-25 14:40:04 disaggregator.spatial: INFO     Calculating regional gas demands top-down.\n"
     ]
    },
    {
     "name": "stderr",
     "output_type": "stream",
     "text": [
      "2025-09-25 14:40:04 disaggregator.config: WARNING  The mapping of the AGS to NUTS-3 regions is done using the file t_nuts3_lk.csv which is for a unknown year. This may not correspond entirely to the AGS number of the data fetched for another year from opendata.\n",
      "2025-09-25 14:40:04 disaggregator.config: WARNING  The mapping of the AGS to NUTS-3 regions is done using the file t_nuts3_lk.csv which is for a unknown year. This may not correspond entirely to the AGS number of the data fetched for another year from opendata.\n"
     ]
    },
    {
     "name": "stdout",
     "output_type": "stream",
     "text": [
      "2025-09-25 14:40:04 disaggregator.data: INFO     Merging old Göttingen+Osterode to new NUTS-v2016 region.\n"
     ]
    },
    {
     "name": "stderr",
     "output_type": "stream",
     "text": [
      "2025-09-25 14:40:04 disaggregator.config: WARNING  The mapping of the AGS to NUTS-3 regions is done using the file t_nuts3_lk.csv which is for a unknown year. This may not correspond entirely to the AGS number of the data fetched for another year from opendata.\n",
      "2025-09-25 14:40:04 disaggregator.config: WARNING  The mapping of the AGS to NUTS-3 regions is done using the file t_nuts3_lk.csv which is for a unknown year. This may not correspond entirely to the AGS number of the data fetched for another year from opendata.\n"
     ]
    },
    {
     "name": "stdout",
     "output_type": "stream",
     "text": [
      "2025-09-25 14:40:04 disaggregator.data: INFO     Merging old Göttingen+Osterode to new NUTS-v2016 region.\n"
     ]
    },
    {
     "name": "stderr",
     "output_type": "stream",
     "text": [
      "2025-09-25 14:40:04 disaggregator.config: WARNING  The mapping of the AGS to NUTS-3 regions is done using the file t_nuts3_lk.csv which is for a unknown year. This may not correspond entirely to the AGS number of the data fetched for another year from opendata.\n"
     ]
    },
    {
     "name": "stdout",
     "output_type": "stream",
     "text": [
      "2025-09-25 14:40:04 disaggregator.temporal: INFO     ... creating state-specific load-profiles\n"
     ]
    },
    {
     "name": "stderr",
     "output_type": "stream",
     "text": [
      "2025-09-25 14:40:04 disaggregator.config: WARNING  The mapping of the AGS to NUTS-3 regions is done using the file t_nuts3_lk.csv which is for a unknown year. This may not correspond entirely to the AGS number of the data fetched for another year from opendata.\n"
     ]
    },
    {
     "name": "stdout",
     "output_type": "stream",
     "text": [
      "2025-09-25 14:40:04 disaggregator.temporal: INFO     Working on state: NI.\n",
      "2025-09-25 14:40:04 disaggregator.data: INFO     Using living space data for year 2018.\n"
     ]
    },
    {
     "name": "stderr",
     "output_type": "stream",
     "text": [
      "2025-09-25 14:40:08 disaggregator.config: WARNING  The mapping of the AGS to NUTS-3 regions is done using the file t_nuts3_lk.csv which is for a unknown year. This may not correspond entirely to the AGS number of the data fetched for another year from opendata.\n",
      "2025-09-25 14:40:08 disaggregator.config: WARNING  The mapping of the AGS to NUTS-3 regions is done using the file t_nuts3_lk.csv which is for a unknown year. This may not correspond entirely to the AGS number of the data fetched for another year from opendata.\n"
     ]
    },
    {
     "name": "stdout",
     "output_type": "stream",
     "text": [
      "2025-09-25 14:40:08 disaggregator.data: INFO     Merging old Göttingen+Osterode to new NUTS-v2016 region.\n"
     ]
    },
    {
     "name": "stderr",
     "output_type": "stream",
     "text": [
      "2025-09-25 14:40:08 disaggregator.config: WARNING  The mapping of the AGS to NUTS-3 regions is done using the file t_nuts3_lk.csv which is for a unknown year. This may not correspond entirely to the AGS number of the data fetched for another year from opendata.\n",
      "2025-09-25 14:40:08 disaggregator.config: WARNING  The mapping of the AGS to NUTS-3 regions is done using the file t_nuts3_lk.csv which is for a unknown year. This may not correspond entirely to the AGS number of the data fetched for another year from opendata.\n",
      "2025-09-25 14:40:08 disaggregator.config: WARNING  The mapping of the AGS to NUTS-3 regions is done using the file t_nuts3_lk.csv which is for a unknown year. This may not correspond entirely to the AGS number of the data fetched for another year from opendata.\n",
      "2025-09-25 14:40:08 disaggregator.config: WARNING  The mapping of the AGS to NUTS-3 regions is done using the file t_nuts3_lk.csv which is for a unknown year. This may not correspond entirely to the AGS number of the data fetched for another year from opendata.\n"
     ]
    },
    {
     "name": "stdout",
     "output_type": "stream",
     "text": [
      "2025-09-25 14:40:08 disaggregator.data: INFO     Merging old Göttingen+Osterode to new NUTS-v2016 region.\n",
      "2025-09-25 14:40:08 disaggregator.spatial: INFO     Calculating regional gas demands top-down.\n"
     ]
    },
    {
     "name": "stderr",
     "output_type": "stream",
     "text": [
      "2025-09-25 14:40:08 disaggregator.config: WARNING  The mapping of the AGS to NUTS-3 regions is done using the file t_nuts3_lk.csv which is for a unknown year. This may not correspond entirely to the AGS number of the data fetched for another year from opendata.\n",
      "2025-09-25 14:40:08 disaggregator.config: WARNING  The mapping of the AGS to NUTS-3 regions is done using the file t_nuts3_lk.csv which is for a unknown year. This may not correspond entirely to the AGS number of the data fetched for another year from opendata.\n"
     ]
    },
    {
     "name": "stdout",
     "output_type": "stream",
     "text": [
      "2025-09-25 14:40:08 disaggregator.data: INFO     Merging old Göttingen+Osterode to new NUTS-v2016 region.\n"
     ]
    },
    {
     "name": "stderr",
     "output_type": "stream",
     "text": [
      "2025-09-25 14:40:08 disaggregator.config: WARNING  The mapping of the AGS to NUTS-3 regions is done using the file t_nuts3_lk.csv which is for a unknown year. This may not correspond entirely to the AGS number of the data fetched for another year from opendata.\n",
      "2025-09-25 14:40:08 disaggregator.config: WARNING  The mapping of the AGS to NUTS-3 regions is done using the file t_nuts3_lk.csv which is for a unknown year. This may not correspond entirely to the AGS number of the data fetched for another year from opendata.\n"
     ]
    },
    {
     "name": "stdout",
     "output_type": "stream",
     "text": [
      "2025-09-25 14:40:08 disaggregator.data: INFO     Merging old Göttingen+Osterode to new NUTS-v2016 region.\n"
     ]
    },
    {
     "name": "stderr",
     "output_type": "stream",
     "text": [
      "2025-09-25 14:40:08 disaggregator.config: WARNING  The mapping of the AGS to NUTS-3 regions is done using the file t_nuts3_lk.csv which is for a unknown year. This may not correspond entirely to the AGS number of the data fetched for another year from opendata.\n"
     ]
    },
    {
     "name": "stdout",
     "output_type": "stream",
     "text": [
      "2025-09-25 14:40:09 disaggregator.temporal: INFO     ... creating state-specific load-profiles\n"
     ]
    },
    {
     "name": "stderr",
     "output_type": "stream",
     "text": [
      "2025-09-25 14:40:09 disaggregator.config: WARNING  The mapping of the AGS to NUTS-3 regions is done using the file t_nuts3_lk.csv which is for a unknown year. This may not correspond entirely to the AGS number of the data fetched for another year from opendata.\n"
     ]
    },
    {
     "name": "stdout",
     "output_type": "stream",
     "text": [
      "2025-09-25 14:40:13 disaggregator.temporal: INFO     Working on state: HB.\n",
      "2025-09-25 14:40:13 disaggregator.data: INFO     Using living space data for year 2018.\n"
     ]
    },
    {
     "name": "stderr",
     "output_type": "stream",
     "text": [
      "2025-09-25 14:40:17 disaggregator.config: WARNING  The mapping of the AGS to NUTS-3 regions is done using the file t_nuts3_lk.csv which is for a unknown year. This may not correspond entirely to the AGS number of the data fetched for another year from opendata.\n",
      "2025-09-25 14:40:18 disaggregator.config: WARNING  The mapping of the AGS to NUTS-3 regions is done using the file t_nuts3_lk.csv which is for a unknown year. This may not correspond entirely to the AGS number of the data fetched for another year from opendata.\n"
     ]
    },
    {
     "name": "stdout",
     "output_type": "stream",
     "text": [
      "2025-09-25 14:40:18 disaggregator.data: INFO     Merging old Göttingen+Osterode to new NUTS-v2016 region.\n"
     ]
    },
    {
     "name": "stderr",
     "output_type": "stream",
     "text": [
      "2025-09-25 14:40:18 disaggregator.config: WARNING  The mapping of the AGS to NUTS-3 regions is done using the file t_nuts3_lk.csv which is for a unknown year. This may not correspond entirely to the AGS number of the data fetched for another year from opendata.\n",
      "2025-09-25 14:40:18 disaggregator.config: WARNING  The mapping of the AGS to NUTS-3 regions is done using the file t_nuts3_lk.csv which is for a unknown year. This may not correspond entirely to the AGS number of the data fetched for another year from opendata.\n",
      "2025-09-25 14:40:18 disaggregator.config: WARNING  The mapping of the AGS to NUTS-3 regions is done using the file t_nuts3_lk.csv which is for a unknown year. This may not correspond entirely to the AGS number of the data fetched for another year from opendata.\n",
      "2025-09-25 14:40:18 disaggregator.config: WARNING  The mapping of the AGS to NUTS-3 regions is done using the file t_nuts3_lk.csv which is for a unknown year. This may not correspond entirely to the AGS number of the data fetched for another year from opendata.\n"
     ]
    },
    {
     "name": "stdout",
     "output_type": "stream",
     "text": [
      "2025-09-25 14:40:18 disaggregator.data: INFO     Merging old Göttingen+Osterode to new NUTS-v2016 region.\n",
      "2025-09-25 14:40:18 disaggregator.spatial: INFO     Calculating regional gas demands top-down.\n"
     ]
    },
    {
     "name": "stderr",
     "output_type": "stream",
     "text": [
      "2025-09-25 14:40:18 disaggregator.config: WARNING  The mapping of the AGS to NUTS-3 regions is done using the file t_nuts3_lk.csv which is for a unknown year. This may not correspond entirely to the AGS number of the data fetched for another year from opendata.\n",
      "2025-09-25 14:40:18 disaggregator.config: WARNING  The mapping of the AGS to NUTS-3 regions is done using the file t_nuts3_lk.csv which is for a unknown year. This may not correspond entirely to the AGS number of the data fetched for another year from opendata.\n"
     ]
    },
    {
     "name": "stdout",
     "output_type": "stream",
     "text": [
      "2025-09-25 14:40:18 disaggregator.data: INFO     Merging old Göttingen+Osterode to new NUTS-v2016 region.\n"
     ]
    },
    {
     "name": "stderr",
     "output_type": "stream",
     "text": [
      "2025-09-25 14:40:18 disaggregator.config: WARNING  The mapping of the AGS to NUTS-3 regions is done using the file t_nuts3_lk.csv which is for a unknown year. This may not correspond entirely to the AGS number of the data fetched for another year from opendata.\n",
      "2025-09-25 14:40:18 disaggregator.config: WARNING  The mapping of the AGS to NUTS-3 regions is done using the file t_nuts3_lk.csv which is for a unknown year. This may not correspond entirely to the AGS number of the data fetched for another year from opendata.\n"
     ]
    },
    {
     "name": "stdout",
     "output_type": "stream",
     "text": [
      "2025-09-25 14:40:18 disaggregator.data: INFO     Merging old Göttingen+Osterode to new NUTS-v2016 region.\n"
     ]
    },
    {
     "name": "stderr",
     "output_type": "stream",
     "text": [
      "2025-09-25 14:40:18 disaggregator.config: WARNING  The mapping of the AGS to NUTS-3 regions is done using the file t_nuts3_lk.csv which is for a unknown year. This may not correspond entirely to the AGS number of the data fetched for another year from opendata.\n"
     ]
    },
    {
     "name": "stdout",
     "output_type": "stream",
     "text": [
      "2025-09-25 14:40:18 disaggregator.temporal: INFO     ... creating state-specific load-profiles\n"
     ]
    },
    {
     "name": "stderr",
     "output_type": "stream",
     "text": [
      "2025-09-25 14:40:18 disaggregator.config: WARNING  The mapping of the AGS to NUTS-3 regions is done using the file t_nuts3_lk.csv which is for a unknown year. This may not correspond entirely to the AGS number of the data fetched for another year from opendata.\n"
     ]
    },
    {
     "name": "stdout",
     "output_type": "stream",
     "text": [
      "2025-09-25 14:40:18 disaggregator.temporal: INFO     Working on state: NW.\n",
      "2025-09-25 14:40:18 disaggregator.data: INFO     Using living space data for year 2018.\n"
     ]
    },
    {
     "name": "stderr",
     "output_type": "stream",
     "text": [
      "2025-09-25 14:40:22 disaggregator.config: WARNING  The mapping of the AGS to NUTS-3 regions is done using the file t_nuts3_lk.csv which is for a unknown year. This may not correspond entirely to the AGS number of the data fetched for another year from opendata.\n",
      "2025-09-25 14:40:22 disaggregator.config: WARNING  The mapping of the AGS to NUTS-3 regions is done using the file t_nuts3_lk.csv which is for a unknown year. This may not correspond entirely to the AGS number of the data fetched for another year from opendata.\n"
     ]
    },
    {
     "name": "stdout",
     "output_type": "stream",
     "text": [
      "2025-09-25 14:40:22 disaggregator.data: INFO     Merging old Göttingen+Osterode to new NUTS-v2016 region.\n"
     ]
    },
    {
     "name": "stderr",
     "output_type": "stream",
     "text": [
      "2025-09-25 14:40:22 disaggregator.config: WARNING  The mapping of the AGS to NUTS-3 regions is done using the file t_nuts3_lk.csv which is for a unknown year. This may not correspond entirely to the AGS number of the data fetched for another year from opendata.\n",
      "2025-09-25 14:40:22 disaggregator.config: WARNING  The mapping of the AGS to NUTS-3 regions is done using the file t_nuts3_lk.csv which is for a unknown year. This may not correspond entirely to the AGS number of the data fetched for another year from opendata.\n",
      "2025-09-25 14:40:22 disaggregator.config: WARNING  The mapping of the AGS to NUTS-3 regions is done using the file t_nuts3_lk.csv which is for a unknown year. This may not correspond entirely to the AGS number of the data fetched for another year from opendata.\n",
      "2025-09-25 14:40:22 disaggregator.config: WARNING  The mapping of the AGS to NUTS-3 regions is done using the file t_nuts3_lk.csv which is for a unknown year. This may not correspond entirely to the AGS number of the data fetched for another year from opendata.\n"
     ]
    },
    {
     "name": "stdout",
     "output_type": "stream",
     "text": [
      "2025-09-25 14:40:22 disaggregator.data: INFO     Merging old Göttingen+Osterode to new NUTS-v2016 region.\n",
      "2025-09-25 14:40:22 disaggregator.spatial: INFO     Calculating regional gas demands top-down.\n"
     ]
    },
    {
     "name": "stderr",
     "output_type": "stream",
     "text": [
      "2025-09-25 14:40:22 disaggregator.config: WARNING  The mapping of the AGS to NUTS-3 regions is done using the file t_nuts3_lk.csv which is for a unknown year. This may not correspond entirely to the AGS number of the data fetched for another year from opendata.\n",
      "2025-09-25 14:40:22 disaggregator.config: WARNING  The mapping of the AGS to NUTS-3 regions is done using the file t_nuts3_lk.csv which is for a unknown year. This may not correspond entirely to the AGS number of the data fetched for another year from opendata.\n"
     ]
    },
    {
     "name": "stdout",
     "output_type": "stream",
     "text": [
      "2025-09-25 14:40:22 disaggregator.data: INFO     Merging old Göttingen+Osterode to new NUTS-v2016 region.\n"
     ]
    },
    {
     "name": "stderr",
     "output_type": "stream",
     "text": [
      "2025-09-25 14:40:22 disaggregator.config: WARNING  The mapping of the AGS to NUTS-3 regions is done using the file t_nuts3_lk.csv which is for a unknown year. This may not correspond entirely to the AGS number of the data fetched for another year from opendata.\n",
      "2025-09-25 14:40:22 disaggregator.config: WARNING  The mapping of the AGS to NUTS-3 regions is done using the file t_nuts3_lk.csv which is for a unknown year. This may not correspond entirely to the AGS number of the data fetched for another year from opendata.\n"
     ]
    },
    {
     "name": "stdout",
     "output_type": "stream",
     "text": [
      "2025-09-25 14:40:22 disaggregator.data: INFO     Merging old Göttingen+Osterode to new NUTS-v2016 region.\n"
     ]
    },
    {
     "name": "stderr",
     "output_type": "stream",
     "text": [
      "2025-09-25 14:40:22 disaggregator.config: WARNING  The mapping of the AGS to NUTS-3 regions is done using the file t_nuts3_lk.csv which is for a unknown year. This may not correspond entirely to the AGS number of the data fetched for another year from opendata.\n"
     ]
    },
    {
     "name": "stdout",
     "output_type": "stream",
     "text": [
      "2025-09-25 14:40:22 disaggregator.temporal: INFO     ... creating state-specific load-profiles\n"
     ]
    },
    {
     "name": "stderr",
     "output_type": "stream",
     "text": [
      "2025-09-25 14:40:22 disaggregator.config: WARNING  The mapping of the AGS to NUTS-3 regions is done using the file t_nuts3_lk.csv which is for a unknown year. This may not correspond entirely to the AGS number of the data fetched for another year from opendata.\n"
     ]
    },
    {
     "name": "stdout",
     "output_type": "stream",
     "text": [
      "2025-09-25 14:40:28 disaggregator.temporal: INFO     Working on state: HE.\n",
      "2025-09-25 14:40:28 disaggregator.data: INFO     Using living space data for year 2018.\n"
     ]
    },
    {
     "name": "stderr",
     "output_type": "stream",
     "text": [
      "2025-09-25 14:40:32 disaggregator.config: WARNING  The mapping of the AGS to NUTS-3 regions is done using the file t_nuts3_lk.csv which is for a unknown year. This may not correspond entirely to the AGS number of the data fetched for another year from opendata.\n",
      "2025-09-25 14:40:32 disaggregator.config: WARNING  The mapping of the AGS to NUTS-3 regions is done using the file t_nuts3_lk.csv which is for a unknown year. This may not correspond entirely to the AGS number of the data fetched for another year from opendata.\n"
     ]
    },
    {
     "name": "stdout",
     "output_type": "stream",
     "text": [
      "2025-09-25 14:40:32 disaggregator.data: INFO     Merging old Göttingen+Osterode to new NUTS-v2016 region.\n"
     ]
    },
    {
     "name": "stderr",
     "output_type": "stream",
     "text": [
      "2025-09-25 14:40:32 disaggregator.config: WARNING  The mapping of the AGS to NUTS-3 regions is done using the file t_nuts3_lk.csv which is for a unknown year. This may not correspond entirely to the AGS number of the data fetched for another year from opendata.\n",
      "2025-09-25 14:40:32 disaggregator.config: WARNING  The mapping of the AGS to NUTS-3 regions is done using the file t_nuts3_lk.csv which is for a unknown year. This may not correspond entirely to the AGS number of the data fetched for another year from opendata.\n",
      "2025-09-25 14:40:32 disaggregator.config: WARNING  The mapping of the AGS to NUTS-3 regions is done using the file t_nuts3_lk.csv which is for a unknown year. This may not correspond entirely to the AGS number of the data fetched for another year from opendata.\n",
      "2025-09-25 14:40:32 disaggregator.config: WARNING  The mapping of the AGS to NUTS-3 regions is done using the file t_nuts3_lk.csv which is for a unknown year. This may not correspond entirely to the AGS number of the data fetched for another year from opendata.\n"
     ]
    },
    {
     "name": "stdout",
     "output_type": "stream",
     "text": [
      "2025-09-25 14:40:32 disaggregator.data: INFO     Merging old Göttingen+Osterode to new NUTS-v2016 region.\n",
      "2025-09-25 14:40:32 disaggregator.spatial: INFO     Calculating regional gas demands top-down.\n"
     ]
    },
    {
     "name": "stderr",
     "output_type": "stream",
     "text": [
      "2025-09-25 14:40:32 disaggregator.config: WARNING  The mapping of the AGS to NUTS-3 regions is done using the file t_nuts3_lk.csv which is for a unknown year. This may not correspond entirely to the AGS number of the data fetched for another year from opendata.\n",
      "2025-09-25 14:40:32 disaggregator.config: WARNING  The mapping of the AGS to NUTS-3 regions is done using the file t_nuts3_lk.csv which is for a unknown year. This may not correspond entirely to the AGS number of the data fetched for another year from opendata.\n"
     ]
    },
    {
     "name": "stdout",
     "output_type": "stream",
     "text": [
      "2025-09-25 14:40:32 disaggregator.data: INFO     Merging old Göttingen+Osterode to new NUTS-v2016 region.\n"
     ]
    },
    {
     "name": "stderr",
     "output_type": "stream",
     "text": [
      "2025-09-25 14:40:32 disaggregator.config: WARNING  The mapping of the AGS to NUTS-3 regions is done using the file t_nuts3_lk.csv which is for a unknown year. This may not correspond entirely to the AGS number of the data fetched for another year from opendata.\n",
      "2025-09-25 14:40:32 disaggregator.config: WARNING  The mapping of the AGS to NUTS-3 regions is done using the file t_nuts3_lk.csv which is for a unknown year. This may not correspond entirely to the AGS number of the data fetched for another year from opendata.\n"
     ]
    },
    {
     "name": "stdout",
     "output_type": "stream",
     "text": [
      "2025-09-25 14:40:32 disaggregator.data: INFO     Merging old Göttingen+Osterode to new NUTS-v2016 region.\n"
     ]
    },
    {
     "name": "stderr",
     "output_type": "stream",
     "text": [
      "2025-09-25 14:40:32 disaggregator.config: WARNING  The mapping of the AGS to NUTS-3 regions is done using the file t_nuts3_lk.csv which is for a unknown year. This may not correspond entirely to the AGS number of the data fetched for another year from opendata.\n"
     ]
    },
    {
     "name": "stdout",
     "output_type": "stream",
     "text": [
      "2025-09-25 14:40:32 disaggregator.temporal: INFO     ... creating state-specific load-profiles\n"
     ]
    },
    {
     "name": "stderr",
     "output_type": "stream",
     "text": [
      "2025-09-25 14:40:32 disaggregator.config: WARNING  The mapping of the AGS to NUTS-3 regions is done using the file t_nuts3_lk.csv which is for a unknown year. This may not correspond entirely to the AGS number of the data fetched for another year from opendata.\n"
     ]
    },
    {
     "name": "stdout",
     "output_type": "stream",
     "text": [
      "2025-09-25 14:40:35 disaggregator.temporal: INFO     Working on state: RP.\n",
      "2025-09-25 14:40:35 disaggregator.data: INFO     Using living space data for year 2018.\n"
     ]
    },
    {
     "name": "stderr",
     "output_type": "stream",
     "text": [
      "2025-09-25 14:40:39 disaggregator.config: WARNING  The mapping of the AGS to NUTS-3 regions is done using the file t_nuts3_lk.csv which is for a unknown year. This may not correspond entirely to the AGS number of the data fetched for another year from opendata.\n",
      "2025-09-25 14:40:40 disaggregator.config: WARNING  The mapping of the AGS to NUTS-3 regions is done using the file t_nuts3_lk.csv which is for a unknown year. This may not correspond entirely to the AGS number of the data fetched for another year from opendata.\n"
     ]
    },
    {
     "name": "stdout",
     "output_type": "stream",
     "text": [
      "2025-09-25 14:40:40 disaggregator.data: INFO     Merging old Göttingen+Osterode to new NUTS-v2016 region.\n"
     ]
    },
    {
     "name": "stderr",
     "output_type": "stream",
     "text": [
      "2025-09-25 14:40:40 disaggregator.config: WARNING  The mapping of the AGS to NUTS-3 regions is done using the file t_nuts3_lk.csv which is for a unknown year. This may not correspond entirely to the AGS number of the data fetched for another year from opendata.\n",
      "2025-09-25 14:40:40 disaggregator.config: WARNING  The mapping of the AGS to NUTS-3 regions is done using the file t_nuts3_lk.csv which is for a unknown year. This may not correspond entirely to the AGS number of the data fetched for another year from opendata.\n",
      "2025-09-25 14:40:40 disaggregator.config: WARNING  The mapping of the AGS to NUTS-3 regions is done using the file t_nuts3_lk.csv which is for a unknown year. This may not correspond entirely to the AGS number of the data fetched for another year from opendata.\n",
      "2025-09-25 14:40:40 disaggregator.config: WARNING  The mapping of the AGS to NUTS-3 regions is done using the file t_nuts3_lk.csv which is for a unknown year. This may not correspond entirely to the AGS number of the data fetched for another year from opendata.\n"
     ]
    },
    {
     "name": "stdout",
     "output_type": "stream",
     "text": [
      "2025-09-25 14:40:40 disaggregator.data: INFO     Merging old Göttingen+Osterode to new NUTS-v2016 region.\n",
      "2025-09-25 14:40:40 disaggregator.spatial: INFO     Calculating regional gas demands top-down.\n"
     ]
    },
    {
     "name": "stderr",
     "output_type": "stream",
     "text": [
      "2025-09-25 14:40:40 disaggregator.config: WARNING  The mapping of the AGS to NUTS-3 regions is done using the file t_nuts3_lk.csv which is for a unknown year. This may not correspond entirely to the AGS number of the data fetched for another year from opendata.\n",
      "2025-09-25 14:40:40 disaggregator.config: WARNING  The mapping of the AGS to NUTS-3 regions is done using the file t_nuts3_lk.csv which is for a unknown year. This may not correspond entirely to the AGS number of the data fetched for another year from opendata.\n"
     ]
    },
    {
     "name": "stdout",
     "output_type": "stream",
     "text": [
      "2025-09-25 14:40:40 disaggregator.data: INFO     Merging old Göttingen+Osterode to new NUTS-v2016 region.\n"
     ]
    },
    {
     "name": "stderr",
     "output_type": "stream",
     "text": [
      "2025-09-25 14:40:40 disaggregator.config: WARNING  The mapping of the AGS to NUTS-3 regions is done using the file t_nuts3_lk.csv which is for a unknown year. This may not correspond entirely to the AGS number of the data fetched for another year from opendata.\n",
      "2025-09-25 14:40:40 disaggregator.config: WARNING  The mapping of the AGS to NUTS-3 regions is done using the file t_nuts3_lk.csv which is for a unknown year. This may not correspond entirely to the AGS number of the data fetched for another year from opendata.\n"
     ]
    },
    {
     "name": "stdout",
     "output_type": "stream",
     "text": [
      "2025-09-25 14:40:40 disaggregator.data: INFO     Merging old Göttingen+Osterode to new NUTS-v2016 region.\n"
     ]
    },
    {
     "name": "stderr",
     "output_type": "stream",
     "text": [
      "2025-09-25 14:40:40 disaggregator.config: WARNING  The mapping of the AGS to NUTS-3 regions is done using the file t_nuts3_lk.csv which is for a unknown year. This may not correspond entirely to the AGS number of the data fetched for another year from opendata.\n"
     ]
    },
    {
     "name": "stdout",
     "output_type": "stream",
     "text": [
      "2025-09-25 14:40:40 disaggregator.temporal: INFO     ... creating state-specific load-profiles\n"
     ]
    },
    {
     "name": "stderr",
     "output_type": "stream",
     "text": [
      "2025-09-25 14:40:40 disaggregator.config: WARNING  The mapping of the AGS to NUTS-3 regions is done using the file t_nuts3_lk.csv which is for a unknown year. This may not correspond entirely to the AGS number of the data fetched for another year from opendata.\n"
     ]
    },
    {
     "name": "stdout",
     "output_type": "stream",
     "text": [
      "2025-09-25 14:40:44 disaggregator.temporal: INFO     Working on state: BW.\n",
      "2025-09-25 14:40:44 disaggregator.data: INFO     Using living space data for year 2018.\n"
     ]
    },
    {
     "name": "stderr",
     "output_type": "stream",
     "text": [
      "2025-09-25 14:40:48 disaggregator.config: WARNING  The mapping of the AGS to NUTS-3 regions is done using the file t_nuts3_lk.csv which is for a unknown year. This may not correspond entirely to the AGS number of the data fetched for another year from opendata.\n",
      "2025-09-25 14:40:48 disaggregator.config: WARNING  The mapping of the AGS to NUTS-3 regions is done using the file t_nuts3_lk.csv which is for a unknown year. This may not correspond entirely to the AGS number of the data fetched for another year from opendata.\n"
     ]
    },
    {
     "name": "stdout",
     "output_type": "stream",
     "text": [
      "2025-09-25 14:40:48 disaggregator.data: INFO     Merging old Göttingen+Osterode to new NUTS-v2016 region.\n"
     ]
    },
    {
     "name": "stderr",
     "output_type": "stream",
     "text": [
      "2025-09-25 14:40:48 disaggregator.config: WARNING  The mapping of the AGS to NUTS-3 regions is done using the file t_nuts3_lk.csv which is for a unknown year. This may not correspond entirely to the AGS number of the data fetched for another year from opendata.\n",
      "2025-09-25 14:40:48 disaggregator.config: WARNING  The mapping of the AGS to NUTS-3 regions is done using the file t_nuts3_lk.csv which is for a unknown year. This may not correspond entirely to the AGS number of the data fetched for another year from opendata.\n",
      "2025-09-25 14:40:48 disaggregator.config: WARNING  The mapping of the AGS to NUTS-3 regions is done using the file t_nuts3_lk.csv which is for a unknown year. This may not correspond entirely to the AGS number of the data fetched for another year from opendata.\n",
      "2025-09-25 14:40:48 disaggregator.config: WARNING  The mapping of the AGS to NUTS-3 regions is done using the file t_nuts3_lk.csv which is for a unknown year. This may not correspond entirely to the AGS number of the data fetched for another year from opendata.\n"
     ]
    },
    {
     "name": "stdout",
     "output_type": "stream",
     "text": [
      "2025-09-25 14:40:48 disaggregator.data: INFO     Merging old Göttingen+Osterode to new NUTS-v2016 region.\n",
      "2025-09-25 14:40:48 disaggregator.spatial: INFO     Calculating regional gas demands top-down.\n"
     ]
    },
    {
     "name": "stderr",
     "output_type": "stream",
     "text": [
      "2025-09-25 14:40:48 disaggregator.config: WARNING  The mapping of the AGS to NUTS-3 regions is done using the file t_nuts3_lk.csv which is for a unknown year. This may not correspond entirely to the AGS number of the data fetched for another year from opendata.\n",
      "2025-09-25 14:40:48 disaggregator.config: WARNING  The mapping of the AGS to NUTS-3 regions is done using the file t_nuts3_lk.csv which is for a unknown year. This may not correspond entirely to the AGS number of the data fetched for another year from opendata.\n"
     ]
    },
    {
     "name": "stdout",
     "output_type": "stream",
     "text": [
      "2025-09-25 14:40:48 disaggregator.data: INFO     Merging old Göttingen+Osterode to new NUTS-v2016 region.\n"
     ]
    },
    {
     "name": "stderr",
     "output_type": "stream",
     "text": [
      "2025-09-25 14:40:48 disaggregator.config: WARNING  The mapping of the AGS to NUTS-3 regions is done using the file t_nuts3_lk.csv which is for a unknown year. This may not correspond entirely to the AGS number of the data fetched for another year from opendata.\n",
      "2025-09-25 14:40:48 disaggregator.config: WARNING  The mapping of the AGS to NUTS-3 regions is done using the file t_nuts3_lk.csv which is for a unknown year. This may not correspond entirely to the AGS number of the data fetched for another year from opendata.\n"
     ]
    },
    {
     "name": "stdout",
     "output_type": "stream",
     "text": [
      "2025-09-25 14:40:48 disaggregator.data: INFO     Merging old Göttingen+Osterode to new NUTS-v2016 region.\n"
     ]
    },
    {
     "name": "stderr",
     "output_type": "stream",
     "text": [
      "2025-09-25 14:40:48 disaggregator.config: WARNING  The mapping of the AGS to NUTS-3 regions is done using the file t_nuts3_lk.csv which is for a unknown year. This may not correspond entirely to the AGS number of the data fetched for another year from opendata.\n"
     ]
    },
    {
     "name": "stdout",
     "output_type": "stream",
     "text": [
      "2025-09-25 14:40:48 disaggregator.temporal: INFO     ... creating state-specific load-profiles\n"
     ]
    },
    {
     "name": "stderr",
     "output_type": "stream",
     "text": [
      "2025-09-25 14:40:48 disaggregator.config: WARNING  The mapping of the AGS to NUTS-3 regions is done using the file t_nuts3_lk.csv which is for a unknown year. This may not correspond entirely to the AGS number of the data fetched for another year from opendata.\n"
     ]
    },
    {
     "name": "stdout",
     "output_type": "stream",
     "text": [
      "2025-09-25 14:40:54 disaggregator.temporal: INFO     Working on state: BY.\n",
      "2025-09-25 14:40:54 disaggregator.data: INFO     Using living space data for year 2018.\n"
     ]
    },
    {
     "name": "stderr",
     "output_type": "stream",
     "text": [
      "2025-09-25 14:40:58 disaggregator.config: WARNING  The mapping of the AGS to NUTS-3 regions is done using the file t_nuts3_lk.csv which is for a unknown year. This may not correspond entirely to the AGS number of the data fetched for another year from opendata.\n",
      "2025-09-25 14:40:59 disaggregator.config: WARNING  The mapping of the AGS to NUTS-3 regions is done using the file t_nuts3_lk.csv which is for a unknown year. This may not correspond entirely to the AGS number of the data fetched for another year from opendata.\n"
     ]
    },
    {
     "name": "stdout",
     "output_type": "stream",
     "text": [
      "2025-09-25 14:40:59 disaggregator.data: INFO     Merging old Göttingen+Osterode to new NUTS-v2016 region.\n"
     ]
    },
    {
     "name": "stderr",
     "output_type": "stream",
     "text": [
      "2025-09-25 14:40:59 disaggregator.config: WARNING  The mapping of the AGS to NUTS-3 regions is done using the file t_nuts3_lk.csv which is for a unknown year. This may not correspond entirely to the AGS number of the data fetched for another year from opendata.\n",
      "2025-09-25 14:40:59 disaggregator.config: WARNING  The mapping of the AGS to NUTS-3 regions is done using the file t_nuts3_lk.csv which is for a unknown year. This may not correspond entirely to the AGS number of the data fetched for another year from opendata.\n",
      "2025-09-25 14:40:59 disaggregator.config: WARNING  The mapping of the AGS to NUTS-3 regions is done using the file t_nuts3_lk.csv which is for a unknown year. This may not correspond entirely to the AGS number of the data fetched for another year from opendata.\n",
      "2025-09-25 14:40:59 disaggregator.config: WARNING  The mapping of the AGS to NUTS-3 regions is done using the file t_nuts3_lk.csv which is for a unknown year. This may not correspond entirely to the AGS number of the data fetched for another year from opendata.\n"
     ]
    },
    {
     "name": "stdout",
     "output_type": "stream",
     "text": [
      "2025-09-25 14:40:59 disaggregator.data: INFO     Merging old Göttingen+Osterode to new NUTS-v2016 region.\n",
      "2025-09-25 14:40:59 disaggregator.spatial: INFO     Calculating regional gas demands top-down.\n"
     ]
    },
    {
     "name": "stderr",
     "output_type": "stream",
     "text": [
      "2025-09-25 14:40:59 disaggregator.config: WARNING  The mapping of the AGS to NUTS-3 regions is done using the file t_nuts3_lk.csv which is for a unknown year. This may not correspond entirely to the AGS number of the data fetched for another year from opendata.\n",
      "2025-09-25 14:40:59 disaggregator.config: WARNING  The mapping of the AGS to NUTS-3 regions is done using the file t_nuts3_lk.csv which is for a unknown year. This may not correspond entirely to the AGS number of the data fetched for another year from opendata.\n"
     ]
    },
    {
     "name": "stdout",
     "output_type": "stream",
     "text": [
      "2025-09-25 14:40:59 disaggregator.data: INFO     Merging old Göttingen+Osterode to new NUTS-v2016 region.\n"
     ]
    },
    {
     "name": "stderr",
     "output_type": "stream",
     "text": [
      "2025-09-25 14:40:59 disaggregator.config: WARNING  The mapping of the AGS to NUTS-3 regions is done using the file t_nuts3_lk.csv which is for a unknown year. This may not correspond entirely to the AGS number of the data fetched for another year from opendata.\n",
      "2025-09-25 14:40:59 disaggregator.config: WARNING  The mapping of the AGS to NUTS-3 regions is done using the file t_nuts3_lk.csv which is for a unknown year. This may not correspond entirely to the AGS number of the data fetched for another year from opendata.\n"
     ]
    },
    {
     "name": "stdout",
     "output_type": "stream",
     "text": [
      "2025-09-25 14:40:59 disaggregator.data: INFO     Merging old Göttingen+Osterode to new NUTS-v2016 region.\n"
     ]
    },
    {
     "name": "stderr",
     "output_type": "stream",
     "text": [
      "2025-09-25 14:40:59 disaggregator.config: WARNING  The mapping of the AGS to NUTS-3 regions is done using the file t_nuts3_lk.csv which is for a unknown year. This may not correspond entirely to the AGS number of the data fetched for another year from opendata.\n"
     ]
    },
    {
     "name": "stdout",
     "output_type": "stream",
     "text": [
      "2025-09-25 14:40:59 disaggregator.temporal: INFO     ... creating state-specific load-profiles\n"
     ]
    },
    {
     "name": "stderr",
     "output_type": "stream",
     "text": [
      "2025-09-25 14:40:59 disaggregator.config: WARNING  The mapping of the AGS to NUTS-3 regions is done using the file t_nuts3_lk.csv which is for a unknown year. This may not correspond entirely to the AGS number of the data fetched for another year from opendata.\n"
     ]
    },
    {
     "name": "stdout",
     "output_type": "stream",
     "text": [
      "2025-09-25 14:41:09 disaggregator.temporal: INFO     Working on state: SL.\n",
      "2025-09-25 14:41:09 disaggregator.data: INFO     Using living space data for year 2018.\n"
     ]
    },
    {
     "name": "stderr",
     "output_type": "stream",
     "text": [
      "2025-09-25 14:41:13 disaggregator.config: WARNING  The mapping of the AGS to NUTS-3 regions is done using the file t_nuts3_lk.csv which is for a unknown year. This may not correspond entirely to the AGS number of the data fetched for another year from opendata.\n",
      "2025-09-25 14:41:13 disaggregator.config: WARNING  The mapping of the AGS to NUTS-3 regions is done using the file t_nuts3_lk.csv which is for a unknown year. This may not correspond entirely to the AGS number of the data fetched for another year from opendata.\n"
     ]
    },
    {
     "name": "stdout",
     "output_type": "stream",
     "text": [
      "2025-09-25 14:41:13 disaggregator.data: INFO     Merging old Göttingen+Osterode to new NUTS-v2016 region.\n"
     ]
    },
    {
     "name": "stderr",
     "output_type": "stream",
     "text": [
      "2025-09-25 14:41:13 disaggregator.config: WARNING  The mapping of the AGS to NUTS-3 regions is done using the file t_nuts3_lk.csv which is for a unknown year. This may not correspond entirely to the AGS number of the data fetched for another year from opendata.\n",
      "2025-09-25 14:41:13 disaggregator.config: WARNING  The mapping of the AGS to NUTS-3 regions is done using the file t_nuts3_lk.csv which is for a unknown year. This may not correspond entirely to the AGS number of the data fetched for another year from opendata.\n",
      "2025-09-25 14:41:13 disaggregator.config: WARNING  The mapping of the AGS to NUTS-3 regions is done using the file t_nuts3_lk.csv which is for a unknown year. This may not correspond entirely to the AGS number of the data fetched for another year from opendata.\n",
      "2025-09-25 14:41:13 disaggregator.config: WARNING  The mapping of the AGS to NUTS-3 regions is done using the file t_nuts3_lk.csv which is for a unknown year. This may not correspond entirely to the AGS number of the data fetched for another year from opendata.\n"
     ]
    },
    {
     "name": "stdout",
     "output_type": "stream",
     "text": [
      "2025-09-25 14:41:13 disaggregator.data: INFO     Merging old Göttingen+Osterode to new NUTS-v2016 region.\n",
      "2025-09-25 14:41:13 disaggregator.spatial: INFO     Calculating regional gas demands top-down.\n"
     ]
    },
    {
     "name": "stderr",
     "output_type": "stream",
     "text": [
      "2025-09-25 14:41:13 disaggregator.config: WARNING  The mapping of the AGS to NUTS-3 regions is done using the file t_nuts3_lk.csv which is for a unknown year. This may not correspond entirely to the AGS number of the data fetched for another year from opendata.\n",
      "2025-09-25 14:41:13 disaggregator.config: WARNING  The mapping of the AGS to NUTS-3 regions is done using the file t_nuts3_lk.csv which is for a unknown year. This may not correspond entirely to the AGS number of the data fetched for another year from opendata.\n"
     ]
    },
    {
     "name": "stdout",
     "output_type": "stream",
     "text": [
      "2025-09-25 14:41:13 disaggregator.data: INFO     Merging old Göttingen+Osterode to new NUTS-v2016 region.\n"
     ]
    },
    {
     "name": "stderr",
     "output_type": "stream",
     "text": [
      "2025-09-25 14:41:13 disaggregator.config: WARNING  The mapping of the AGS to NUTS-3 regions is done using the file t_nuts3_lk.csv which is for a unknown year. This may not correspond entirely to the AGS number of the data fetched for another year from opendata.\n",
      "2025-09-25 14:41:13 disaggregator.config: WARNING  The mapping of the AGS to NUTS-3 regions is done using the file t_nuts3_lk.csv which is for a unknown year. This may not correspond entirely to the AGS number of the data fetched for another year from opendata.\n"
     ]
    },
    {
     "name": "stdout",
     "output_type": "stream",
     "text": [
      "2025-09-25 14:41:13 disaggregator.data: INFO     Merging old Göttingen+Osterode to new NUTS-v2016 region.\n"
     ]
    },
    {
     "name": "stderr",
     "output_type": "stream",
     "text": [
      "2025-09-25 14:41:13 disaggregator.config: WARNING  The mapping of the AGS to NUTS-3 regions is done using the file t_nuts3_lk.csv which is for a unknown year. This may not correspond entirely to the AGS number of the data fetched for another year from opendata.\n"
     ]
    },
    {
     "name": "stdout",
     "output_type": "stream",
     "text": [
      "2025-09-25 14:41:13 disaggregator.temporal: INFO     ... creating state-specific load-profiles\n"
     ]
    },
    {
     "name": "stderr",
     "output_type": "stream",
     "text": [
      "2025-09-25 14:41:13 disaggregator.config: WARNING  The mapping of the AGS to NUTS-3 regions is done using the file t_nuts3_lk.csv which is for a unknown year. This may not correspond entirely to the AGS number of the data fetched for another year from opendata.\n"
     ]
    },
    {
     "name": "stdout",
     "output_type": "stream",
     "text": [
      "2025-09-25 14:41:14 disaggregator.temporal: INFO     Working on state: BE.\n",
      "2025-09-25 14:41:14 disaggregator.data: INFO     Using living space data for year 2018.\n"
     ]
    },
    {
     "name": "stderr",
     "output_type": "stream",
     "text": [
      "2025-09-25 14:41:18 disaggregator.config: WARNING  The mapping of the AGS to NUTS-3 regions is done using the file t_nuts3_lk.csv which is for a unknown year. This may not correspond entirely to the AGS number of the data fetched for another year from opendata.\n",
      "2025-09-25 14:41:19 disaggregator.config: WARNING  The mapping of the AGS to NUTS-3 regions is done using the file t_nuts3_lk.csv which is for a unknown year. This may not correspond entirely to the AGS number of the data fetched for another year from opendata.\n"
     ]
    },
    {
     "name": "stdout",
     "output_type": "stream",
     "text": [
      "2025-09-25 14:41:19 disaggregator.data: INFO     Merging old Göttingen+Osterode to new NUTS-v2016 region.\n"
     ]
    },
    {
     "name": "stderr",
     "output_type": "stream",
     "text": [
      "2025-09-25 14:41:19 disaggregator.config: WARNING  The mapping of the AGS to NUTS-3 regions is done using the file t_nuts3_lk.csv which is for a unknown year. This may not correspond entirely to the AGS number of the data fetched for another year from opendata.\n",
      "2025-09-25 14:41:19 disaggregator.config: WARNING  The mapping of the AGS to NUTS-3 regions is done using the file t_nuts3_lk.csv which is for a unknown year. This may not correspond entirely to the AGS number of the data fetched for another year from opendata.\n",
      "2025-09-25 14:41:19 disaggregator.config: WARNING  The mapping of the AGS to NUTS-3 regions is done using the file t_nuts3_lk.csv which is for a unknown year. This may not correspond entirely to the AGS number of the data fetched for another year from opendata.\n",
      "2025-09-25 14:41:19 disaggregator.config: WARNING  The mapping of the AGS to NUTS-3 regions is done using the file t_nuts3_lk.csv which is for a unknown year. This may not correspond entirely to the AGS number of the data fetched for another year from opendata.\n"
     ]
    },
    {
     "name": "stdout",
     "output_type": "stream",
     "text": [
      "2025-09-25 14:41:19 disaggregator.data: INFO     Merging old Göttingen+Osterode to new NUTS-v2016 region.\n",
      "2025-09-25 14:41:19 disaggregator.spatial: INFO     Calculating regional gas demands top-down.\n"
     ]
    },
    {
     "name": "stderr",
     "output_type": "stream",
     "text": [
      "2025-09-25 14:41:19 disaggregator.config: WARNING  The mapping of the AGS to NUTS-3 regions is done using the file t_nuts3_lk.csv which is for a unknown year. This may not correspond entirely to the AGS number of the data fetched for another year from opendata.\n",
      "2025-09-25 14:41:19 disaggregator.config: WARNING  The mapping of the AGS to NUTS-3 regions is done using the file t_nuts3_lk.csv which is for a unknown year. This may not correspond entirely to the AGS number of the data fetched for another year from opendata.\n"
     ]
    },
    {
     "name": "stdout",
     "output_type": "stream",
     "text": [
      "2025-09-25 14:41:19 disaggregator.data: INFO     Merging old Göttingen+Osterode to new NUTS-v2016 region.\n"
     ]
    },
    {
     "name": "stderr",
     "output_type": "stream",
     "text": [
      "2025-09-25 14:41:19 disaggregator.config: WARNING  The mapping of the AGS to NUTS-3 regions is done using the file t_nuts3_lk.csv which is for a unknown year. This may not correspond entirely to the AGS number of the data fetched for another year from opendata.\n",
      "2025-09-25 14:41:19 disaggregator.config: WARNING  The mapping of the AGS to NUTS-3 regions is done using the file t_nuts3_lk.csv which is for a unknown year. This may not correspond entirely to the AGS number of the data fetched for another year from opendata.\n"
     ]
    },
    {
     "name": "stdout",
     "output_type": "stream",
     "text": [
      "2025-09-25 14:41:19 disaggregator.data: INFO     Merging old Göttingen+Osterode to new NUTS-v2016 region.\n"
     ]
    },
    {
     "name": "stderr",
     "output_type": "stream",
     "text": [
      "2025-09-25 14:41:19 disaggregator.config: WARNING  The mapping of the AGS to NUTS-3 regions is done using the file t_nuts3_lk.csv which is for a unknown year. This may not correspond entirely to the AGS number of the data fetched for another year from opendata.\n"
     ]
    },
    {
     "name": "stdout",
     "output_type": "stream",
     "text": [
      "2025-09-25 14:41:19 disaggregator.temporal: INFO     ... creating state-specific load-profiles\n"
     ]
    },
    {
     "name": "stderr",
     "output_type": "stream",
     "text": [
      "2025-09-25 14:41:19 disaggregator.config: WARNING  The mapping of the AGS to NUTS-3 regions is done using the file t_nuts3_lk.csv which is for a unknown year. This may not correspond entirely to the AGS number of the data fetched for another year from opendata.\n"
     ]
    },
    {
     "name": "stdout",
     "output_type": "stream",
     "text": [
      "2025-09-25 14:41:19 disaggregator.temporal: INFO     Working on state: BB.\n",
      "2025-09-25 14:41:19 disaggregator.data: INFO     Using living space data for year 2018.\n"
     ]
    },
    {
     "name": "stderr",
     "output_type": "stream",
     "text": [
      "2025-09-25 14:41:23 disaggregator.config: WARNING  The mapping of the AGS to NUTS-3 regions is done using the file t_nuts3_lk.csv which is for a unknown year. This may not correspond entirely to the AGS number of the data fetched for another year from opendata.\n",
      "2025-09-25 14:41:24 disaggregator.config: WARNING  The mapping of the AGS to NUTS-3 regions is done using the file t_nuts3_lk.csv which is for a unknown year. This may not correspond entirely to the AGS number of the data fetched for another year from opendata.\n"
     ]
    },
    {
     "name": "stdout",
     "output_type": "stream",
     "text": [
      "2025-09-25 14:41:24 disaggregator.data: INFO     Merging old Göttingen+Osterode to new NUTS-v2016 region.\n"
     ]
    },
    {
     "name": "stderr",
     "output_type": "stream",
     "text": [
      "2025-09-25 14:41:24 disaggregator.config: WARNING  The mapping of the AGS to NUTS-3 regions is done using the file t_nuts3_lk.csv which is for a unknown year. This may not correspond entirely to the AGS number of the data fetched for another year from opendata.\n",
      "2025-09-25 14:41:24 disaggregator.config: WARNING  The mapping of the AGS to NUTS-3 regions is done using the file t_nuts3_lk.csv which is for a unknown year. This may not correspond entirely to the AGS number of the data fetched for another year from opendata.\n",
      "2025-09-25 14:41:24 disaggregator.config: WARNING  The mapping of the AGS to NUTS-3 regions is done using the file t_nuts3_lk.csv which is for a unknown year. This may not correspond entirely to the AGS number of the data fetched for another year from opendata.\n",
      "2025-09-25 14:41:24 disaggregator.config: WARNING  The mapping of the AGS to NUTS-3 regions is done using the file t_nuts3_lk.csv which is for a unknown year. This may not correspond entirely to the AGS number of the data fetched for another year from opendata.\n"
     ]
    },
    {
     "name": "stdout",
     "output_type": "stream",
     "text": [
      "2025-09-25 14:41:24 disaggregator.data: INFO     Merging old Göttingen+Osterode to new NUTS-v2016 region.\n",
      "2025-09-25 14:41:24 disaggregator.spatial: INFO     Calculating regional gas demands top-down.\n"
     ]
    },
    {
     "name": "stderr",
     "output_type": "stream",
     "text": [
      "2025-09-25 14:41:24 disaggregator.config: WARNING  The mapping of the AGS to NUTS-3 regions is done using the file t_nuts3_lk.csv which is for a unknown year. This may not correspond entirely to the AGS number of the data fetched for another year from opendata.\n",
      "2025-09-25 14:41:24 disaggregator.config: WARNING  The mapping of the AGS to NUTS-3 regions is done using the file t_nuts3_lk.csv which is for a unknown year. This may not correspond entirely to the AGS number of the data fetched for another year from opendata.\n"
     ]
    },
    {
     "name": "stdout",
     "output_type": "stream",
     "text": [
      "2025-09-25 14:41:24 disaggregator.data: INFO     Merging old Göttingen+Osterode to new NUTS-v2016 region.\n"
     ]
    },
    {
     "name": "stderr",
     "output_type": "stream",
     "text": [
      "2025-09-25 14:41:24 disaggregator.config: WARNING  The mapping of the AGS to NUTS-3 regions is done using the file t_nuts3_lk.csv which is for a unknown year. This may not correspond entirely to the AGS number of the data fetched for another year from opendata.\n",
      "2025-09-25 14:41:24 disaggregator.config: WARNING  The mapping of the AGS to NUTS-3 regions is done using the file t_nuts3_lk.csv which is for a unknown year. This may not correspond entirely to the AGS number of the data fetched for another year from opendata.\n"
     ]
    },
    {
     "name": "stdout",
     "output_type": "stream",
     "text": [
      "2025-09-25 14:41:24 disaggregator.data: INFO     Merging old Göttingen+Osterode to new NUTS-v2016 region.\n"
     ]
    },
    {
     "name": "stderr",
     "output_type": "stream",
     "text": [
      "2025-09-25 14:41:24 disaggregator.config: WARNING  The mapping of the AGS to NUTS-3 regions is done using the file t_nuts3_lk.csv which is for a unknown year. This may not correspond entirely to the AGS number of the data fetched for another year from opendata.\n"
     ]
    },
    {
     "name": "stdout",
     "output_type": "stream",
     "text": [
      "2025-09-25 14:41:24 disaggregator.temporal: INFO     ... creating state-specific load-profiles\n"
     ]
    },
    {
     "name": "stderr",
     "output_type": "stream",
     "text": [
      "2025-09-25 14:41:24 disaggregator.config: WARNING  The mapping of the AGS to NUTS-3 regions is done using the file t_nuts3_lk.csv which is for a unknown year. This may not correspond entirely to the AGS number of the data fetched for another year from opendata.\n"
     ]
    },
    {
     "name": "stdout",
     "output_type": "stream",
     "text": [
      "2025-09-25 14:41:26 disaggregator.temporal: INFO     Working on state: MV.\n",
      "2025-09-25 14:41:26 disaggregator.data: INFO     Using living space data for year 2018.\n"
     ]
    },
    {
     "name": "stderr",
     "output_type": "stream",
     "text": [
      "2025-09-25 14:41:29 disaggregator.config: WARNING  The mapping of the AGS to NUTS-3 regions is done using the file t_nuts3_lk.csv which is for a unknown year. This may not correspond entirely to the AGS number of the data fetched for another year from opendata.\n",
      "2025-09-25 14:41:30 disaggregator.config: WARNING  The mapping of the AGS to NUTS-3 regions is done using the file t_nuts3_lk.csv which is for a unknown year. This may not correspond entirely to the AGS number of the data fetched for another year from opendata.\n"
     ]
    },
    {
     "name": "stdout",
     "output_type": "stream",
     "text": [
      "2025-09-25 14:41:30 disaggregator.data: INFO     Merging old Göttingen+Osterode to new NUTS-v2016 region.\n"
     ]
    },
    {
     "name": "stderr",
     "output_type": "stream",
     "text": [
      "2025-09-25 14:41:30 disaggregator.config: WARNING  The mapping of the AGS to NUTS-3 regions is done using the file t_nuts3_lk.csv which is for a unknown year. This may not correspond entirely to the AGS number of the data fetched for another year from opendata.\n",
      "2025-09-25 14:41:30 disaggregator.config: WARNING  The mapping of the AGS to NUTS-3 regions is done using the file t_nuts3_lk.csv which is for a unknown year. This may not correspond entirely to the AGS number of the data fetched for another year from opendata.\n",
      "2025-09-25 14:41:30 disaggregator.config: WARNING  The mapping of the AGS to NUTS-3 regions is done using the file t_nuts3_lk.csv which is for a unknown year. This may not correspond entirely to the AGS number of the data fetched for another year from opendata.\n",
      "2025-09-25 14:41:30 disaggregator.config: WARNING  The mapping of the AGS to NUTS-3 regions is done using the file t_nuts3_lk.csv which is for a unknown year. This may not correspond entirely to the AGS number of the data fetched for another year from opendata.\n"
     ]
    },
    {
     "name": "stdout",
     "output_type": "stream",
     "text": [
      "2025-09-25 14:41:30 disaggregator.data: INFO     Merging old Göttingen+Osterode to new NUTS-v2016 region.\n",
      "2025-09-25 14:41:30 disaggregator.spatial: INFO     Calculating regional gas demands top-down.\n"
     ]
    },
    {
     "name": "stderr",
     "output_type": "stream",
     "text": [
      "2025-09-25 14:41:30 disaggregator.config: WARNING  The mapping of the AGS to NUTS-3 regions is done using the file t_nuts3_lk.csv which is for a unknown year. This may not correspond entirely to the AGS number of the data fetched for another year from opendata.\n",
      "2025-09-25 14:41:30 disaggregator.config: WARNING  The mapping of the AGS to NUTS-3 regions is done using the file t_nuts3_lk.csv which is for a unknown year. This may not correspond entirely to the AGS number of the data fetched for another year from opendata.\n"
     ]
    },
    {
     "name": "stdout",
     "output_type": "stream",
     "text": [
      "2025-09-25 14:41:30 disaggregator.data: INFO     Merging old Göttingen+Osterode to new NUTS-v2016 region.\n"
     ]
    },
    {
     "name": "stderr",
     "output_type": "stream",
     "text": [
      "2025-09-25 14:41:30 disaggregator.config: WARNING  The mapping of the AGS to NUTS-3 regions is done using the file t_nuts3_lk.csv which is for a unknown year. This may not correspond entirely to the AGS number of the data fetched for another year from opendata.\n",
      "2025-09-25 14:41:30 disaggregator.config: WARNING  The mapping of the AGS to NUTS-3 regions is done using the file t_nuts3_lk.csv which is for a unknown year. This may not correspond entirely to the AGS number of the data fetched for another year from opendata.\n"
     ]
    },
    {
     "name": "stdout",
     "output_type": "stream",
     "text": [
      "2025-09-25 14:41:30 disaggregator.data: INFO     Merging old Göttingen+Osterode to new NUTS-v2016 region.\n"
     ]
    },
    {
     "name": "stderr",
     "output_type": "stream",
     "text": [
      "2025-09-25 14:41:30 disaggregator.config: WARNING  The mapping of the AGS to NUTS-3 regions is done using the file t_nuts3_lk.csv which is for a unknown year. This may not correspond entirely to the AGS number of the data fetched for another year from opendata.\n"
     ]
    },
    {
     "name": "stdout",
     "output_type": "stream",
     "text": [
      "2025-09-25 14:41:30 disaggregator.temporal: INFO     ... creating state-specific load-profiles\n"
     ]
    },
    {
     "name": "stderr",
     "output_type": "stream",
     "text": [
      "2025-09-25 14:41:30 disaggregator.config: WARNING  The mapping of the AGS to NUTS-3 regions is done using the file t_nuts3_lk.csv which is for a unknown year. This may not correspond entirely to the AGS number of the data fetched for another year from opendata.\n"
     ]
    },
    {
     "name": "stdout",
     "output_type": "stream",
     "text": [
      "2025-09-25 14:41:31 disaggregator.temporal: INFO     Working on state: SN.\n",
      "2025-09-25 14:41:31 disaggregator.data: INFO     Using living space data for year 2018.\n"
     ]
    },
    {
     "name": "stderr",
     "output_type": "stream",
     "text": [
      "2025-09-25 14:41:35 disaggregator.config: WARNING  The mapping of the AGS to NUTS-3 regions is done using the file t_nuts3_lk.csv which is for a unknown year. This may not correspond entirely to the AGS number of the data fetched for another year from opendata.\n",
      "2025-09-25 14:41:36 disaggregator.config: WARNING  The mapping of the AGS to NUTS-3 regions is done using the file t_nuts3_lk.csv which is for a unknown year. This may not correspond entirely to the AGS number of the data fetched for another year from opendata.\n"
     ]
    },
    {
     "name": "stdout",
     "output_type": "stream",
     "text": [
      "2025-09-25 14:41:36 disaggregator.data: INFO     Merging old Göttingen+Osterode to new NUTS-v2016 region.\n"
     ]
    },
    {
     "name": "stderr",
     "output_type": "stream",
     "text": [
      "2025-09-25 14:41:36 disaggregator.config: WARNING  The mapping of the AGS to NUTS-3 regions is done using the file t_nuts3_lk.csv which is for a unknown year. This may not correspond entirely to the AGS number of the data fetched for another year from opendata.\n",
      "2025-09-25 14:41:36 disaggregator.config: WARNING  The mapping of the AGS to NUTS-3 regions is done using the file t_nuts3_lk.csv which is for a unknown year. This may not correspond entirely to the AGS number of the data fetched for another year from opendata.\n",
      "2025-09-25 14:41:36 disaggregator.config: WARNING  The mapping of the AGS to NUTS-3 regions is done using the file t_nuts3_lk.csv which is for a unknown year. This may not correspond entirely to the AGS number of the data fetched for another year from opendata.\n",
      "2025-09-25 14:41:36 disaggregator.config: WARNING  The mapping of the AGS to NUTS-3 regions is done using the file t_nuts3_lk.csv which is for a unknown year. This may not correspond entirely to the AGS number of the data fetched for another year from opendata.\n"
     ]
    },
    {
     "name": "stdout",
     "output_type": "stream",
     "text": [
      "2025-09-25 14:41:36 disaggregator.data: INFO     Merging old Göttingen+Osterode to new NUTS-v2016 region.\n",
      "2025-09-25 14:41:36 disaggregator.spatial: INFO     Calculating regional gas demands top-down.\n"
     ]
    },
    {
     "name": "stderr",
     "output_type": "stream",
     "text": [
      "2025-09-25 14:41:36 disaggregator.config: WARNING  The mapping of the AGS to NUTS-3 regions is done using the file t_nuts3_lk.csv which is for a unknown year. This may not correspond entirely to the AGS number of the data fetched for another year from opendata.\n",
      "2025-09-25 14:41:36 disaggregator.config: WARNING  The mapping of the AGS to NUTS-3 regions is done using the file t_nuts3_lk.csv which is for a unknown year. This may not correspond entirely to the AGS number of the data fetched for another year from opendata.\n"
     ]
    },
    {
     "name": "stdout",
     "output_type": "stream",
     "text": [
      "2025-09-25 14:41:36 disaggregator.data: INFO     Merging old Göttingen+Osterode to new NUTS-v2016 region.\n"
     ]
    },
    {
     "name": "stderr",
     "output_type": "stream",
     "text": [
      "2025-09-25 14:41:36 disaggregator.config: WARNING  The mapping of the AGS to NUTS-3 regions is done using the file t_nuts3_lk.csv which is for a unknown year. This may not correspond entirely to the AGS number of the data fetched for another year from opendata.\n",
      "2025-09-25 14:41:36 disaggregator.config: WARNING  The mapping of the AGS to NUTS-3 regions is done using the file t_nuts3_lk.csv which is for a unknown year. This may not correspond entirely to the AGS number of the data fetched for another year from opendata.\n"
     ]
    },
    {
     "name": "stdout",
     "output_type": "stream",
     "text": [
      "2025-09-25 14:41:36 disaggregator.data: INFO     Merging old Göttingen+Osterode to new NUTS-v2016 region.\n"
     ]
    },
    {
     "name": "stderr",
     "output_type": "stream",
     "text": [
      "2025-09-25 14:41:36 disaggregator.config: WARNING  The mapping of the AGS to NUTS-3 regions is done using the file t_nuts3_lk.csv which is for a unknown year. This may not correspond entirely to the AGS number of the data fetched for another year from opendata.\n"
     ]
    },
    {
     "name": "stdout",
     "output_type": "stream",
     "text": [
      "2025-09-25 14:41:36 disaggregator.temporal: INFO     ... creating state-specific load-profiles\n"
     ]
    },
    {
     "name": "stderr",
     "output_type": "stream",
     "text": [
      "2025-09-25 14:41:36 disaggregator.config: WARNING  The mapping of the AGS to NUTS-3 regions is done using the file t_nuts3_lk.csv which is for a unknown year. This may not correspond entirely to the AGS number of the data fetched for another year from opendata.\n"
     ]
    },
    {
     "name": "stdout",
     "output_type": "stream",
     "text": [
      "2025-09-25 14:41:37 disaggregator.temporal: INFO     Working on state: ST.\n",
      "2025-09-25 14:41:37 disaggregator.data: INFO     Using living space data for year 2018.\n"
     ]
    },
    {
     "name": "stderr",
     "output_type": "stream",
     "text": [
      "2025-09-25 14:41:41 disaggregator.config: WARNING  The mapping of the AGS to NUTS-3 regions is done using the file t_nuts3_lk.csv which is for a unknown year. This may not correspond entirely to the AGS number of the data fetched for another year from opendata.\n",
      "2025-09-25 14:41:42 disaggregator.config: WARNING  The mapping of the AGS to NUTS-3 regions is done using the file t_nuts3_lk.csv which is for a unknown year. This may not correspond entirely to the AGS number of the data fetched for another year from opendata.\n"
     ]
    },
    {
     "name": "stdout",
     "output_type": "stream",
     "text": [
      "2025-09-25 14:41:42 disaggregator.data: INFO     Merging old Göttingen+Osterode to new NUTS-v2016 region.\n"
     ]
    },
    {
     "name": "stderr",
     "output_type": "stream",
     "text": [
      "2025-09-25 14:41:42 disaggregator.config: WARNING  The mapping of the AGS to NUTS-3 regions is done using the file t_nuts3_lk.csv which is for a unknown year. This may not correspond entirely to the AGS number of the data fetched for another year from opendata.\n",
      "2025-09-25 14:41:42 disaggregator.config: WARNING  The mapping of the AGS to NUTS-3 regions is done using the file t_nuts3_lk.csv which is for a unknown year. This may not correspond entirely to the AGS number of the data fetched for another year from opendata.\n",
      "2025-09-25 14:41:42 disaggregator.config: WARNING  The mapping of the AGS to NUTS-3 regions is done using the file t_nuts3_lk.csv which is for a unknown year. This may not correspond entirely to the AGS number of the data fetched for another year from opendata.\n",
      "2025-09-25 14:41:42 disaggregator.config: WARNING  The mapping of the AGS to NUTS-3 regions is done using the file t_nuts3_lk.csv which is for a unknown year. This may not correspond entirely to the AGS number of the data fetched for another year from opendata.\n"
     ]
    },
    {
     "name": "stdout",
     "output_type": "stream",
     "text": [
      "2025-09-25 14:41:42 disaggregator.data: INFO     Merging old Göttingen+Osterode to new NUTS-v2016 region.\n",
      "2025-09-25 14:41:42 disaggregator.spatial: INFO     Calculating regional gas demands top-down.\n"
     ]
    },
    {
     "name": "stderr",
     "output_type": "stream",
     "text": [
      "2025-09-25 14:41:42 disaggregator.config: WARNING  The mapping of the AGS to NUTS-3 regions is done using the file t_nuts3_lk.csv which is for a unknown year. This may not correspond entirely to the AGS number of the data fetched for another year from opendata.\n",
      "2025-09-25 14:41:42 disaggregator.config: WARNING  The mapping of the AGS to NUTS-3 regions is done using the file t_nuts3_lk.csv which is for a unknown year. This may not correspond entirely to the AGS number of the data fetched for another year from opendata.\n"
     ]
    },
    {
     "name": "stdout",
     "output_type": "stream",
     "text": [
      "2025-09-25 14:41:42 disaggregator.data: INFO     Merging old Göttingen+Osterode to new NUTS-v2016 region.\n"
     ]
    },
    {
     "name": "stderr",
     "output_type": "stream",
     "text": [
      "2025-09-25 14:41:42 disaggregator.config: WARNING  The mapping of the AGS to NUTS-3 regions is done using the file t_nuts3_lk.csv which is for a unknown year. This may not correspond entirely to the AGS number of the data fetched for another year from opendata.\n",
      "2025-09-25 14:41:42 disaggregator.config: WARNING  The mapping of the AGS to NUTS-3 regions is done using the file t_nuts3_lk.csv which is for a unknown year. This may not correspond entirely to the AGS number of the data fetched for another year from opendata.\n"
     ]
    },
    {
     "name": "stdout",
     "output_type": "stream",
     "text": [
      "2025-09-25 14:41:42 disaggregator.data: INFO     Merging old Göttingen+Osterode to new NUTS-v2016 region.\n"
     ]
    },
    {
     "name": "stderr",
     "output_type": "stream",
     "text": [
      "2025-09-25 14:41:42 disaggregator.config: WARNING  The mapping of the AGS to NUTS-3 regions is done using the file t_nuts3_lk.csv which is for a unknown year. This may not correspond entirely to the AGS number of the data fetched for another year from opendata.\n"
     ]
    },
    {
     "name": "stdout",
     "output_type": "stream",
     "text": [
      "2025-09-25 14:41:42 disaggregator.temporal: INFO     ... creating state-specific load-profiles\n"
     ]
    },
    {
     "name": "stderr",
     "output_type": "stream",
     "text": [
      "2025-09-25 14:41:42 disaggregator.config: WARNING  The mapping of the AGS to NUTS-3 regions is done using the file t_nuts3_lk.csv which is for a unknown year. This may not correspond entirely to the AGS number of the data fetched for another year from opendata.\n"
     ]
    },
    {
     "name": "stdout",
     "output_type": "stream",
     "text": [
      "2025-09-25 14:41:44 disaggregator.temporal: INFO     Working on state: TH.\n",
      "2025-09-25 14:41:44 disaggregator.data: INFO     Using living space data for year 2018.\n"
     ]
    },
    {
     "name": "stderr",
     "output_type": "stream",
     "text": [
      "2025-09-25 14:41:48 disaggregator.config: WARNING  The mapping of the AGS to NUTS-3 regions is done using the file t_nuts3_lk.csv which is for a unknown year. This may not correspond entirely to the AGS number of the data fetched for another year from opendata.\n",
      "2025-09-25 14:41:49 disaggregator.config: WARNING  The mapping of the AGS to NUTS-3 regions is done using the file t_nuts3_lk.csv which is for a unknown year. This may not correspond entirely to the AGS number of the data fetched for another year from opendata.\n"
     ]
    },
    {
     "name": "stdout",
     "output_type": "stream",
     "text": [
      "2025-09-25 14:41:49 disaggregator.data: INFO     Merging old Göttingen+Osterode to new NUTS-v2016 region.\n"
     ]
    },
    {
     "name": "stderr",
     "output_type": "stream",
     "text": [
      "2025-09-25 14:41:49 disaggregator.config: WARNING  The mapping of the AGS to NUTS-3 regions is done using the file t_nuts3_lk.csv which is for a unknown year. This may not correspond entirely to the AGS number of the data fetched for another year from opendata.\n",
      "2025-09-25 14:41:49 disaggregator.config: WARNING  The mapping of the AGS to NUTS-3 regions is done using the file t_nuts3_lk.csv which is for a unknown year. This may not correspond entirely to the AGS number of the data fetched for another year from opendata.\n",
      "2025-09-25 14:41:49 disaggregator.config: WARNING  The mapping of the AGS to NUTS-3 regions is done using the file t_nuts3_lk.csv which is for a unknown year. This may not correspond entirely to the AGS number of the data fetched for another year from opendata.\n",
      "2025-09-25 14:41:49 disaggregator.config: WARNING  The mapping of the AGS to NUTS-3 regions is done using the file t_nuts3_lk.csv which is for a unknown year. This may not correspond entirely to the AGS number of the data fetched for another year from opendata.\n"
     ]
    },
    {
     "name": "stdout",
     "output_type": "stream",
     "text": [
      "2025-09-25 14:41:49 disaggregator.data: INFO     Merging old Göttingen+Osterode to new NUTS-v2016 region.\n",
      "2025-09-25 14:41:49 disaggregator.spatial: INFO     Calculating regional gas demands top-down.\n"
     ]
    },
    {
     "name": "stderr",
     "output_type": "stream",
     "text": [
      "2025-09-25 14:41:49 disaggregator.config: WARNING  The mapping of the AGS to NUTS-3 regions is done using the file t_nuts3_lk.csv which is for a unknown year. This may not correspond entirely to the AGS number of the data fetched for another year from opendata.\n",
      "2025-09-25 14:41:49 disaggregator.config: WARNING  The mapping of the AGS to NUTS-3 regions is done using the file t_nuts3_lk.csv which is for a unknown year. This may not correspond entirely to the AGS number of the data fetched for another year from opendata.\n"
     ]
    },
    {
     "name": "stdout",
     "output_type": "stream",
     "text": [
      "2025-09-25 14:41:49 disaggregator.data: INFO     Merging old Göttingen+Osterode to new NUTS-v2016 region.\n"
     ]
    },
    {
     "name": "stderr",
     "output_type": "stream",
     "text": [
      "2025-09-25 14:41:49 disaggregator.config: WARNING  The mapping of the AGS to NUTS-3 regions is done using the file t_nuts3_lk.csv which is for a unknown year. This may not correspond entirely to the AGS number of the data fetched for another year from opendata.\n",
      "2025-09-25 14:41:49 disaggregator.config: WARNING  The mapping of the AGS to NUTS-3 regions is done using the file t_nuts3_lk.csv which is for a unknown year. This may not correspond entirely to the AGS number of the data fetched for another year from opendata.\n"
     ]
    },
    {
     "name": "stdout",
     "output_type": "stream",
     "text": [
      "2025-09-25 14:41:49 disaggregator.data: INFO     Merging old Göttingen+Osterode to new NUTS-v2016 region.\n"
     ]
    },
    {
     "name": "stderr",
     "output_type": "stream",
     "text": [
      "2025-09-25 14:41:49 disaggregator.config: WARNING  The mapping of the AGS to NUTS-3 regions is done using the file t_nuts3_lk.csv which is for a unknown year. This may not correspond entirely to the AGS number of the data fetched for another year from opendata.\n"
     ]
    },
    {
     "name": "stdout",
     "output_type": "stream",
     "text": [
      "2025-09-25 14:41:49 disaggregator.temporal: INFO     ... creating state-specific load-profiles\n"
     ]
    },
    {
     "name": "stderr",
     "output_type": "stream",
     "text": [
      "2025-09-25 14:41:49 disaggregator.config: WARNING  The mapping of the AGS to NUTS-3 regions is done using the file t_nuts3_lk.csv which is for a unknown year. This may not correspond entirely to the AGS number of the data fetched for another year from opendata.\n",
      "2025-09-25 14:41:51 disaggregator.config: WARNING  The mapping of the AGS to NUTS-3 regions is done using the file t_nuts3_lk.csv which is for a unknown year. This may not correspond entirely to the AGS number of the data fetched for another year from opendata.\n"
     ]
    }
   ],
   "source": [
    "# use function disagg_daily_gas_slp_households similar as for CTS to create gas SLP for all years\n",
    "# specify year either through config file (restart kernel after) or specify directly in function\n",
    "df_households_gas = temporal.disagg_temporal_gas_households(\n",
    "    use_nuts3code=True, year=2016\n",
    ")"
   ]
  },
  {
   "cell_type": "code",
   "execution_count": 13,
   "metadata": {
    "jukit_cell_id": "rn5Bymkdgn"
   },
   "outputs": [
    {
     "data": {
      "text/html": [
       "<div>\n",
       "<style scoped>\n",
       "    .dataframe tbody tr th:only-of-type {\n",
       "        vertical-align: middle;\n",
       "    }\n",
       "\n",
       "    .dataframe tbody tr th {\n",
       "        vertical-align: top;\n",
       "    }\n",
       "\n",
       "    .dataframe thead th {\n",
       "        text-align: right;\n",
       "    }\n",
       "</style>\n",
       "<table border=\"1\" class=\"dataframe\">\n",
       "  <thead>\n",
       "    <tr style=\"text-align: right;\">\n",
       "      <th></th>\n",
       "      <th>DE111</th>\n",
       "      <th>DE112</th>\n",
       "      <th>DE113</th>\n",
       "      <th>DE114</th>\n",
       "      <th>DE115</th>\n",
       "      <th>DE116</th>\n",
       "      <th>DE117</th>\n",
       "      <th>DE118</th>\n",
       "      <th>DE119</th>\n",
       "      <th>DE11A</th>\n",
       "      <th>...</th>\n",
       "      <th>DEG0G</th>\n",
       "      <th>DEG0H</th>\n",
       "      <th>DEG0I</th>\n",
       "      <th>DEG0J</th>\n",
       "      <th>DEG0K</th>\n",
       "      <th>DEG0L</th>\n",
       "      <th>DEG0M</th>\n",
       "      <th>DEG0N</th>\n",
       "      <th>DEG0P</th>\n",
       "      <th>DE91C</th>\n",
       "    </tr>\n",
       "  </thead>\n",
       "  <tbody>\n",
       "    <tr>\n",
       "      <th>2016-01-01 00:00:00</th>\n",
       "      <td>149.151200</td>\n",
       "      <td>101.785185</td>\n",
       "      <td>144.980609</td>\n",
       "      <td>72.900915</td>\n",
       "      <td>154.754564</td>\n",
       "      <td>122.638248</td>\n",
       "      <td>37.790875</td>\n",
       "      <td>99.694237</td>\n",
       "      <td>32.806554</td>\n",
       "      <td>58.716556</td>\n",
       "      <td>...</td>\n",
       "      <td>30.703463</td>\n",
       "      <td>23.230158</td>\n",
       "      <td>43.623868</td>\n",
       "      <td>29.915757</td>\n",
       "      <td>31.095555</td>\n",
       "      <td>41.144101</td>\n",
       "      <td>28.673319</td>\n",
       "      <td>13.677095</td>\n",
       "      <td>48.422081</td>\n",
       "      <td>130.381138</td>\n",
       "    </tr>\n",
       "    <tr>\n",
       "      <th>2016-01-01 01:00:00</th>\n",
       "      <td>158.214107</td>\n",
       "      <td>107.286547</td>\n",
       "      <td>152.950880</td>\n",
       "      <td>76.835139</td>\n",
       "      <td>163.240936</td>\n",
       "      <td>129.425996</td>\n",
       "      <td>39.953342</td>\n",
       "      <td>104.749276</td>\n",
       "      <td>34.479517</td>\n",
       "      <td>61.738170</td>\n",
       "      <td>...</td>\n",
       "      <td>32.249525</td>\n",
       "      <td>23.839012</td>\n",
       "      <td>44.767155</td>\n",
       "      <td>30.664219</td>\n",
       "      <td>31.880115</td>\n",
       "      <td>42.215823</td>\n",
       "      <td>30.259917</td>\n",
       "      <td>14.483225</td>\n",
       "      <td>49.618545</td>\n",
       "      <td>135.987974</td>\n",
       "    </tr>\n",
       "    <tr>\n",
       "      <th>2016-01-01 02:00:00</th>\n",
       "      <td>160.877016</td>\n",
       "      <td>109.289325</td>\n",
       "      <td>155.767149</td>\n",
       "      <td>78.271198</td>\n",
       "      <td>166.252825</td>\n",
       "      <td>131.795844</td>\n",
       "      <td>40.664381</td>\n",
       "      <td>106.801395</td>\n",
       "      <td>35.152234</td>\n",
       "      <td>62.934755</td>\n",
       "      <td>...</td>\n",
       "      <td>32.884452</td>\n",
       "      <td>24.305602</td>\n",
       "      <td>45.643439</td>\n",
       "      <td>31.299105</td>\n",
       "      <td>32.533756</td>\n",
       "      <td>43.048575</td>\n",
       "      <td>30.814107</td>\n",
       "      <td>14.734182</td>\n",
       "      <td>50.660511</td>\n",
       "      <td>138.944363</td>\n",
       "    </tr>\n",
       "    <tr>\n",
       "      <th>2016-01-01 03:00:00</th>\n",
       "      <td>173.536526</td>\n",
       "      <td>117.877434</td>\n",
       "      <td>168.009905</td>\n",
       "      <td>84.421754</td>\n",
       "      <td>179.319347</td>\n",
       "      <td>142.155341</td>\n",
       "      <td>43.861949</td>\n",
       "      <td>115.188151</td>\n",
       "      <td>37.912788</td>\n",
       "      <td>67.877591</td>\n",
       "      <td>...</td>\n",
       "      <td>35.466569</td>\n",
       "      <td>26.025467</td>\n",
       "      <td>48.873048</td>\n",
       "      <td>33.459310</td>\n",
       "      <td>34.789246</td>\n",
       "      <td>46.084512</td>\n",
       "      <td>33.236169</td>\n",
       "      <td>15.893188</td>\n",
       "      <td>54.134030</td>\n",
       "      <td>149.837541</td>\n",
       "    </tr>\n",
       "    <tr>\n",
       "      <th>2016-01-01 04:00:00</th>\n",
       "      <td>213.980242</td>\n",
       "      <td>144.265793</td>\n",
       "      <td>205.834918</td>\n",
       "      <td>103.311108</td>\n",
       "      <td>219.656735</td>\n",
       "      <td>174.232391</td>\n",
       "      <td>53.872034</td>\n",
       "      <td>140.443512</td>\n",
       "      <td>46.240441</td>\n",
       "      <td>82.830804</td>\n",
       "      <td>...</td>\n",
       "      <td>43.225527</td>\n",
       "      <td>30.970253</td>\n",
       "      <td>58.158529</td>\n",
       "      <td>39.680972</td>\n",
       "      <td>41.283286</td>\n",
       "      <td>54.815170</td>\n",
       "      <td>40.735194</td>\n",
       "      <td>19.557653</td>\n",
       "      <td>64.142891</td>\n",
       "      <td>181.086467</td>\n",
       "    </tr>\n",
       "  </tbody>\n",
       "</table>\n",
       "<p>5 rows × 401 columns</p>\n",
       "</div>"
      ],
      "text/plain": [
       "                          DE111       DE112       DE113       DE114  \\\n",
       "2016-01-01 00:00:00  149.151200  101.785185  144.980609   72.900915   \n",
       "2016-01-01 01:00:00  158.214107  107.286547  152.950880   76.835139   \n",
       "2016-01-01 02:00:00  160.877016  109.289325  155.767149   78.271198   \n",
       "2016-01-01 03:00:00  173.536526  117.877434  168.009905   84.421754   \n",
       "2016-01-01 04:00:00  213.980242  144.265793  205.834918  103.311108   \n",
       "\n",
       "                          DE115       DE116      DE117       DE118      DE119  \\\n",
       "2016-01-01 00:00:00  154.754564  122.638248  37.790875   99.694237  32.806554   \n",
       "2016-01-01 01:00:00  163.240936  129.425996  39.953342  104.749276  34.479517   \n",
       "2016-01-01 02:00:00  166.252825  131.795844  40.664381  106.801395  35.152234   \n",
       "2016-01-01 03:00:00  179.319347  142.155341  43.861949  115.188151  37.912788   \n",
       "2016-01-01 04:00:00  219.656735  174.232391  53.872034  140.443512  46.240441   \n",
       "\n",
       "                         DE11A  ...      DEG0G      DEG0H      DEG0I  \\\n",
       "2016-01-01 00:00:00  58.716556  ...  30.703463  23.230158  43.623868   \n",
       "2016-01-01 01:00:00  61.738170  ...  32.249525  23.839012  44.767155   \n",
       "2016-01-01 02:00:00  62.934755  ...  32.884452  24.305602  45.643439   \n",
       "2016-01-01 03:00:00  67.877591  ...  35.466569  26.025467  48.873048   \n",
       "2016-01-01 04:00:00  82.830804  ...  43.225527  30.970253  58.158529   \n",
       "\n",
       "                         DEG0J      DEG0K      DEG0L      DEG0M      DEG0N  \\\n",
       "2016-01-01 00:00:00  29.915757  31.095555  41.144101  28.673319  13.677095   \n",
       "2016-01-01 01:00:00  30.664219  31.880115  42.215823  30.259917  14.483225   \n",
       "2016-01-01 02:00:00  31.299105  32.533756  43.048575  30.814107  14.734182   \n",
       "2016-01-01 03:00:00  33.459310  34.789246  46.084512  33.236169  15.893188   \n",
       "2016-01-01 04:00:00  39.680972  41.283286  54.815170  40.735194  19.557653   \n",
       "\n",
       "                         DEG0P       DE91C  \n",
       "2016-01-01 00:00:00  48.422081  130.381138  \n",
       "2016-01-01 01:00:00  49.618545  135.987974  \n",
       "2016-01-01 02:00:00  50.660511  138.944363  \n",
       "2016-01-01 03:00:00  54.134030  149.837541  \n",
       "2016-01-01 04:00:00  64.142891  181.086467  \n",
       "\n",
       "[5 rows x 401 columns]"
      ]
     },
     "execution_count": 13,
     "metadata": {},
     "output_type": "execute_result"
    }
   ],
   "source": [
    "df_households_gas.head()"
   ]
  },
  {
   "cell_type": "markdown",
   "metadata": {
    "jukit_cell_id": "vbaH7bPnIW"
   },
   "source": [
    "plot df directly..."
   ]
  },
  {
   "cell_type": "code",
   "execution_count": 14,
   "metadata": {
    "jukit_cell_id": "IwygJAozzV"
   },
   "outputs": [
    {
     "name": "stderr",
     "output_type": "stream",
     "text": [
      "2025-09-25 14:41:51 disaggregator.plot: WARNING  This is currently buggy and may distort your figure!\n"
     ]
    },
    {
     "data": {
      "text/plain": [
       "Text(0.5, 1.0, 'Gas Load Private Households Germany')"
      ]
     },
     "execution_count": 14,
     "metadata": {},
     "output_type": "execute_result"
    },
    {
     "data": {
      "image/png": "[encoded data removed]",
      "text/plain": [
       "<Figure size 1200x300 with 2 Axes>"
      ]
     },
     "metadata": {},
     "output_type": "display_data"
    }
   ],
   "source": [
    "fig, ax = plot.heatmap_timeseries(df_households_gas.sum(axis=1) / 1e3, clabel=\"[GWh]\")\n",
    "ax[0, 0].set_title(\"Gas Load Private Households Germany\")"
   ]
  },
  {
   "cell_type": "markdown",
   "metadata": {
    "jukit_cell_id": "0YOqPJScnT"
   },
   "source": [
    "### older version below"
   ]
  },
  {
   "cell_type": "markdown",
   "metadata": {
    "jukit_cell_id": "asoKcQTvyU"
   },
   "source": [
    "normalized gas SLP for _single family houses_ (EFH) and _multi family houses (MFH)_ have been uploaded into the database untill 2016 as well. which could be used with ``temporal.disagg_temporal(df_spat, df_temp)`` and ``data.transpose_spatiotemporal()`` to perform the same disaggregation."
   ]
  },
  {
   "cell_type": "code",
   "execution_count": 24,
   "metadata": {
    "jukit_cell_id": "qmhMooXQMa"
   },
   "outputs": [
    {
     "name": "stderr",
     "output_type": "stream",
     "text": [
      "2025-09-25 15:09:06 disaggregator.data: WARNING  Using year_weather 2016 for 'slp_H0_1H_gas' data (available years: 2014, 2015, 2016).\n",
      "2025-09-25 15:09:12 disaggregator.config: WARNING  The mapping of the AGS to NUTS-3 regions is done using the file t_nuts3_lk.csv which is for a unknown year. This may not correspond entirely to the AGS number of the data fetched for another year from opendata.\n",
      "2025-09-25 15:09:13 disaggregator.config: WARNING  The mapping of the AGS to NUTS-3 regions is done using the file t_nuts3_lk.csv which is for a unknown year. This may not correspond entirely to the AGS number of the data fetched for another year from opendata.\n"
     ]
    },
    {
     "name": "stdout",
     "output_type": "stream",
     "text": [
      "2025-09-25 15:09:13 disaggregator.data: INFO     Merging old Göttingen+Osterode to new NUTS-v2016 region.\n"
     ]
    },
    {
     "data": {
      "text/html": [
       "<div>\n",
       "<style scoped>\n",
       "    .dataframe tbody tr th:only-of-type {\n",
       "        vertical-align: middle;\n",
       "    }\n",
       "\n",
       "    .dataframe tbody tr th {\n",
       "        vertical-align: top;\n",
       "    }\n",
       "\n",
       "    .dataframe thead th {\n",
       "        text-align: right;\n",
       "    }\n",
       "</style>\n",
       "<table border=\"1\" class=\"dataframe\">\n",
       "  <thead>\n",
       "    <tr style=\"text-align: right;\">\n",
       "      <th>nuts3</th>\n",
       "      <th>DE111</th>\n",
       "      <th>DE112</th>\n",
       "      <th>DE113</th>\n",
       "      <th>DE114</th>\n",
       "      <th>DE115</th>\n",
       "      <th>DE116</th>\n",
       "      <th>DE117</th>\n",
       "      <th>DE118</th>\n",
       "      <th>DE119</th>\n",
       "      <th>DE11A</th>\n",
       "      <th>...</th>\n",
       "      <th>DEG0G</th>\n",
       "      <th>DEG0H</th>\n",
       "      <th>DEG0I</th>\n",
       "      <th>DEG0J</th>\n",
       "      <th>DEG0K</th>\n",
       "      <th>DEG0L</th>\n",
       "      <th>DEG0M</th>\n",
       "      <th>DEG0N</th>\n",
       "      <th>DEG0P</th>\n",
       "      <th>DE91C</th>\n",
       "    </tr>\n",
       "  </thead>\n",
       "  <tbody>\n",
       "    <tr>\n",
       "      <th>2015-01-01 00:00:00</th>\n",
       "      <td>0.000107</td>\n",
       "      <td>0.000103</td>\n",
       "      <td>0.000112</td>\n",
       "      <td>0.000104</td>\n",
       "      <td>0.000112</td>\n",
       "      <td>0.000108</td>\n",
       "      <td>0.000110</td>\n",
       "      <td>0.000112</td>\n",
       "      <td>0.000110</td>\n",
       "      <td>0.000108</td>\n",
       "      <td>...</td>\n",
       "      <td>0.000114</td>\n",
       "      <td>0.000121</td>\n",
       "      <td>0.000116</td>\n",
       "      <td>0.000117</td>\n",
       "      <td>0.000116</td>\n",
       "      <td>0.000119</td>\n",
       "      <td>0.000118</td>\n",
       "      <td>0.000108</td>\n",
       "      <td>0.000115</td>\n",
       "      <td>0.000102</td>\n",
       "    </tr>\n",
       "    <tr>\n",
       "      <th>2015-01-01 01:00:00</th>\n",
       "      <td>0.000109</td>\n",
       "      <td>0.000107</td>\n",
       "      <td>0.000116</td>\n",
       "      <td>0.000107</td>\n",
       "      <td>0.000116</td>\n",
       "      <td>0.000111</td>\n",
       "      <td>0.000114</td>\n",
       "      <td>0.000116</td>\n",
       "      <td>0.000114</td>\n",
       "      <td>0.000112</td>\n",
       "      <td>...</td>\n",
       "      <td>0.000118</td>\n",
       "      <td>0.000123</td>\n",
       "      <td>0.000119</td>\n",
       "      <td>0.000120</td>\n",
       "      <td>0.000119</td>\n",
       "      <td>0.000123</td>\n",
       "      <td>0.000122</td>\n",
       "      <td>0.000111</td>\n",
       "      <td>0.000119</td>\n",
       "      <td>0.000105</td>\n",
       "    </tr>\n",
       "    <tr>\n",
       "      <th>2015-01-01 02:00:00</th>\n",
       "      <td>0.000112</td>\n",
       "      <td>0.000108</td>\n",
       "      <td>0.000118</td>\n",
       "      <td>0.000109</td>\n",
       "      <td>0.000117</td>\n",
       "      <td>0.000113</td>\n",
       "      <td>0.000116</td>\n",
       "      <td>0.000118</td>\n",
       "      <td>0.000116</td>\n",
       "      <td>0.000113</td>\n",
       "      <td>...</td>\n",
       "      <td>0.000120</td>\n",
       "      <td>0.000127</td>\n",
       "      <td>0.000122</td>\n",
       "      <td>0.000123</td>\n",
       "      <td>0.000122</td>\n",
       "      <td>0.000125</td>\n",
       "      <td>0.000125</td>\n",
       "      <td>0.000113</td>\n",
       "      <td>0.000121</td>\n",
       "      <td>0.000108</td>\n",
       "    </tr>\n",
       "    <tr>\n",
       "      <th>2015-01-01 03:00:00</th>\n",
       "      <td>0.000121</td>\n",
       "      <td>0.000116</td>\n",
       "      <td>0.000127</td>\n",
       "      <td>0.000118</td>\n",
       "      <td>0.000127</td>\n",
       "      <td>0.000122</td>\n",
       "      <td>0.000125</td>\n",
       "      <td>0.000127</td>\n",
       "      <td>0.000125</td>\n",
       "      <td>0.000122</td>\n",
       "      <td>...</td>\n",
       "      <td>0.000129</td>\n",
       "      <td>0.000133</td>\n",
       "      <td>0.000131</td>\n",
       "      <td>0.000132</td>\n",
       "      <td>0.000131</td>\n",
       "      <td>0.000135</td>\n",
       "      <td>0.000134</td>\n",
       "      <td>0.000121</td>\n",
       "      <td>0.000130</td>\n",
       "      <td>0.000116</td>\n",
       "    </tr>\n",
       "    <tr>\n",
       "      <th>2015-01-01 04:00:00</th>\n",
       "      <td>0.000145</td>\n",
       "      <td>0.000134</td>\n",
       "      <td>0.000148</td>\n",
       "      <td>0.000139</td>\n",
       "      <td>0.000147</td>\n",
       "      <td>0.000142</td>\n",
       "      <td>0.000148</td>\n",
       "      <td>0.000146</td>\n",
       "      <td>0.000143</td>\n",
       "      <td>0.000140</td>\n",
       "      <td>...</td>\n",
       "      <td>0.000150</td>\n",
       "      <td>0.000153</td>\n",
       "      <td>0.000156</td>\n",
       "      <td>0.000156</td>\n",
       "      <td>0.000156</td>\n",
       "      <td>0.000160</td>\n",
       "      <td>0.000159</td>\n",
       "      <td>0.000143</td>\n",
       "      <td>0.000152</td>\n",
       "      <td>0.000137</td>\n",
       "    </tr>\n",
       "    <tr>\n",
       "      <th>...</th>\n",
       "      <td>...</td>\n",
       "      <td>...</td>\n",
       "      <td>...</td>\n",
       "      <td>...</td>\n",
       "      <td>...</td>\n",
       "      <td>...</td>\n",
       "      <td>...</td>\n",
       "      <td>...</td>\n",
       "      <td>...</td>\n",
       "      <td>...</td>\n",
       "      <td>...</td>\n",
       "      <td>...</td>\n",
       "      <td>...</td>\n",
       "      <td>...</td>\n",
       "      <td>...</td>\n",
       "      <td>...</td>\n",
       "      <td>...</td>\n",
       "      <td>...</td>\n",
       "      <td>...</td>\n",
       "      <td>...</td>\n",
       "      <td>...</td>\n",
       "    </tr>\n",
       "    <tr>\n",
       "      <th>2016-01-01 19:00:00</th>\n",
       "      <td>0.000318</td>\n",
       "      <td>0.000293</td>\n",
       "      <td>52.173012</td>\n",
       "      <td>0.000310</td>\n",
       "      <td>52.246476</td>\n",
       "      <td>0.000335</td>\n",
       "      <td>46.980467</td>\n",
       "      <td>0.000321</td>\n",
       "      <td>0.000315</td>\n",
       "      <td>0.000294</td>\n",
       "      <td>...</td>\n",
       "      <td>0.000275</td>\n",
       "      <td>0.000214</td>\n",
       "      <td>0.000266</td>\n",
       "      <td>0.000257</td>\n",
       "      <td>0.000262</td>\n",
       "      <td>0.000258</td>\n",
       "      <td>0.000256</td>\n",
       "      <td>21.872373</td>\n",
       "      <td>0.000275</td>\n",
       "      <td>15.585107</td>\n",
       "    </tr>\n",
       "    <tr>\n",
       "      <th>2016-01-01 20:00:00</th>\n",
       "      <td>0.000306</td>\n",
       "      <td>0.000283</td>\n",
       "      <td>16.110031</td>\n",
       "      <td>0.000299</td>\n",
       "      <td>100.988999</td>\n",
       "      <td>0.000324</td>\n",
       "      <td>80.066596</td>\n",
       "      <td>0.000310</td>\n",
       "      <td>0.000305</td>\n",
       "      <td>0.000285</td>\n",
       "      <td>...</td>\n",
       "      <td>0.000266</td>\n",
       "      <td>0.000206</td>\n",
       "      <td>0.000255</td>\n",
       "      <td>0.000248</td>\n",
       "      <td>0.000252</td>\n",
       "      <td>0.000248</td>\n",
       "      <td>0.000246</td>\n",
       "      <td>35.514794</td>\n",
       "      <td>0.000266</td>\n",
       "      <td>9.874521</td>\n",
       "    </tr>\n",
       "    <tr>\n",
       "      <th>2016-01-01 21:00:00</th>\n",
       "      <td>0.000271</td>\n",
       "      <td>0.000253</td>\n",
       "      <td>31.913244</td>\n",
       "      <td>0.000266</td>\n",
       "      <td>25.332853</td>\n",
       "      <td>0.000289</td>\n",
       "      <td>39.455531</td>\n",
       "      <td>0.000277</td>\n",
       "      <td>0.000272</td>\n",
       "      <td>0.000254</td>\n",
       "      <td>...</td>\n",
       "      <td>0.000237</td>\n",
       "      <td>0.000184</td>\n",
       "      <td>0.000227</td>\n",
       "      <td>0.000221</td>\n",
       "      <td>0.000224</td>\n",
       "      <td>0.000221</td>\n",
       "      <td>0.000219</td>\n",
       "      <td>50.977324</td>\n",
       "      <td>0.000237</td>\n",
       "      <td>2.821187</td>\n",
       "    </tr>\n",
       "    <tr>\n",
       "      <th>2016-01-01 22:00:00</th>\n",
       "      <td>0.000208</td>\n",
       "      <td>0.000199</td>\n",
       "      <td>11.405248</td>\n",
       "      <td>0.000207</td>\n",
       "      <td>67.269278</td>\n",
       "      <td>0.000226</td>\n",
       "      <td>46.346607</td>\n",
       "      <td>0.000219</td>\n",
       "      <td>0.000215</td>\n",
       "      <td>0.000200</td>\n",
       "      <td>...</td>\n",
       "      <td>0.000186</td>\n",
       "      <td>0.000142</td>\n",
       "      <td>0.000175</td>\n",
       "      <td>0.000172</td>\n",
       "      <td>0.000173</td>\n",
       "      <td>0.000170</td>\n",
       "      <td>0.000158</td>\n",
       "      <td>57.176243</td>\n",
       "      <td>0.000186</td>\n",
       "      <td>25.437678</td>\n",
       "    </tr>\n",
       "    <tr>\n",
       "      <th>2016-01-01 23:00:00</th>\n",
       "      <td>0.000178</td>\n",
       "      <td>0.000170</td>\n",
       "      <td>41.341189</td>\n",
       "      <td>0.000177</td>\n",
       "      <td>56.820005</td>\n",
       "      <td>0.000193</td>\n",
       "      <td>44.764921</td>\n",
       "      <td>0.000187</td>\n",
       "      <td>0.000184</td>\n",
       "      <td>0.000171</td>\n",
       "      <td>...</td>\n",
       "      <td>0.000159</td>\n",
       "      <td>0.000121</td>\n",
       "      <td>0.000150</td>\n",
       "      <td>0.000147</td>\n",
       "      <td>0.000148</td>\n",
       "      <td>0.000146</td>\n",
       "      <td>0.000126</td>\n",
       "      <td>18.035777</td>\n",
       "      <td>0.000159</td>\n",
       "      <td>48.132105</td>\n",
       "    </tr>\n",
       "  </tbody>\n",
       "</table>\n",
       "<p>8784 rows × 401 columns</p>\n",
       "</div>"
      ],
      "text/plain": [
       "nuts3                   DE111     DE112      DE113     DE114       DE115  \\\n",
       "2015-01-01 00:00:00  0.000107  0.000103   0.000112  0.000104    0.000112   \n",
       "2015-01-01 01:00:00  0.000109  0.000107   0.000116  0.000107    0.000116   \n",
       "2015-01-01 02:00:00  0.000112  0.000108   0.000118  0.000109    0.000117   \n",
       "2015-01-01 03:00:00  0.000121  0.000116   0.000127  0.000118    0.000127   \n",
       "2015-01-01 04:00:00  0.000145  0.000134   0.000148  0.000139    0.000147   \n",
       "...                       ...       ...        ...       ...         ...   \n",
       "2016-01-01 19:00:00  0.000318  0.000293  52.173012  0.000310   52.246476   \n",
       "2016-01-01 20:00:00  0.000306  0.000283  16.110031  0.000299  100.988999   \n",
       "2016-01-01 21:00:00  0.000271  0.000253  31.913244  0.000266   25.332853   \n",
       "2016-01-01 22:00:00  0.000208  0.000199  11.405248  0.000207   67.269278   \n",
       "2016-01-01 23:00:00  0.000178  0.000170  41.341189  0.000177   56.820005   \n",
       "\n",
       "nuts3                   DE116      DE117     DE118     DE119     DE11A  ...  \\\n",
       "2015-01-01 00:00:00  0.000108   0.000110  0.000112  0.000110  0.000108  ...   \n",
       "2015-01-01 01:00:00  0.000111   0.000114  0.000116  0.000114  0.000112  ...   \n",
       "2015-01-01 02:00:00  0.000113   0.000116  0.000118  0.000116  0.000113  ...   \n",
       "2015-01-01 03:00:00  0.000122   0.000125  0.000127  0.000125  0.000122  ...   \n",
       "2015-01-01 04:00:00  0.000142   0.000148  0.000146  0.000143  0.000140  ...   \n",
       "...                       ...        ...       ...       ...       ...  ...   \n",
       "2016-01-01 19:00:00  0.000335  46.980467  0.000321  0.000315  0.000294  ...   \n",
       "2016-01-01 20:00:00  0.000324  80.066596  0.000310  0.000305  0.000285  ...   \n",
       "2016-01-01 21:00:00  0.000289  39.455531  0.000277  0.000272  0.000254  ...   \n",
       "2016-01-01 22:00:00  0.000226  46.346607  0.000219  0.000215  0.000200  ...   \n",
       "2016-01-01 23:00:00  0.000193  44.764921  0.000187  0.000184  0.000171  ...   \n",
       "\n",
       "nuts3                   DEG0G     DEG0H     DEG0I     DEG0J     DEG0K  \\\n",
       "2015-01-01 00:00:00  0.000114  0.000121  0.000116  0.000117  0.000116   \n",
       "2015-01-01 01:00:00  0.000118  0.000123  0.000119  0.000120  0.000119   \n",
       "2015-01-01 02:00:00  0.000120  0.000127  0.000122  0.000123  0.000122   \n",
       "2015-01-01 03:00:00  0.000129  0.000133  0.000131  0.000132  0.000131   \n",
       "2015-01-01 04:00:00  0.000150  0.000153  0.000156  0.000156  0.000156   \n",
       "...                       ...       ...       ...       ...       ...   \n",
       "2016-01-01 19:00:00  0.000275  0.000214  0.000266  0.000257  0.000262   \n",
       "2016-01-01 20:00:00  0.000266  0.000206  0.000255  0.000248  0.000252   \n",
       "2016-01-01 21:00:00  0.000237  0.000184  0.000227  0.000221  0.000224   \n",
       "2016-01-01 22:00:00  0.000186  0.000142  0.000175  0.000172  0.000173   \n",
       "2016-01-01 23:00:00  0.000159  0.000121  0.000150  0.000147  0.000148   \n",
       "\n",
       "nuts3                   DEG0L     DEG0M      DEG0N     DEG0P      DE91C  \n",
       "2015-01-01 00:00:00  0.000119  0.000118   0.000108  0.000115   0.000102  \n",
       "2015-01-01 01:00:00  0.000123  0.000122   0.000111  0.000119   0.000105  \n",
       "2015-01-01 02:00:00  0.000125  0.000125   0.000113  0.000121   0.000108  \n",
       "2015-01-01 03:00:00  0.000135  0.000134   0.000121  0.000130   0.000116  \n",
       "2015-01-01 04:00:00  0.000160  0.000159   0.000143  0.000152   0.000137  \n",
       "...                       ...       ...        ...       ...        ...  \n",
       "2016-01-01 19:00:00  0.000258  0.000256  21.872373  0.000275  15.585107  \n",
       "2016-01-01 20:00:00  0.000248  0.000246  35.514794  0.000266   9.874521  \n",
       "2016-01-01 21:00:00  0.000221  0.000219  50.977324  0.000237   2.821187  \n",
       "2016-01-01 22:00:00  0.000170  0.000158  57.176243  0.000186  25.437678  \n",
       "2016-01-01 23:00:00  0.000146  0.000126  18.035777  0.000159  48.132105  \n",
       "\n",
       "[8784 rows x 401 columns]"
      ]
     },
     "execution_count": 24,
     "metadata": {},
     "output_type": "execute_result"
    }
   ],
   "source": [
    "df_gas_EFH = data.standard_load_profile_gas(typ=\"EFH\")  # type='MFH'\n",
    "df_gas_EFH"
   ]
  },
  {
   "cell_type": "code",
   "execution_count": 25,
   "metadata": {
    "jukit_cell_id": "KTe2RUoul3"
   },
   "outputs": [
    {
     "name": "stderr",
     "output_type": "stream",
     "text": [
      "2025-09-25 15:09:13 disaggregator.data: WARNING  Using year_weather 2016 for 'slp_H0_1H_gas' data (available years: 2014, 2015, 2016).\n",
      "2025-09-25 15:09:19 disaggregator.config: WARNING  The mapping of the AGS to NUTS-3 regions is done using the file t_nuts3_lk.csv which is for a unknown year. This may not correspond entirely to the AGS number of the data fetched for another year from opendata.\n",
      "2025-09-25 15:09:20 disaggregator.config: WARNING  The mapping of the AGS to NUTS-3 regions is done using the file t_nuts3_lk.csv which is for a unknown year. This may not correspond entirely to the AGS number of the data fetched for another year from opendata.\n"
     ]
    },
    {
     "name": "stdout",
     "output_type": "stream",
     "text": [
      "2025-09-25 15:09:20 disaggregator.data: INFO     Merging old Göttingen+Osterode to new NUTS-v2016 region.\n"
     ]
    },
    {
     "data": {
      "text/html": [
       "<div>\n",
       "<style scoped>\n",
       "    .dataframe tbody tr th:only-of-type {\n",
       "        vertical-align: middle;\n",
       "    }\n",
       "\n",
       "    .dataframe tbody tr th {\n",
       "        vertical-align: top;\n",
       "    }\n",
       "\n",
       "    .dataframe thead th {\n",
       "        text-align: right;\n",
       "    }\n",
       "</style>\n",
       "<table border=\"1\" class=\"dataframe\">\n",
       "  <thead>\n",
       "    <tr style=\"text-align: right;\">\n",
       "      <th>nuts3</th>\n",
       "      <th>DE111</th>\n",
       "      <th>DE112</th>\n",
       "      <th>DE113</th>\n",
       "      <th>DE114</th>\n",
       "      <th>DE115</th>\n",
       "      <th>DE116</th>\n",
       "      <th>DE117</th>\n",
       "      <th>DE118</th>\n",
       "      <th>DE119</th>\n",
       "      <th>DE11A</th>\n",
       "      <th>...</th>\n",
       "      <th>DEG0G</th>\n",
       "      <th>DEG0H</th>\n",
       "      <th>DEG0I</th>\n",
       "      <th>DEG0J</th>\n",
       "      <th>DEG0K</th>\n",
       "      <th>DEG0L</th>\n",
       "      <th>DEG0M</th>\n",
       "      <th>DEG0N</th>\n",
       "      <th>DEG0P</th>\n",
       "      <th>DE91C</th>\n",
       "    </tr>\n",
       "  </thead>\n",
       "  <tbody>\n",
       "    <tr>\n",
       "      <th>2015-01-01 00:00:00</th>\n",
       "      <td>0.000105</td>\n",
       "      <td>0.000096</td>\n",
       "      <td>1.053644e-04</td>\n",
       "      <td>0.000100</td>\n",
       "      <td>0.000105</td>\n",
       "      <td>0.000102</td>\n",
       "      <td>1.064203e-04</td>\n",
       "      <td>0.000104</td>\n",
       "      <td>0.000103</td>\n",
       "      <td>0.000101</td>\n",
       "      <td>...</td>\n",
       "      <td>0.000107</td>\n",
       "      <td>0.000112</td>\n",
       "      <td>0.000110</td>\n",
       "      <td>0.000110</td>\n",
       "      <td>0.000110</td>\n",
       "      <td>0.000113</td>\n",
       "      <td>0.000113</td>\n",
       "      <td>0.000102</td>\n",
       "      <td>0.000107</td>\n",
       "      <td>0.000099</td>\n",
       "    </tr>\n",
       "    <tr>\n",
       "      <th>2015-01-01 01:00:00</th>\n",
       "      <td>0.000111</td>\n",
       "      <td>0.000103</td>\n",
       "      <td>1.126623e-04</td>\n",
       "      <td>0.000107</td>\n",
       "      <td>0.000112</td>\n",
       "      <td>0.000109</td>\n",
       "      <td>1.136969e-04</td>\n",
       "      <td>0.000112</td>\n",
       "      <td>0.000110</td>\n",
       "      <td>0.000108</td>\n",
       "      <td>...</td>\n",
       "      <td>0.000114</td>\n",
       "      <td>0.000115</td>\n",
       "      <td>0.000118</td>\n",
       "      <td>0.000117</td>\n",
       "      <td>0.000118</td>\n",
       "      <td>0.000121</td>\n",
       "      <td>0.000120</td>\n",
       "      <td>0.000109</td>\n",
       "      <td>0.000115</td>\n",
       "      <td>0.000105</td>\n",
       "    </tr>\n",
       "    <tr>\n",
       "      <th>2015-01-01 02:00:00</th>\n",
       "      <td>0.000113</td>\n",
       "      <td>0.000105</td>\n",
       "      <td>1.149430e-04</td>\n",
       "      <td>0.000109</td>\n",
       "      <td>0.000115</td>\n",
       "      <td>0.000111</td>\n",
       "      <td>1.155160e-04</td>\n",
       "      <td>0.000114</td>\n",
       "      <td>0.000112</td>\n",
       "      <td>0.000110</td>\n",
       "      <td>...</td>\n",
       "      <td>0.000117</td>\n",
       "      <td>0.000118</td>\n",
       "      <td>0.000120</td>\n",
       "      <td>0.000119</td>\n",
       "      <td>0.000120</td>\n",
       "      <td>0.000123</td>\n",
       "      <td>0.000122</td>\n",
       "      <td>0.000111</td>\n",
       "      <td>0.000117</td>\n",
       "      <td>0.000107</td>\n",
       "    </tr>\n",
       "    <tr>\n",
       "      <th>2015-01-01 03:00:00</th>\n",
       "      <td>0.000121</td>\n",
       "      <td>0.000116</td>\n",
       "      <td>1.254338e-04</td>\n",
       "      <td>0.000118</td>\n",
       "      <td>0.000125</td>\n",
       "      <td>0.000121</td>\n",
       "      <td>1.250666e-04</td>\n",
       "      <td>0.000125</td>\n",
       "      <td>0.000124</td>\n",
       "      <td>0.000121</td>\n",
       "      <td>...</td>\n",
       "      <td>0.000127</td>\n",
       "      <td>0.000127</td>\n",
       "      <td>0.000130</td>\n",
       "      <td>0.000130</td>\n",
       "      <td>0.000130</td>\n",
       "      <td>0.000133</td>\n",
       "      <td>0.000132</td>\n",
       "      <td>0.000121</td>\n",
       "      <td>0.000128</td>\n",
       "      <td>0.000117</td>\n",
       "    </tr>\n",
       "    <tr>\n",
       "      <th>2015-01-01 04:00:00</th>\n",
       "      <td>0.000151</td>\n",
       "      <td>0.000141</td>\n",
       "      <td>1.532573e-04</td>\n",
       "      <td>0.000145</td>\n",
       "      <td>0.000153</td>\n",
       "      <td>0.000148</td>\n",
       "      <td>1.541730e-04</td>\n",
       "      <td>0.000152</td>\n",
       "      <td>0.000150</td>\n",
       "      <td>0.000147</td>\n",
       "      <td>...</td>\n",
       "      <td>0.000155</td>\n",
       "      <td>0.000152</td>\n",
       "      <td>0.000160</td>\n",
       "      <td>0.000159</td>\n",
       "      <td>0.000160</td>\n",
       "      <td>0.000164</td>\n",
       "      <td>0.000163</td>\n",
       "      <td>0.000148</td>\n",
       "      <td>0.000156</td>\n",
       "      <td>0.000143</td>\n",
       "    </tr>\n",
       "    <tr>\n",
       "      <th>...</th>\n",
       "      <td>...</td>\n",
       "      <td>...</td>\n",
       "      <td>...</td>\n",
       "      <td>...</td>\n",
       "      <td>...</td>\n",
       "      <td>...</td>\n",
       "      <td>...</td>\n",
       "      <td>...</td>\n",
       "      <td>...</td>\n",
       "      <td>...</td>\n",
       "      <td>...</td>\n",
       "      <td>...</td>\n",
       "      <td>...</td>\n",
       "      <td>...</td>\n",
       "      <td>...</td>\n",
       "      <td>...</td>\n",
       "      <td>...</td>\n",
       "      <td>...</td>\n",
       "      <td>...</td>\n",
       "      <td>...</td>\n",
       "      <td>...</td>\n",
       "    </tr>\n",
       "    <tr>\n",
       "      <th>2016-01-01 19:00:00</th>\n",
       "      <td>0.000281</td>\n",
       "      <td>0.000259</td>\n",
       "      <td>6.554718e-310</td>\n",
       "      <td>0.000275</td>\n",
       "      <td>83.566060</td>\n",
       "      <td>0.000292</td>\n",
       "      <td>6.554718e-310</td>\n",
       "      <td>0.000282</td>\n",
       "      <td>0.000278</td>\n",
       "      <td>0.000262</td>\n",
       "      <td>...</td>\n",
       "      <td>0.000250</td>\n",
       "      <td>0.000200</td>\n",
       "      <td>0.000241</td>\n",
       "      <td>0.000235</td>\n",
       "      <td>0.000239</td>\n",
       "      <td>0.000236</td>\n",
       "      <td>0.000234</td>\n",
       "      <td>28.347027</td>\n",
       "      <td>0.000248</td>\n",
       "      <td>34.341308</td>\n",
       "    </tr>\n",
       "    <tr>\n",
       "      <th>2016-01-01 20:00:00</th>\n",
       "      <td>0.000272</td>\n",
       "      <td>0.000251</td>\n",
       "      <td>6.554718e-310</td>\n",
       "      <td>0.000266</td>\n",
       "      <td>82.167805</td>\n",
       "      <td>0.000283</td>\n",
       "      <td>6.554718e-310</td>\n",
       "      <td>0.000273</td>\n",
       "      <td>0.000270</td>\n",
       "      <td>0.000254</td>\n",
       "      <td>...</td>\n",
       "      <td>0.000242</td>\n",
       "      <td>0.000194</td>\n",
       "      <td>0.000234</td>\n",
       "      <td>0.000228</td>\n",
       "      <td>0.000231</td>\n",
       "      <td>0.000229</td>\n",
       "      <td>0.000229</td>\n",
       "      <td>36.660871</td>\n",
       "      <td>0.000240</td>\n",
       "      <td>31.665531</td>\n",
       "    </tr>\n",
       "    <tr>\n",
       "      <th>2016-01-01 21:00:00</th>\n",
       "      <td>0.000249</td>\n",
       "      <td>0.000231</td>\n",
       "      <td>6.554718e-310</td>\n",
       "      <td>0.000244</td>\n",
       "      <td>124.940319</td>\n",
       "      <td>0.000260</td>\n",
       "      <td>6.554718e-310</td>\n",
       "      <td>0.000251</td>\n",
       "      <td>0.000248</td>\n",
       "      <td>0.000233</td>\n",
       "      <td>...</td>\n",
       "      <td>0.000222</td>\n",
       "      <td>0.000178</td>\n",
       "      <td>0.000215</td>\n",
       "      <td>0.000209</td>\n",
       "      <td>0.000212</td>\n",
       "      <td>0.000210</td>\n",
       "      <td>0.000210</td>\n",
       "      <td>42.608696</td>\n",
       "      <td>0.000221</td>\n",
       "      <td>15.579293</td>\n",
       "    </tr>\n",
       "    <tr>\n",
       "      <th>2016-01-01 22:00:00</th>\n",
       "      <td>0.000223</td>\n",
       "      <td>0.000202</td>\n",
       "      <td>6.554718e-310</td>\n",
       "      <td>0.000216</td>\n",
       "      <td>140.944292</td>\n",
       "      <td>0.000228</td>\n",
       "      <td>6.554718e-310</td>\n",
       "      <td>0.000220</td>\n",
       "      <td>0.000217</td>\n",
       "      <td>0.000204</td>\n",
       "      <td>...</td>\n",
       "      <td>0.000195</td>\n",
       "      <td>0.000158</td>\n",
       "      <td>0.000191</td>\n",
       "      <td>0.000185</td>\n",
       "      <td>0.000189</td>\n",
       "      <td>0.000187</td>\n",
       "      <td>0.000180</td>\n",
       "      <td>65.458452</td>\n",
       "      <td>0.000194</td>\n",
       "      <td>37.047359</td>\n",
       "    </tr>\n",
       "    <tr>\n",
       "      <th>2016-01-01 23:00:00</th>\n",
       "      <td>0.000164</td>\n",
       "      <td>0.000150</td>\n",
       "      <td>6.554718e-310</td>\n",
       "      <td>0.000159</td>\n",
       "      <td>58.161876</td>\n",
       "      <td>0.000170</td>\n",
       "      <td>6.554718e-310</td>\n",
       "      <td>0.000163</td>\n",
       "      <td>0.000161</td>\n",
       "      <td>0.000151</td>\n",
       "      <td>...</td>\n",
       "      <td>0.000145</td>\n",
       "      <td>0.000116</td>\n",
       "      <td>0.000141</td>\n",
       "      <td>0.000136</td>\n",
       "      <td>0.000139</td>\n",
       "      <td>0.000137</td>\n",
       "      <td>0.000133</td>\n",
       "      <td>31.239587</td>\n",
       "      <td>0.000144</td>\n",
       "      <td>109.733771</td>\n",
       "    </tr>\n",
       "  </tbody>\n",
       "</table>\n",
       "<p>8784 rows × 401 columns</p>\n",
       "</div>"
      ],
      "text/plain": [
       "nuts3                   DE111     DE112          DE113     DE114       DE115  \\\n",
       "2015-01-01 00:00:00  0.000105  0.000096   1.053644e-04  0.000100    0.000105   \n",
       "2015-01-01 01:00:00  0.000111  0.000103   1.126623e-04  0.000107    0.000112   \n",
       "2015-01-01 02:00:00  0.000113  0.000105   1.149430e-04  0.000109    0.000115   \n",
       "2015-01-01 03:00:00  0.000121  0.000116   1.254338e-04  0.000118    0.000125   \n",
       "2015-01-01 04:00:00  0.000151  0.000141   1.532573e-04  0.000145    0.000153   \n",
       "...                       ...       ...            ...       ...         ...   \n",
       "2016-01-01 19:00:00  0.000281  0.000259  6.554718e-310  0.000275   83.566060   \n",
       "2016-01-01 20:00:00  0.000272  0.000251  6.554718e-310  0.000266   82.167805   \n",
       "2016-01-01 21:00:00  0.000249  0.000231  6.554718e-310  0.000244  124.940319   \n",
       "2016-01-01 22:00:00  0.000223  0.000202  6.554718e-310  0.000216  140.944292   \n",
       "2016-01-01 23:00:00  0.000164  0.000150  6.554718e-310  0.000159   58.161876   \n",
       "\n",
       "nuts3                   DE116          DE117     DE118     DE119     DE11A  \\\n",
       "2015-01-01 00:00:00  0.000102   1.064203e-04  0.000104  0.000103  0.000101   \n",
       "2015-01-01 01:00:00  0.000109   1.136969e-04  0.000112  0.000110  0.000108   \n",
       "2015-01-01 02:00:00  0.000111   1.155160e-04  0.000114  0.000112  0.000110   \n",
       "2015-01-01 03:00:00  0.000121   1.250666e-04  0.000125  0.000124  0.000121   \n",
       "2015-01-01 04:00:00  0.000148   1.541730e-04  0.000152  0.000150  0.000147   \n",
       "...                       ...            ...       ...       ...       ...   \n",
       "2016-01-01 19:00:00  0.000292  6.554718e-310  0.000282  0.000278  0.000262   \n",
       "2016-01-01 20:00:00  0.000283  6.554718e-310  0.000273  0.000270  0.000254   \n",
       "2016-01-01 21:00:00  0.000260  6.554718e-310  0.000251  0.000248  0.000233   \n",
       "2016-01-01 22:00:00  0.000228  6.554718e-310  0.000220  0.000217  0.000204   \n",
       "2016-01-01 23:00:00  0.000170  6.554718e-310  0.000163  0.000161  0.000151   \n",
       "\n",
       "nuts3                ...     DEG0G     DEG0H     DEG0I     DEG0J     DEG0K  \\\n",
       "2015-01-01 00:00:00  ...  0.000107  0.000112  0.000110  0.000110  0.000110   \n",
       "2015-01-01 01:00:00  ...  0.000114  0.000115  0.000118  0.000117  0.000118   \n",
       "2015-01-01 02:00:00  ...  0.000117  0.000118  0.000120  0.000119  0.000120   \n",
       "2015-01-01 03:00:00  ...  0.000127  0.000127  0.000130  0.000130  0.000130   \n",
       "2015-01-01 04:00:00  ...  0.000155  0.000152  0.000160  0.000159  0.000160   \n",
       "...                  ...       ...       ...       ...       ...       ...   \n",
       "2016-01-01 19:00:00  ...  0.000250  0.000200  0.000241  0.000235  0.000239   \n",
       "2016-01-01 20:00:00  ...  0.000242  0.000194  0.000234  0.000228  0.000231   \n",
       "2016-01-01 21:00:00  ...  0.000222  0.000178  0.000215  0.000209  0.000212   \n",
       "2016-01-01 22:00:00  ...  0.000195  0.000158  0.000191  0.000185  0.000189   \n",
       "2016-01-01 23:00:00  ...  0.000145  0.000116  0.000141  0.000136  0.000139   \n",
       "\n",
       "nuts3                   DEG0L     DEG0M      DEG0N     DEG0P       DE91C  \n",
       "2015-01-01 00:00:00  0.000113  0.000113   0.000102  0.000107    0.000099  \n",
       "2015-01-01 01:00:00  0.000121  0.000120   0.000109  0.000115    0.000105  \n",
       "2015-01-01 02:00:00  0.000123  0.000122   0.000111  0.000117    0.000107  \n",
       "2015-01-01 03:00:00  0.000133  0.000132   0.000121  0.000128    0.000117  \n",
       "2015-01-01 04:00:00  0.000164  0.000163   0.000148  0.000156    0.000143  \n",
       "...                       ...       ...        ...       ...         ...  \n",
       "2016-01-01 19:00:00  0.000236  0.000234  28.347027  0.000248   34.341308  \n",
       "2016-01-01 20:00:00  0.000229  0.000229  36.660871  0.000240   31.665531  \n",
       "2016-01-01 21:00:00  0.000210  0.000210  42.608696  0.000221   15.579293  \n",
       "2016-01-01 22:00:00  0.000187  0.000180  65.458452  0.000194   37.047359  \n",
       "2016-01-01 23:00:00  0.000137  0.000133  31.239587  0.000144  109.733771  \n",
       "\n",
       "[8784 rows x 401 columns]"
      ]
     },
     "execution_count": 25,
     "metadata": {},
     "output_type": "execute_result"
    }
   ],
   "source": [
    "df_temp_MFH = data.standard_load_profile_gas(typ=\"MFH\")\n",
    "df_temp_MFH"
   ]
  },
  {
   "cell_type": "markdown",
   "metadata": {
    "jukit_cell_id": "rRJ6nUo1Mh"
   },
   "source": [
    "This dataframe has the NUTS-3-regions in columns and the timesteps in rows. Though being intuitive that way, the function ` temporal.disagg_temporal(df_spat, df_temp)` requires us to provide the temporal dataset _NUTS-3-index'ed_ (i.e. with timesteps in columns) for compatibility reasons. To achieve that, we use the function `data.transpose_spatiotemporal()`"
   ]
  },
  {
   "cell_type": "code",
   "execution_count": 27,
   "metadata": {
    "jukit_cell_id": "qn7c0mrFng"
   },
   "outputs": [
    {
     "data": {
      "text/html": [
       "<div>\n",
       "<style scoped>\n",
       "    .dataframe tbody tr th:only-of-type {\n",
       "        vertical-align: middle;\n",
       "    }\n",
       "\n",
       "    .dataframe tbody tr th {\n",
       "        vertical-align: top;\n",
       "    }\n",
       "\n",
       "    .dataframe thead th {\n",
       "        text-align: right;\n",
       "    }\n",
       "</style>\n",
       "<table border=\"1\" class=\"dataframe\">\n",
       "  <thead>\n",
       "    <tr style=\"text-align: right;\">\n",
       "      <th></th>\n",
       "      <th>0</th>\n",
       "      <th>1</th>\n",
       "      <th>2</th>\n",
       "      <th>3</th>\n",
       "      <th>4</th>\n",
       "      <th>5</th>\n",
       "      <th>6</th>\n",
       "      <th>7</th>\n",
       "      <th>8</th>\n",
       "      <th>9</th>\n",
       "      <th>...</th>\n",
       "      <th>8774</th>\n",
       "      <th>8775</th>\n",
       "      <th>8776</th>\n",
       "      <th>8777</th>\n",
       "      <th>8778</th>\n",
       "      <th>8779</th>\n",
       "      <th>8780</th>\n",
       "      <th>8781</th>\n",
       "      <th>8782</th>\n",
       "      <th>8783</th>\n",
       "    </tr>\n",
       "    <tr>\n",
       "      <th>nuts3</th>\n",
       "      <th></th>\n",
       "      <th></th>\n",
       "      <th></th>\n",
       "      <th></th>\n",
       "      <th></th>\n",
       "      <th></th>\n",
       "      <th></th>\n",
       "      <th></th>\n",
       "      <th></th>\n",
       "      <th></th>\n",
       "      <th></th>\n",
       "      <th></th>\n",
       "      <th></th>\n",
       "      <th></th>\n",
       "      <th></th>\n",
       "      <th></th>\n",
       "      <th></th>\n",
       "      <th></th>\n",
       "      <th></th>\n",
       "      <th></th>\n",
       "      <th></th>\n",
       "    </tr>\n",
       "  </thead>\n",
       "  <tbody>\n",
       "    <tr>\n",
       "      <th>DE111</th>\n",
       "      <td>0.000107</td>\n",
       "      <td>0.000109</td>\n",
       "      <td>0.000112</td>\n",
       "      <td>0.000121</td>\n",
       "      <td>0.000145</td>\n",
       "      <td>0.000208</td>\n",
       "      <td>0.000267</td>\n",
       "      <td>0.000249</td>\n",
       "      <td>0.000237</td>\n",
       "      <td>0.000226</td>\n",
       "      <td>...</td>\n",
       "      <td>0.000295</td>\n",
       "      <td>0.000300</td>\n",
       "      <td>0.000317</td>\n",
       "      <td>0.000321</td>\n",
       "      <td>0.000323</td>\n",
       "      <td>0.000318</td>\n",
       "      <td>0.000306</td>\n",
       "      <td>0.000271</td>\n",
       "      <td>0.000208</td>\n",
       "      <td>0.000178</td>\n",
       "    </tr>\n",
       "    <tr>\n",
       "      <th>DE112</th>\n",
       "      <td>0.000103</td>\n",
       "      <td>0.000107</td>\n",
       "      <td>0.000108</td>\n",
       "      <td>0.000116</td>\n",
       "      <td>0.000134</td>\n",
       "      <td>0.000191</td>\n",
       "      <td>0.000253</td>\n",
       "      <td>0.000233</td>\n",
       "      <td>0.000220</td>\n",
       "      <td>0.000213</td>\n",
       "      <td>...</td>\n",
       "      <td>0.000266</td>\n",
       "      <td>0.000269</td>\n",
       "      <td>0.000288</td>\n",
       "      <td>0.000294</td>\n",
       "      <td>0.000296</td>\n",
       "      <td>0.000293</td>\n",
       "      <td>0.000283</td>\n",
       "      <td>0.000253</td>\n",
       "      <td>0.000199</td>\n",
       "      <td>0.000170</td>\n",
       "    </tr>\n",
       "    <tr>\n",
       "      <th>DE113</th>\n",
       "      <td>0.000112</td>\n",
       "      <td>0.000116</td>\n",
       "      <td>0.000118</td>\n",
       "      <td>0.000127</td>\n",
       "      <td>0.000148</td>\n",
       "      <td>0.000211</td>\n",
       "      <td>0.000277</td>\n",
       "      <td>0.000256</td>\n",
       "      <td>0.000242</td>\n",
       "      <td>0.000234</td>\n",
       "      <td>...</td>\n",
       "      <td>58.086463</td>\n",
       "      <td>96.849095</td>\n",
       "      <td>109.377574</td>\n",
       "      <td>80.664670</td>\n",
       "      <td>27.894363</td>\n",
       "      <td>52.173012</td>\n",
       "      <td>16.110031</td>\n",
       "      <td>31.913244</td>\n",
       "      <td>11.405248</td>\n",
       "      <td>41.341189</td>\n",
       "    </tr>\n",
       "    <tr>\n",
       "      <th>DE114</th>\n",
       "      <td>0.000104</td>\n",
       "      <td>0.000107</td>\n",
       "      <td>0.000109</td>\n",
       "      <td>0.000118</td>\n",
       "      <td>0.000139</td>\n",
       "      <td>0.000198</td>\n",
       "      <td>0.000258</td>\n",
       "      <td>0.000240</td>\n",
       "      <td>0.000227</td>\n",
       "      <td>0.000218</td>\n",
       "      <td>...</td>\n",
       "      <td>0.000284</td>\n",
       "      <td>0.000289</td>\n",
       "      <td>0.000307</td>\n",
       "      <td>0.000312</td>\n",
       "      <td>0.000314</td>\n",
       "      <td>0.000310</td>\n",
       "      <td>0.000299</td>\n",
       "      <td>0.000266</td>\n",
       "      <td>0.000207</td>\n",
       "      <td>0.000177</td>\n",
       "    </tr>\n",
       "    <tr>\n",
       "      <th>DE115</th>\n",
       "      <td>0.000112</td>\n",
       "      <td>0.000116</td>\n",
       "      <td>0.000117</td>\n",
       "      <td>0.000127</td>\n",
       "      <td>0.000147</td>\n",
       "      <td>0.000210</td>\n",
       "      <td>0.000276</td>\n",
       "      <td>0.000255</td>\n",
       "      <td>0.000241</td>\n",
       "      <td>0.000233</td>\n",
       "      <td>...</td>\n",
       "      <td>46.776948</td>\n",
       "      <td>50.877269</td>\n",
       "      <td>69.144965</td>\n",
       "      <td>58.611413</td>\n",
       "      <td>131.794649</td>\n",
       "      <td>52.246476</td>\n",
       "      <td>100.988999</td>\n",
       "      <td>25.332853</td>\n",
       "      <td>67.269278</td>\n",
       "      <td>56.820005</td>\n",
       "    </tr>\n",
       "    <tr>\n",
       "      <th>...</th>\n",
       "      <td>...</td>\n",
       "      <td>...</td>\n",
       "      <td>...</td>\n",
       "      <td>...</td>\n",
       "      <td>...</td>\n",
       "      <td>...</td>\n",
       "      <td>...</td>\n",
       "      <td>...</td>\n",
       "      <td>...</td>\n",
       "      <td>...</td>\n",
       "      <td>...</td>\n",
       "      <td>...</td>\n",
       "      <td>...</td>\n",
       "      <td>...</td>\n",
       "      <td>...</td>\n",
       "      <td>...</td>\n",
       "      <td>...</td>\n",
       "      <td>...</td>\n",
       "      <td>...</td>\n",
       "      <td>...</td>\n",
       "      <td>...</td>\n",
       "    </tr>\n",
       "    <tr>\n",
       "      <th>DEG0L</th>\n",
       "      <td>0.000119</td>\n",
       "      <td>0.000123</td>\n",
       "      <td>0.000125</td>\n",
       "      <td>0.000135</td>\n",
       "      <td>0.000160</td>\n",
       "      <td>0.000230</td>\n",
       "      <td>0.000297</td>\n",
       "      <td>0.000277</td>\n",
       "      <td>0.000262</td>\n",
       "      <td>0.000252</td>\n",
       "      <td>...</td>\n",
       "      <td>0.000238</td>\n",
       "      <td>0.000242</td>\n",
       "      <td>0.000256</td>\n",
       "      <td>0.000261</td>\n",
       "      <td>0.000262</td>\n",
       "      <td>0.000258</td>\n",
       "      <td>0.000248</td>\n",
       "      <td>0.000221</td>\n",
       "      <td>0.000170</td>\n",
       "      <td>0.000146</td>\n",
       "    </tr>\n",
       "    <tr>\n",
       "      <th>DEG0M</th>\n",
       "      <td>0.000118</td>\n",
       "      <td>0.000122</td>\n",
       "      <td>0.000125</td>\n",
       "      <td>0.000134</td>\n",
       "      <td>0.000159</td>\n",
       "      <td>0.000229</td>\n",
       "      <td>0.000296</td>\n",
       "      <td>0.000275</td>\n",
       "      <td>0.000261</td>\n",
       "      <td>0.000250</td>\n",
       "      <td>...</td>\n",
       "      <td>0.000226</td>\n",
       "      <td>0.000232</td>\n",
       "      <td>0.000244</td>\n",
       "      <td>0.000254</td>\n",
       "      <td>0.000257</td>\n",
       "      <td>0.000256</td>\n",
       "      <td>0.000246</td>\n",
       "      <td>0.000219</td>\n",
       "      <td>0.000158</td>\n",
       "      <td>0.000126</td>\n",
       "    </tr>\n",
       "    <tr>\n",
       "      <th>DEG0N</th>\n",
       "      <td>0.000108</td>\n",
       "      <td>0.000111</td>\n",
       "      <td>0.000113</td>\n",
       "      <td>0.000121</td>\n",
       "      <td>0.000143</td>\n",
       "      <td>0.000204</td>\n",
       "      <td>0.000267</td>\n",
       "      <td>0.000247</td>\n",
       "      <td>0.000234</td>\n",
       "      <td>0.000225</td>\n",
       "      <td>...</td>\n",
       "      <td>32.207101</td>\n",
       "      <td>8.977479</td>\n",
       "      <td>6.539674</td>\n",
       "      <td>7.436082</td>\n",
       "      <td>32.916075</td>\n",
       "      <td>21.872373</td>\n",
       "      <td>35.514794</td>\n",
       "      <td>50.977324</td>\n",
       "      <td>57.176243</td>\n",
       "      <td>18.035777</td>\n",
       "    </tr>\n",
       "    <tr>\n",
       "      <th>DEG0P</th>\n",
       "      <td>0.000115</td>\n",
       "      <td>0.000119</td>\n",
       "      <td>0.000121</td>\n",
       "      <td>0.000130</td>\n",
       "      <td>0.000152</td>\n",
       "      <td>0.000217</td>\n",
       "      <td>0.000285</td>\n",
       "      <td>0.000263</td>\n",
       "      <td>0.000249</td>\n",
       "      <td>0.000240</td>\n",
       "      <td>...</td>\n",
       "      <td>0.000252</td>\n",
       "      <td>0.000256</td>\n",
       "      <td>0.000272</td>\n",
       "      <td>0.000277</td>\n",
       "      <td>0.000279</td>\n",
       "      <td>0.000275</td>\n",
       "      <td>0.000266</td>\n",
       "      <td>0.000237</td>\n",
       "      <td>0.000186</td>\n",
       "      <td>0.000159</td>\n",
       "    </tr>\n",
       "    <tr>\n",
       "      <th>DE91C</th>\n",
       "      <td>0.000102</td>\n",
       "      <td>0.000105</td>\n",
       "      <td>0.000108</td>\n",
       "      <td>0.000116</td>\n",
       "      <td>0.000137</td>\n",
       "      <td>0.000196</td>\n",
       "      <td>0.000255</td>\n",
       "      <td>0.000237</td>\n",
       "      <td>0.000224</td>\n",
       "      <td>0.000215</td>\n",
       "      <td>...</td>\n",
       "      <td>17.488973</td>\n",
       "      <td>6.863730</td>\n",
       "      <td>15.676443</td>\n",
       "      <td>14.773436</td>\n",
       "      <td>14.803598</td>\n",
       "      <td>15.585107</td>\n",
       "      <td>9.874521</td>\n",
       "      <td>2.821187</td>\n",
       "      <td>25.437678</td>\n",
       "      <td>48.132105</td>\n",
       "    </tr>\n",
       "  </tbody>\n",
       "</table>\n",
       "<p>401 rows × 8784 columns</p>\n",
       "</div>"
      ],
      "text/plain": [
       "           0         1         2         3         4         5         6     \\\n",
       "nuts3                                                                         \n",
       "DE111  0.000107  0.000109  0.000112  0.000121  0.000145  0.000208  0.000267   \n",
       "DE112  0.000103  0.000107  0.000108  0.000116  0.000134  0.000191  0.000253   \n",
       "DE113  0.000112  0.000116  0.000118  0.000127  0.000148  0.000211  0.000277   \n",
       "DE114  0.000104  0.000107  0.000109  0.000118  0.000139  0.000198  0.000258   \n",
       "DE115  0.000112  0.000116  0.000117  0.000127  0.000147  0.000210  0.000276   \n",
       "...         ...       ...       ...       ...       ...       ...       ...   \n",
       "DEG0L  0.000119  0.000123  0.000125  0.000135  0.000160  0.000230  0.000297   \n",
       "DEG0M  0.000118  0.000122  0.000125  0.000134  0.000159  0.000229  0.000296   \n",
       "DEG0N  0.000108  0.000111  0.000113  0.000121  0.000143  0.000204  0.000267   \n",
       "DEG0P  0.000115  0.000119  0.000121  0.000130  0.000152  0.000217  0.000285   \n",
       "DE91C  0.000102  0.000105  0.000108  0.000116  0.000137  0.000196  0.000255   \n",
       "\n",
       "           7         8         9     ...       8774       8775        8776  \\\n",
       "nuts3                                ...                                     \n",
       "DE111  0.000249  0.000237  0.000226  ...   0.000295   0.000300    0.000317   \n",
       "DE112  0.000233  0.000220  0.000213  ...   0.000266   0.000269    0.000288   \n",
       "DE113  0.000256  0.000242  0.000234  ...  58.086463  96.849095  109.377574   \n",
       "DE114  0.000240  0.000227  0.000218  ...   0.000284   0.000289    0.000307   \n",
       "DE115  0.000255  0.000241  0.000233  ...  46.776948  50.877269   69.144965   \n",
       "...         ...       ...       ...  ...        ...        ...         ...   \n",
       "DEG0L  0.000277  0.000262  0.000252  ...   0.000238   0.000242    0.000256   \n",
       "DEG0M  0.000275  0.000261  0.000250  ...   0.000226   0.000232    0.000244   \n",
       "DEG0N  0.000247  0.000234  0.000225  ...  32.207101   8.977479    6.539674   \n",
       "DEG0P  0.000263  0.000249  0.000240  ...   0.000252   0.000256    0.000272   \n",
       "DE91C  0.000237  0.000224  0.000215  ...  17.488973   6.863730   15.676443   \n",
       "\n",
       "            8777        8778       8779        8780       8781       8782  \\\n",
       "nuts3                                                                       \n",
       "DE111   0.000321    0.000323   0.000318    0.000306   0.000271   0.000208   \n",
       "DE112   0.000294    0.000296   0.000293    0.000283   0.000253   0.000199   \n",
       "DE113  80.664670   27.894363  52.173012   16.110031  31.913244  11.405248   \n",
       "DE114   0.000312    0.000314   0.000310    0.000299   0.000266   0.000207   \n",
       "DE115  58.611413  131.794649  52.246476  100.988999  25.332853  67.269278   \n",
       "...          ...         ...        ...         ...        ...        ...   \n",
       "DEG0L   0.000261    0.000262   0.000258    0.000248   0.000221   0.000170   \n",
       "DEG0M   0.000254    0.000257   0.000256    0.000246   0.000219   0.000158   \n",
       "DEG0N   7.436082   32.916075  21.872373   35.514794  50.977324  57.176243   \n",
       "DEG0P   0.000277    0.000279   0.000275    0.000266   0.000237   0.000186   \n",
       "DE91C  14.773436   14.803598  15.585107    9.874521   2.821187  25.437678   \n",
       "\n",
       "            8783  \n",
       "nuts3             \n",
       "DE111   0.000178  \n",
       "DE112   0.000170  \n",
       "DE113  41.341189  \n",
       "DE114   0.000177  \n",
       "DE115  56.820005  \n",
       "...          ...  \n",
       "DEG0L   0.000146  \n",
       "DEG0M   0.000126  \n",
       "DEG0N  18.035777  \n",
       "DEG0P   0.000159  \n",
       "DE91C  48.132105  \n",
       "\n",
       "[401 rows x 8784 columns]"
      ]
     },
     "execution_count": 27,
     "metadata": {},
     "output_type": "execute_result"
    }
   ],
   "source": [
    "df_temp_EFH = data.transpose_spatiotemporal(df_gas_EFH)\n",
    "df_temp_MFH = data.transpose_spatiotemporal(df_temp_MFH)\n",
    "df_temp_EFH"
   ]
  },
  {
   "cell_type": "markdown",
   "metadata": {
    "jukit_cell_id": "Q7IBXzJFM1"
   },
   "source": [
    "Note: It is by design that the pd.DateTimeIndex gets lost while transposing this way for a better handling of the data. The former index is being recovered, one it is transposed again."
   ]
  },
  {
   "cell_type": "code",
   "execution_count": 29,
   "metadata": {
    "jukit_cell_id": "M1PDo3Feef"
   },
   "outputs": [
    {
     "ename": "MemoryError",
     "evalue": "Unable to allocate 231. GiB for an array with shape (3522384, 8784) and data type float64",
     "output_type": "error",
     "traceback": [
      "\u001b[31m---------------------------------------------------------------------------\u001b[39m",
      "\u001b[31mMemoryError\u001b[39m                               Traceback (most recent call last)",
      "\u001b[36mCell\u001b[39m\u001b[36m \u001b[39m\u001b[32mIn[29]\u001b[39m\u001b[32m, line 2\u001b[39m\n\u001b[32m      1\u001b[39m \u001b[38;5;66;03m# BUG: too heavy on memory\u001b[39;00m\n\u001b[32m----> \u001b[39m\u001b[32m2\u001b[39m df_gas_st_EFH = \u001b[43mtemporal\u001b[49m\u001b[43m.\u001b[49m\u001b[43mdisagg_temporal\u001b[49m\u001b[43m(\u001b[49m\u001b[43mdf_gas_EFH\u001b[49m\u001b[43m,\u001b[49m\u001b[43m \u001b[49m\u001b[43mdf_temp_EFH\u001b[49m\u001b[43m,\u001b[49m\u001b[43m \u001b[49m\u001b[43mtime_indexed\u001b[49m\u001b[43m=\u001b[49m\u001b[38;5;28;43;01mTrue\u001b[39;49;00m\u001b[43m)\u001b[49m\n\u001b[32m      3\u001b[39m df_gas_st_MFH = temporal.disagg_temporal(df_gas_MFH, df_temp_MFH, time_indexed=\u001b[38;5;28;01mTrue\u001b[39;00m)\n\u001b[32m      4\u001b[39m df_gas_st_EFH\n",
      "\u001b[36mFile \u001b[39m\u001b[32m~/all/repos/demandregio/disaggregator/temporal.py:113\u001b[39m, in \u001b[36mdisagg_temporal\u001b[39m\u001b[34m(spat, temp, time_indexed, **kwargs)\u001b[39m\n\u001b[32m    111\u001b[39m temp = temp.div(temp.sum(axis=\u001b[32m1\u001b[39m), axis=\u001b[33m\"\u001b[39m\u001b[33mindex\u001b[39m\u001b[33m\"\u001b[39m)  \u001b[38;5;66;03m# Normalize\u001b[39;00m\n\u001b[32m    112\u001b[39m \u001b[38;5;28;01mif\u001b[39;00m time_indexed:\n\u001b[32m--> \u001b[39m\u001b[32m113\u001b[39m     \u001b[38;5;28;01mreturn\u001b[39;00m \u001b[43mtemp\u001b[49m\u001b[43m.\u001b[49m\u001b[43mmultiply\u001b[49m\u001b[43m(\u001b[49m\u001b[43mspat\u001b[49m\u001b[43m,\u001b[49m\u001b[43m \u001b[49m\u001b[43maxis\u001b[49m\u001b[43m=\u001b[49m\u001b[32;43m0\u001b[39;49m\u001b[43m)\u001b[49m.T\n\u001b[32m    114\u001b[39m \u001b[38;5;28;01melse\u001b[39;00m:\n\u001b[32m    115\u001b[39m     \u001b[38;5;28;01mreturn\u001b[39;00m temp.multiply(spat, axis=\u001b[32m0\u001b[39m)\n",
      "\u001b[36mFile \u001b[39m\u001b[32m~/miniforge3/envs/disag/lib/python3.11/site-packages/pandas/core/frame.py:8390\u001b[39m, in \u001b[36mDataFrame.mul\u001b[39m\u001b[34m(self, other, axis, level, fill_value)\u001b[39m\n\u001b[32m   8386\u001b[39m \u001b[38;5;129m@Appender\u001b[39m(ops.make_flex_doc(\u001b[33m\"\u001b[39m\u001b[33mmul\u001b[39m\u001b[33m\"\u001b[39m, \u001b[33m\"\u001b[39m\u001b[33mdataframe\u001b[39m\u001b[33m\"\u001b[39m))\n\u001b[32m   8387\u001b[39m \u001b[38;5;28;01mdef\u001b[39;00m\u001b[38;5;250m \u001b[39m\u001b[34mmul\u001b[39m(\n\u001b[32m   8388\u001b[39m     \u001b[38;5;28mself\u001b[39m, other, axis: Axis = \u001b[33m\"\u001b[39m\u001b[33mcolumns\u001b[39m\u001b[33m\"\u001b[39m, level=\u001b[38;5;28;01mNone\u001b[39;00m, fill_value=\u001b[38;5;28;01mNone\u001b[39;00m\n\u001b[32m   8389\u001b[39m ) -> DataFrame:\n\u001b[32m-> \u001b[39m\u001b[32m8390\u001b[39m     \u001b[38;5;28;01mreturn\u001b[39;00m \u001b[38;5;28;43mself\u001b[39;49m\u001b[43m.\u001b[49m\u001b[43m_flex_arith_method\u001b[49m\u001b[43m(\u001b[49m\n\u001b[32m   8391\u001b[39m \u001b[43m        \u001b[49m\u001b[43mother\u001b[49m\u001b[43m,\u001b[49m\u001b[43m \u001b[49m\u001b[43moperator\u001b[49m\u001b[43m.\u001b[49m\u001b[43mmul\u001b[49m\u001b[43m,\u001b[49m\u001b[43m \u001b[49m\u001b[43mlevel\u001b[49m\u001b[43m=\u001b[49m\u001b[43mlevel\u001b[49m\u001b[43m,\u001b[49m\u001b[43m \u001b[49m\u001b[43mfill_value\u001b[49m\u001b[43m=\u001b[49m\u001b[43mfill_value\u001b[49m\u001b[43m,\u001b[49m\u001b[43m \u001b[49m\u001b[43maxis\u001b[49m\u001b[43m=\u001b[49m\u001b[43maxis\u001b[49m\n\u001b[32m   8392\u001b[39m \u001b[43m    \u001b[49m\u001b[43m)\u001b[49m\n",
      "\u001b[36mFile \u001b[39m\u001b[32m~/miniforge3/envs/disag/lib/python3.11/site-packages/pandas/core/frame.py:8271\u001b[39m, in \u001b[36mDataFrame._flex_arith_method\u001b[39m\u001b[34m(self, other, op, axis, level, fill_value)\u001b[39m\n\u001b[32m   8268\u001b[39m     \u001b[38;5;28;01mraise\u001b[39;00m \u001b[38;5;167;01mNotImplementedError\u001b[39;00m(\u001b[33mf\u001b[39m\u001b[33m\"\u001b[39m\u001b[33mfill_value \u001b[39m\u001b[38;5;132;01m{\u001b[39;00mfill_value\u001b[38;5;132;01m}\u001b[39;00m\u001b[33m not supported.\u001b[39m\u001b[33m\"\u001b[39m)\n\u001b[32m   8270\u001b[39m other = ops.maybe_prepare_scalar_for_op(other, \u001b[38;5;28mself\u001b[39m.shape)\n\u001b[32m-> \u001b[39m\u001b[32m8271\u001b[39m \u001b[38;5;28mself\u001b[39m, other = \u001b[38;5;28;43mself\u001b[39;49m\u001b[43m.\u001b[49m\u001b[43m_align_for_op\u001b[49m\u001b[43m(\u001b[49m\u001b[43mother\u001b[49m\u001b[43m,\u001b[49m\u001b[43m \u001b[49m\u001b[43maxis\u001b[49m\u001b[43m,\u001b[49m\u001b[43m \u001b[49m\u001b[43mflex\u001b[49m\u001b[43m=\u001b[49m\u001b[38;5;28;43;01mTrue\u001b[39;49;00m\u001b[43m,\u001b[49m\u001b[43m \u001b[49m\u001b[43mlevel\u001b[49m\u001b[43m=\u001b[49m\u001b[43mlevel\u001b[49m\u001b[43m)\u001b[49m\n\u001b[32m   8273\u001b[39m \u001b[38;5;28;01mwith\u001b[39;00m np.errstate(\u001b[38;5;28mall\u001b[39m=\u001b[33m\"\u001b[39m\u001b[33mignore\u001b[39m\u001b[33m\"\u001b[39m):\n\u001b[32m   8274\u001b[39m     \u001b[38;5;28;01mif\u001b[39;00m \u001b[38;5;28misinstance\u001b[39m(other, DataFrame):\n\u001b[32m   8275\u001b[39m         \u001b[38;5;66;03m# Another DataFrame\u001b[39;00m\n",
      "\u001b[36mFile \u001b[39m\u001b[32m~/miniforge3/envs/disag/lib/python3.11/site-packages/pandas/core/frame.py:8218\u001b[39m, in \u001b[36mDataFrame._align_for_op\u001b[39m\u001b[34m(self, other, axis, flex, level)\u001b[39m\n\u001b[32m   8211\u001b[39m         \u001b[38;5;28;01mif\u001b[39;00m \u001b[38;5;129;01mnot\u001b[39;00m left.axes[axis].equals(right.index):\n\u001b[32m   8212\u001b[39m             \u001b[38;5;28;01mraise\u001b[39;00m \u001b[38;5;167;01mValueError\u001b[39;00m(\n\u001b[32m   8213\u001b[39m                 \u001b[33m\"\u001b[39m\u001b[33mOperands are not aligned. Do \u001b[39m\u001b[33m\"\u001b[39m\n\u001b[32m   8214\u001b[39m                 \u001b[33m\"\u001b[39m\u001b[33m`left, right = left.align(right, axis=1, copy=False)` \u001b[39m\u001b[33m\"\u001b[39m\n\u001b[32m   8215\u001b[39m                 \u001b[33m\"\u001b[39m\u001b[33mbefore operating.\u001b[39m\u001b[33m\"\u001b[39m\n\u001b[32m   8216\u001b[39m             )\n\u001b[32m-> \u001b[39m\u001b[32m8218\u001b[39m     left, right = \u001b[43mleft\u001b[49m\u001b[43m.\u001b[49m\u001b[43malign\u001b[49m\u001b[43m(\u001b[49m\n\u001b[32m   8219\u001b[39m \u001b[43m        \u001b[49m\u001b[43mright\u001b[49m\u001b[43m,\u001b[49m\n\u001b[32m   8220\u001b[39m \u001b[43m        \u001b[49m\u001b[43mjoin\u001b[49m\u001b[43m=\u001b[49m\u001b[33;43m\"\u001b[39;49m\u001b[33;43mouter\u001b[39;49m\u001b[33;43m\"\u001b[39;49m\u001b[43m,\u001b[49m\n\u001b[32m   8221\u001b[39m \u001b[43m        \u001b[49m\u001b[43maxis\u001b[49m\u001b[43m=\u001b[49m\u001b[43maxis\u001b[49m\u001b[43m,\u001b[49m\n\u001b[32m   8222\u001b[39m \u001b[43m        \u001b[49m\u001b[43mlevel\u001b[49m\u001b[43m=\u001b[49m\u001b[43mlevel\u001b[49m\u001b[43m,\u001b[49m\n\u001b[32m   8223\u001b[39m \u001b[43m        \u001b[49m\u001b[43mcopy\u001b[49m\u001b[43m=\u001b[49m\u001b[38;5;28;43;01mFalse\u001b[39;49;00m\u001b[43m,\u001b[49m\n\u001b[32m   8224\u001b[39m \u001b[43m    \u001b[49m\u001b[43m)\u001b[49m\n\u001b[32m   8225\u001b[39m     right = left._maybe_align_series_as_frame(right, axis)\n\u001b[32m   8227\u001b[39m \u001b[38;5;28;01mreturn\u001b[39;00m left, right\n",
      "\u001b[36mFile \u001b[39m\u001b[32m~/miniforge3/envs/disag/lib/python3.11/site-packages/pandas/core/generic.py:10466\u001b[39m, in \u001b[36mNDFrame.align\u001b[39m\u001b[34m(self, other, join, axis, level, copy, fill_value, method, limit, fill_axis, broadcast_axis)\u001b[39m\n\u001b[32m  10453\u001b[39m     left, _right, join_index = \u001b[38;5;28mself\u001b[39m._align_frame(\n\u001b[32m  10454\u001b[39m         other,\n\u001b[32m  10455\u001b[39m         join=join,\n\u001b[32m   (...)\u001b[39m\u001b[32m  10462\u001b[39m         fill_axis=fill_axis,\n\u001b[32m  10463\u001b[39m     )\n\u001b[32m  10465\u001b[39m \u001b[38;5;28;01melif\u001b[39;00m \u001b[38;5;28misinstance\u001b[39m(other, ABCSeries):\n\u001b[32m> \u001b[39m\u001b[32m10466\u001b[39m     left, _right, join_index = \u001b[38;5;28;43mself\u001b[39;49m\u001b[43m.\u001b[49m\u001b[43m_align_series\u001b[49m\u001b[43m(\u001b[49m\n\u001b[32m  10467\u001b[39m \u001b[43m        \u001b[49m\u001b[43mother\u001b[49m\u001b[43m,\u001b[49m\n\u001b[32m  10468\u001b[39m \u001b[43m        \u001b[49m\u001b[43mjoin\u001b[49m\u001b[43m=\u001b[49m\u001b[43mjoin\u001b[49m\u001b[43m,\u001b[49m\n\u001b[32m  10469\u001b[39m \u001b[43m        \u001b[49m\u001b[43maxis\u001b[49m\u001b[43m=\u001b[49m\u001b[43maxis\u001b[49m\u001b[43m,\u001b[49m\n\u001b[32m  10470\u001b[39m \u001b[43m        \u001b[49m\u001b[43mlevel\u001b[49m\u001b[43m=\u001b[49m\u001b[43mlevel\u001b[49m\u001b[43m,\u001b[49m\n\u001b[32m  10471\u001b[39m \u001b[43m        \u001b[49m\u001b[43mcopy\u001b[49m\u001b[43m=\u001b[49m\u001b[43mcopy\u001b[49m\u001b[43m,\u001b[49m\n\u001b[32m  10472\u001b[39m \u001b[43m        \u001b[49m\u001b[43mfill_value\u001b[49m\u001b[43m=\u001b[49m\u001b[43mfill_value\u001b[49m\u001b[43m,\u001b[49m\n\u001b[32m  10473\u001b[39m \u001b[43m        \u001b[49m\u001b[43mmethod\u001b[49m\u001b[43m=\u001b[49m\u001b[43mmethod\u001b[49m\u001b[43m,\u001b[49m\n\u001b[32m  10474\u001b[39m \u001b[43m        \u001b[49m\u001b[43mlimit\u001b[49m\u001b[43m=\u001b[49m\u001b[43mlimit\u001b[49m\u001b[43m,\u001b[49m\n\u001b[32m  10475\u001b[39m \u001b[43m        \u001b[49m\u001b[43mfill_axis\u001b[49m\u001b[43m=\u001b[49m\u001b[43mfill_axis\u001b[49m\u001b[43m,\u001b[49m\n\u001b[32m  10476\u001b[39m \u001b[43m    \u001b[49m\u001b[43m)\u001b[49m\n\u001b[32m  10477\u001b[39m \u001b[38;5;28;01melse\u001b[39;00m:  \u001b[38;5;66;03m# pragma: no cover\u001b[39;00m\n\u001b[32m  10478\u001b[39m     \u001b[38;5;28;01mraise\u001b[39;00m \u001b[38;5;167;01mTypeError\u001b[39;00m(\u001b[33mf\u001b[39m\u001b[33m\"\u001b[39m\u001b[33munsupported type: \u001b[39m\u001b[38;5;132;01m{\u001b[39;00m\u001b[38;5;28mtype\u001b[39m(other)\u001b[38;5;132;01m}\u001b[39;00m\u001b[33m\"\u001b[39m)\n",
      "\u001b[36mFile \u001b[39m\u001b[32m~/miniforge3/envs/disag/lib/python3.11/site-packages/pandas/core/generic.py:10592\u001b[39m, in \u001b[36mNDFrame._align_series\u001b[39m\u001b[34m(self, other, join, axis, level, copy, fill_value, method, limit, fill_axis)\u001b[39m\n\u001b[32m  10590\u001b[39m     left = \u001b[38;5;28mself\u001b[39m.copy(deep=copy)\n\u001b[32m  10591\u001b[39m \u001b[38;5;28;01melse\u001b[39;00m:\n\u001b[32m> \u001b[39m\u001b[32m10592\u001b[39m     new_mgr = \u001b[38;5;28;43mself\u001b[39;49m\u001b[43m.\u001b[49m\u001b[43m_mgr\u001b[49m\u001b[43m.\u001b[49m\u001b[43mreindex_indexer\u001b[49m\u001b[43m(\u001b[49m\u001b[43mjoin_index\u001b[49m\u001b[43m,\u001b[49m\u001b[43m \u001b[49m\u001b[43mlidx\u001b[49m\u001b[43m,\u001b[49m\u001b[43m \u001b[49m\u001b[43maxis\u001b[49m\u001b[43m=\u001b[49m\u001b[32;43m1\u001b[39;49m\u001b[43m,\u001b[49m\u001b[43m \u001b[49m\u001b[43mcopy\u001b[49m\u001b[43m=\u001b[49m\u001b[43mcopy\u001b[49m\u001b[43m)\u001b[49m\n\u001b[32m  10593\u001b[39m     left = \u001b[38;5;28mself\u001b[39m._constructor_from_mgr(new_mgr, axes=new_mgr.axes)\n\u001b[32m  10595\u001b[39m right = other._reindex_indexer(join_index, ridx, copy)\n",
      "\u001b[36mFile \u001b[39m\u001b[32m~/miniforge3/envs/disag/lib/python3.11/site-packages/pandas/core/internals/managers.py:687\u001b[39m, in \u001b[36mBaseBlockManager.reindex_indexer\u001b[39m\u001b[34m(self, new_axis, indexer, axis, fill_value, allow_dups, copy, only_slice, use_na_proxy)\u001b[39m\n\u001b[32m    680\u001b[39m     new_blocks = \u001b[38;5;28mself\u001b[39m._slice_take_blocks_ax0(\n\u001b[32m    681\u001b[39m         indexer,\n\u001b[32m    682\u001b[39m         fill_value=fill_value,\n\u001b[32m    683\u001b[39m         only_slice=only_slice,\n\u001b[32m    684\u001b[39m         use_na_proxy=use_na_proxy,\n\u001b[32m    685\u001b[39m     )\n\u001b[32m    686\u001b[39m \u001b[38;5;28;01melse\u001b[39;00m:\n\u001b[32m--> \u001b[39m\u001b[32m687\u001b[39m     new_blocks = \u001b[43m[\u001b[49m\n\u001b[32m    688\u001b[39m \u001b[43m        \u001b[49m\u001b[43mblk\u001b[49m\u001b[43m.\u001b[49m\u001b[43mtake_nd\u001b[49m\u001b[43m(\u001b[49m\n\u001b[32m    689\u001b[39m \u001b[43m            \u001b[49m\u001b[43mindexer\u001b[49m\u001b[43m,\u001b[49m\n\u001b[32m    690\u001b[39m \u001b[43m            \u001b[49m\u001b[43maxis\u001b[49m\u001b[43m=\u001b[49m\u001b[32;43m1\u001b[39;49m\u001b[43m,\u001b[49m\n\u001b[32m    691\u001b[39m \u001b[43m            \u001b[49m\u001b[43mfill_value\u001b[49m\u001b[43m=\u001b[49m\u001b[43m(\u001b[49m\n\u001b[32m    692\u001b[39m \u001b[43m                \u001b[49m\u001b[43mfill_value\u001b[49m\u001b[43m \u001b[49m\u001b[38;5;28;43;01mif\u001b[39;49;00m\u001b[43m \u001b[49m\u001b[43mfill_value\u001b[49m\u001b[43m \u001b[49m\u001b[38;5;129;43;01mis\u001b[39;49;00m\u001b[43m \u001b[49m\u001b[38;5;129;43;01mnot\u001b[39;49;00m\u001b[43m \u001b[49m\u001b[38;5;28;43;01mNone\u001b[39;49;00m\u001b[43m \u001b[49m\u001b[38;5;28;43;01melse\u001b[39;49;00m\u001b[43m \u001b[49m\u001b[43mblk\u001b[49m\u001b[43m.\u001b[49m\u001b[43mfill_value\u001b[49m\n\u001b[32m    693\u001b[39m \u001b[43m            \u001b[49m\u001b[43m)\u001b[49m\u001b[43m,\u001b[49m\n\u001b[32m    694\u001b[39m \u001b[43m        \u001b[49m\u001b[43m)\u001b[49m\n\u001b[32m    695\u001b[39m \u001b[43m        \u001b[49m\u001b[38;5;28;43;01mfor\u001b[39;49;00m\u001b[43m \u001b[49m\u001b[43mblk\u001b[49m\u001b[43m \u001b[49m\u001b[38;5;129;43;01min\u001b[39;49;00m\u001b[43m \u001b[49m\u001b[38;5;28;43mself\u001b[39;49m\u001b[43m.\u001b[49m\u001b[43mblocks\u001b[49m\n\u001b[32m    696\u001b[39m \u001b[43m    \u001b[49m\u001b[43m]\u001b[49m\n\u001b[32m    698\u001b[39m new_axes = \u001b[38;5;28mlist\u001b[39m(\u001b[38;5;28mself\u001b[39m.axes)\n\u001b[32m    699\u001b[39m new_axes[axis] = new_axis\n",
      "\u001b[36mFile \u001b[39m\u001b[32m~/miniforge3/envs/disag/lib/python3.11/site-packages/pandas/core/internals/managers.py:688\u001b[39m, in \u001b[36m<listcomp>\u001b[39m\u001b[34m(.0)\u001b[39m\n\u001b[32m    680\u001b[39m     new_blocks = \u001b[38;5;28mself\u001b[39m._slice_take_blocks_ax0(\n\u001b[32m    681\u001b[39m         indexer,\n\u001b[32m    682\u001b[39m         fill_value=fill_value,\n\u001b[32m    683\u001b[39m         only_slice=only_slice,\n\u001b[32m    684\u001b[39m         use_na_proxy=use_na_proxy,\n\u001b[32m    685\u001b[39m     )\n\u001b[32m    686\u001b[39m \u001b[38;5;28;01melse\u001b[39;00m:\n\u001b[32m    687\u001b[39m     new_blocks = [\n\u001b[32m--> \u001b[39m\u001b[32m688\u001b[39m         \u001b[43mblk\u001b[49m\u001b[43m.\u001b[49m\u001b[43mtake_nd\u001b[49m\u001b[43m(\u001b[49m\n\u001b[32m    689\u001b[39m \u001b[43m            \u001b[49m\u001b[43mindexer\u001b[49m\u001b[43m,\u001b[49m\n\u001b[32m    690\u001b[39m \u001b[43m            \u001b[49m\u001b[43maxis\u001b[49m\u001b[43m=\u001b[49m\u001b[32;43m1\u001b[39;49m\u001b[43m,\u001b[49m\n\u001b[32m    691\u001b[39m \u001b[43m            \u001b[49m\u001b[43mfill_value\u001b[49m\u001b[43m=\u001b[49m\u001b[43m(\u001b[49m\n\u001b[32m    692\u001b[39m \u001b[43m                \u001b[49m\u001b[43mfill_value\u001b[49m\u001b[43m \u001b[49m\u001b[38;5;28;43;01mif\u001b[39;49;00m\u001b[43m \u001b[49m\u001b[43mfill_value\u001b[49m\u001b[43m \u001b[49m\u001b[38;5;129;43;01mis\u001b[39;49;00m\u001b[43m \u001b[49m\u001b[38;5;129;43;01mnot\u001b[39;49;00m\u001b[43m \u001b[49m\u001b[38;5;28;43;01mNone\u001b[39;49;00m\u001b[43m \u001b[49m\u001b[38;5;28;43;01melse\u001b[39;49;00m\u001b[43m \u001b[49m\u001b[43mblk\u001b[49m\u001b[43m.\u001b[49m\u001b[43mfill_value\u001b[49m\n\u001b[32m    693\u001b[39m \u001b[43m            \u001b[49m\u001b[43m)\u001b[49m\u001b[43m,\u001b[49m\n\u001b[32m    694\u001b[39m \u001b[43m        \u001b[49m\u001b[43m)\u001b[49m\n\u001b[32m    695\u001b[39m         \u001b[38;5;28;01mfor\u001b[39;00m blk \u001b[38;5;129;01min\u001b[39;00m \u001b[38;5;28mself\u001b[39m.blocks\n\u001b[32m    696\u001b[39m     ]\n\u001b[32m    698\u001b[39m new_axes = \u001b[38;5;28mlist\u001b[39m(\u001b[38;5;28mself\u001b[39m.axes)\n\u001b[32m    699\u001b[39m new_axes[axis] = new_axis\n",
      "\u001b[36mFile \u001b[39m\u001b[32m~/miniforge3/envs/disag/lib/python3.11/site-packages/pandas/core/internals/blocks.py:1373\u001b[39m, in \u001b[36mBlock.take_nd\u001b[39m\u001b[34m(self, indexer, axis, new_mgr_locs, fill_value)\u001b[39m\n\u001b[32m   1370\u001b[39m     allow_fill = \u001b[38;5;28;01mTrue\u001b[39;00m\n\u001b[32m   1372\u001b[39m \u001b[38;5;66;03m# Note: algos.take_nd has upcast logic similar to coerce_to_target_dtype\u001b[39;00m\n\u001b[32m-> \u001b[39m\u001b[32m1373\u001b[39m new_values = \u001b[43malgos\u001b[49m\u001b[43m.\u001b[49m\u001b[43mtake_nd\u001b[49m\u001b[43m(\u001b[49m\n\u001b[32m   1374\u001b[39m \u001b[43m    \u001b[49m\u001b[43mvalues\u001b[49m\u001b[43m,\u001b[49m\u001b[43m \u001b[49m\u001b[43mindexer\u001b[49m\u001b[43m,\u001b[49m\u001b[43m \u001b[49m\u001b[43maxis\u001b[49m\u001b[43m=\u001b[49m\u001b[43maxis\u001b[49m\u001b[43m,\u001b[49m\u001b[43m \u001b[49m\u001b[43mallow_fill\u001b[49m\u001b[43m=\u001b[49m\u001b[43mallow_fill\u001b[49m\u001b[43m,\u001b[49m\u001b[43m \u001b[49m\u001b[43mfill_value\u001b[49m\u001b[43m=\u001b[49m\u001b[43mfill_value\u001b[49m\n\u001b[32m   1375\u001b[39m \u001b[43m\u001b[49m\u001b[43m)\u001b[49m\n\u001b[32m   1377\u001b[39m \u001b[38;5;66;03m# Called from three places in managers, all of which satisfy\u001b[39;00m\n\u001b[32m   1378\u001b[39m \u001b[38;5;66;03m#  these assertions\u001b[39;00m\n\u001b[32m   1379\u001b[39m \u001b[38;5;28;01mif\u001b[39;00m \u001b[38;5;28misinstance\u001b[39m(\u001b[38;5;28mself\u001b[39m, ExtensionBlock):\n\u001b[32m   1380\u001b[39m     \u001b[38;5;66;03m# NB: in this case, the 'axis' kwarg will be ignored in the\u001b[39;00m\n\u001b[32m   1381\u001b[39m     \u001b[38;5;66;03m#  algos.take_nd call above.\u001b[39;00m\n",
      "\u001b[36mFile \u001b[39m\u001b[32m~/miniforge3/envs/disag/lib/python3.11/site-packages/pandas/core/array_algos/take.py:117\u001b[39m, in \u001b[36mtake_nd\u001b[39m\u001b[34m(arr, indexer, axis, fill_value, allow_fill)\u001b[39m\n\u001b[32m    114\u001b[39m     \u001b[38;5;28;01mreturn\u001b[39;00m arr.take(indexer, fill_value=fill_value, allow_fill=allow_fill)\n\u001b[32m    116\u001b[39m arr = np.asarray(arr)\n\u001b[32m--> \u001b[39m\u001b[32m117\u001b[39m \u001b[38;5;28;01mreturn\u001b[39;00m \u001b[43m_take_nd_ndarray\u001b[49m\u001b[43m(\u001b[49m\u001b[43marr\u001b[49m\u001b[43m,\u001b[49m\u001b[43m \u001b[49m\u001b[43mindexer\u001b[49m\u001b[43m,\u001b[49m\u001b[43m \u001b[49m\u001b[43maxis\u001b[49m\u001b[43m,\u001b[49m\u001b[43m \u001b[49m\u001b[43mfill_value\u001b[49m\u001b[43m,\u001b[49m\u001b[43m \u001b[49m\u001b[43mallow_fill\u001b[49m\u001b[43m)\u001b[49m\n",
      "\u001b[36mFile \u001b[39m\u001b[32m~/miniforge3/envs/disag/lib/python3.11/site-packages/pandas/core/array_algos/take.py:157\u001b[39m, in \u001b[36m_take_nd_ndarray\u001b[39m\u001b[34m(arr, indexer, axis, fill_value, allow_fill)\u001b[39m\n\u001b[32m    155\u001b[39m     out = np.empty(out_shape, dtype=dtype, order=\u001b[33m\"\u001b[39m\u001b[33mF\u001b[39m\u001b[33m\"\u001b[39m)\n\u001b[32m    156\u001b[39m \u001b[38;5;28;01melse\u001b[39;00m:\n\u001b[32m--> \u001b[39m\u001b[32m157\u001b[39m     out = np.empty(out_shape, dtype=dtype)\n\u001b[32m    159\u001b[39m func = _get_take_nd_function(\n\u001b[32m    160\u001b[39m     arr.ndim, arr.dtype, out.dtype, axis=axis, mask_info=mask_info\n\u001b[32m    161\u001b[39m )\n\u001b[32m    162\u001b[39m func(arr, indexer, out, fill_value)\n",
      "\u001b[31mMemoryError\u001b[39m: Unable to allocate 231. GiB for an array with shape (3522384, 8784) and data type float64"
     ]
    }
   ],
   "source": [
    "# BUG: too heavy on memory\n",
    "df_gas_st_EFH = temporal.disagg_temporal(df_gas_EFH, df_temp_EFH, time_indexed=True)\n",
    "df_gas_st_MFH = temporal.disagg_temporal(df_gas_MFH, df_temp_MFH, time_indexed=True)\n",
    "df_gas_st_EFH"
   ]
  },
  {
   "cell_type": "markdown",
   "metadata": {
    "jukit_cell_id": "sniOhPO3n4"
   },
   "source": [
    "Sum these consumption for both building types up:"
   ]
  },
  {
   "cell_type": "code",
   "execution_count": null,
   "metadata": {
    "jukit_cell_id": "VCr8xkTegl"
   },
   "outputs": [],
   "source": [
    "df_gas_st = df_gas_st_EFH + df_gas_st_MFH\n",
    "df_gas_st"
   ]
  },
  {
   "cell_type": "markdown",
   "metadata": {
    "jukit_cell_id": "yG1TWXIrUl"
   },
   "source": [
    "Instead of selecting one specific region, this time we choose to sum it up for the entire country:"
   ]
  },
  {
   "cell_type": "code",
   "execution_count": null,
   "metadata": {
    "jukit_cell_id": "QCHywPHbiQ"
   },
   "outputs": [],
   "source": [
    "ser_gas = df_gas_st.sum(axis=1)"
   ]
  },
  {
   "cell_type": "markdown",
   "metadata": {
    "jukit_cell_id": "Tx9Nt07Y6z"
   },
   "source": [
    "Now we can plot this one again as well:"
   ]
  },
  {
   "cell_type": "code",
   "execution_count": null,
   "metadata": {
    "jukit_cell_id": "jmui5Wzjd6"
   },
   "outputs": [],
   "source": [
    "fig, ax = plot.heatmap_timeseries(ser_gas / 1e3, clabel=\"[GWh]\")\n",
    "ax[0, 0].set_title(\"Gas Load Private Households Germany\")"
   ]
  },
  {
   "cell_type": "code",
   "execution_count": null,
   "metadata": {
    "jukit_cell_id": "aASSdcnDmP"
   },
   "outputs": [],
   "source": []
  }
 ],
 "metadata": {
  "anaconda-cloud": {},
  "kernelspec": {
   "display_name": "Python 3 (ipykernel)",
   "language": "python",
   "name": "python3"
  },
  "language_info": {
   "codemirror_mode": {
    "name": "ipython",
    "version": 3
   },
   "file_extension": ".py",
   "mimetype": "text/x-python",
   "name": "python",
   "nbconvert_exporter": "python",
   "pygments_lexer": "ipython3",
   "version": "3.11.13"
  }
 },
 "nbformat": 4,
 "nbformat_minor": 4
}
